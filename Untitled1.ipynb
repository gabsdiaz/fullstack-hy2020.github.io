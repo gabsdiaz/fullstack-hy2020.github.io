{
  "nbformat": 4,
  "nbformat_minor": 0,
  "metadata": {
    "colab": {
      "provenance": [],
      "gpuType": "T4",
      "authorship_tag": "ABX9TyMpaTfPwlIjKdrQgNDxz8St",
      "include_colab_link": true
    },
    "kernelspec": {
      "name": "python3",
      "display_name": "Python 3"
    },
    "language_info": {
      "name": "python"
    },
    "accelerator": "GPU"
  },
  "cells": [
    {
      "cell_type": "markdown",
      "metadata": {
        "id": "view-in-github",
        "colab_type": "text"
      },
      "source": [
        "<a href=\"https://colab.research.google.com/github/gabsdiaz/fullstack-hy2020.github.io/blob/master/Untitled1.ipynb\" target=\"_parent\"><img src=\"https://colab.research.google.com/assets/colab-badge.svg\" alt=\"Open In Colab\"/></a>"
      ]
    },
    {
      "cell_type": "code",
      "execution_count": 1,
      "metadata": {
        "colab": {
          "base_uri": "https://localhost:8080/"
        },
        "id": "NHrBrn71507N",
        "outputId": "a357f3eb-9645-44de-a49b-218d2d840d2d"
      },
      "outputs": [
        {
          "output_type": "stream",
          "name": "stdout",
          "text": [
            "Downloading from https://www.kaggle.com/api/v1/datasets/download/koryakinp/chess-positions?dataset_version_number=1...\n"
          ]
        },
        {
          "output_type": "stream",
          "name": "stderr",
          "text": [
            "100%|██████████| 4.01G/4.01G [00:53<00:00, 80.3MB/s]"
          ]
        },
        {
          "output_type": "stream",
          "name": "stdout",
          "text": [
            "Extracting files...\n"
          ]
        },
        {
          "output_type": "stream",
          "name": "stderr",
          "text": [
            "\n"
          ]
        },
        {
          "output_type": "stream",
          "name": "stdout",
          "text": [
            "Path to dataset files: /root/.cache/kagglehub/datasets/koryakinp/chess-positions/versions/1\n"
          ]
        }
      ],
      "source": [
        "import kagglehub\n",
        "\n",
        "# Download latest version\n",
        "path = kagglehub.dataset_download(\"koryakinp/chess-positions\")\n",
        "\n",
        "\n",
        "print(\"Path to dataset files:\", path)"
      ]
    },
    {
      "cell_type": "code",
      "source": [
        "import os\n",
        "\n",
        "ruta_dataset = \"/root/.cache/kagglehub/datasets/koryakinp/chess-positions/versions/1\"\n",
        "\n",
        "# Mostrar subcarpetas\n",
        "print(\"Carpetas dentro del dataset:\")\n",
        "print(os.listdir(ruta_dataset))"
      ],
      "metadata": {
        "colab": {
          "base_uri": "https://localhost:8080/"
        },
        "id": "Ee9kvPKN6gqW",
        "outputId": "e0ac9ef6-f050-46f9-d641-e06c8352aaf0"
      },
      "execution_count": 2,
      "outputs": [
        {
          "output_type": "stream",
          "name": "stdout",
          "text": [
            "Carpetas dentro del dataset:\n",
            "['train', 'test', 'dataset']\n"
          ]
        }
      ]
    },
    {
      "cell_type": "code",
      "source": [
        "from pathlib import Path\n",
        "\n",
        "ruta_dataset = \"/root/.cache/kagglehub/datasets/koryakinp/chess-positions/versions/1\"\n",
        "\n",
        "# Buscar recursivamente .png o .jpeg\n",
        "imagenes = list(Path(ruta_dataset).rglob(\"*.png\")) + list(Path(ruta_dataset).rglob(\"*.jpeg\"))\n",
        "\n",
        "print(f\"✅ Total de imágenes encontradas: {len(imagenes)}\")\n",
        "print(\"🔍 Ejemplos:\")\n",
        "for img in imagenes[:5]:\n",
        "    print(img)\n"
      ],
      "metadata": {
        "colab": {
          "base_uri": "https://localhost:8080/"
        },
        "id": "698R1LwC6jvM",
        "outputId": "766cb1c2-bd8c-4d9f-a439-42bffdd9e0af"
      },
      "execution_count": 3,
      "outputs": [
        {
          "output_type": "stream",
          "name": "stdout",
          "text": [
            "✅ Total de imágenes encontradas: 200000\n",
            "🔍 Ejemplos:\n",
            "/root/.cache/kagglehub/datasets/koryakinp/chess-positions/versions/1/train/1br1K1k1-7R-5N1p-1r6-3BB1Pr-8-8-6n1.jpeg\n",
            "/root/.cache/kagglehub/datasets/koryakinp/chess-positions/versions/1/train/N7-8-Kp6-8-8-8-5k2-2B5.jpeg\n",
            "/root/.cache/kagglehub/datasets/koryakinp/chess-positions/versions/1/train/6k1-KRB5-2q2b2-3P4-8-N1Q5-8-Q6r.jpeg\n",
            "/root/.cache/kagglehub/datasets/koryakinp/chess-positions/versions/1/train/8-2q5-1r6-5Pp1-8-3k2p1-8-2Kr1N2.jpeg\n",
            "/root/.cache/kagglehub/datasets/koryakinp/chess-positions/versions/1/train/1B6-3r1R2-K5nP-1P3R1N-r7-3r4-1k6-6NN.jpeg\n"
          ]
        }
      ]
    },
    {
      "cell_type": "code",
      "source": [
        "pip install pillow tqdm"
      ],
      "metadata": {
        "colab": {
          "base_uri": "https://localhost:8080/"
        },
        "id": "nfv0-7AK6msW",
        "outputId": "9c93dfaa-b8e1-4b39-a0ff-b7b3ca0de165"
      },
      "execution_count": 4,
      "outputs": [
        {
          "output_type": "stream",
          "name": "stdout",
          "text": [
            "Requirement already satisfied: pillow in /usr/local/lib/python3.11/dist-packages (11.2.1)\n",
            "Requirement already satisfied: tqdm in /usr/local/lib/python3.11/dist-packages (4.67.1)\n"
          ]
        }
      ]
    },
    {
      "cell_type": "code",
      "source": [
        "import os\n",
        "from PIL import Image\n",
        "from tqdm import tqdm\n",
        "\n",
        "# 📂 Rutas\n",
        "INPUT_FOLDER = \"/root/.cache/kagglehub/datasets/koryakinp/chess-positions/versions/1/train\"\n",
        "OUTPUT_FOLDER = \"/kaggle/working/dataset_casillas_piezas\"  # o donde prefieras\n",
        "\n",
        "# ♟️ Clases válidas (12 piezas, sin casillas vacías)\n",
        "PIECE_CLASSES = list(\"PNBRQKpnbrqk\")\n",
        "\n",
        "# 📁 Crear carpetas por clase\n",
        "for piece in PIECE_CLASSES:\n",
        "    os.makedirs(os.path.join(OUTPUT_FOLDER, piece), exist_ok=True)\n",
        "\n",
        "# 📌 Expandir una fila FEN como lista de 8 elementos\n",
        "def expand_fen_row(row):\n",
        "    expanded = \"\"\n",
        "    for char in row:\n",
        "        if char.isdigit():\n",
        "            expanded += \" \" * int(char)\n",
        "        else:\n",
        "            expanded += char\n",
        "    return expanded\n",
        "\n",
        "# 🔪 Corte de casillas con etiquetas\n",
        "square_size = 50\n",
        "errores = 0\n",
        "total = 0\n",
        "\n",
        "for filename in tqdm(os.listdir(INPUT_FOLDER)):\n",
        "    if not filename.endswith(\".jpeg\"):\n",
        "        continue\n",
        "\n",
        "    total += 1\n",
        "\n",
        "    try:\n",
        "        # 🔤 FEN desde nombre de archivo\n",
        "        fen = filename[:-5].replace(\"-\", \"/\")\n",
        "        fen_rows = fen.split(\"/\")\n",
        "\n",
        "        # 🧩 Reconstrucción de matriz 8x8\n",
        "        board = []\n",
        "        for row in fen_rows:\n",
        "            board.append(list(expand_fen_row(row)))\n",
        "\n",
        "        # 📷 Cargar imagen\n",
        "        image_path = os.path.join(INPUT_FOLDER, filename)\n",
        "        img = Image.open(image_path)\n",
        "\n",
        "        # 🎯 Cortar casillas y guardar piezas\n",
        "        for i in range(8):\n",
        "            for j in range(8):\n",
        "                piece = board[i][j]\n",
        "                if piece == \" \" or piece not in PIECE_CLASSES:\n",
        "                    continue\n",
        "\n",
        "                left = j * square_size\n",
        "                top = i * square_size\n",
        "                right = left + square_size\n",
        "                bottom = top + square_size\n",
        "\n",
        "                square = img.crop((left, top, right, bottom))\n",
        "\n",
        "                out_path = os.path.join(\n",
        "                    OUTPUT_FOLDER, piece, f\"{filename[:-5]}_{i}_{j}.png\"\n",
        "                )\n",
        "                square.save(out_path)\n",
        "    except:\n",
        "        errores += 1\n",
        "\n",
        "print(f\"✅ Proceso finalizado: {total} imágenes procesadas\")\n",
        "print(f\"⚠️ {errores} imágenes fallaron al procesarse\")\n"
      ],
      "metadata": {
        "colab": {
          "base_uri": "https://localhost:8080/"
        },
        "id": "UuC84VVD6qGD",
        "outputId": "23e744f1-8cc4-4952-9246-e32f9f48fed8"
      },
      "execution_count": 5,
      "outputs": [
        {
          "output_type": "stream",
          "name": "stderr",
          "text": [
            "100%|██████████| 80000/80000 [11:12<00:00, 118.90it/s]"
          ]
        },
        {
          "output_type": "stream",
          "name": "stdout",
          "text": [
            "✅ Proceso finalizado: 80000 imágenes procesadas\n",
            "⚠️ 0 imágenes fallaron al procesarse\n"
          ]
        },
        {
          "output_type": "stream",
          "name": "stderr",
          "text": [
            "\n"
          ]
        }
      ]
    },
    {
      "cell_type": "code",
      "source": [
        "import os\n",
        "import matplotlib.pyplot as plt\n",
        "\n",
        "# 📂 Ruta donde guardaste las piezas\n",
        "DATASET_PATH = \"/kaggle/working/dataset_casillas_piezas\"  # ajusta si la ruta es distinta\n",
        "\n",
        "# 📊 Conteo por clase\n",
        "conteo_piezas = {}\n",
        "for clase in sorted(os.listdir(DATASET_PATH)):\n",
        "    carpeta = os.path.join(DATASET_PATH, clase)\n",
        "    if os.path.isdir(carpeta):\n",
        "        conteo_piezas[clase] = len(os.listdir(carpeta))\n",
        "\n",
        "# 📉 Visualización\n",
        "plt.figure(figsize=(10, 6))\n",
        "plt.bar(conteo_piezas.keys(), conteo_piezas.values(), color='slateblue')\n",
        "plt.title(\"Cantidad de casillas por clase (pieza)\")\n",
        "plt.xlabel(\"Clase (pieza)\")\n",
        "plt.ylabel(\"Número de imágenes\")\n",
        "plt.grid(axis=\"y\")\n",
        "plt.show()\n"
      ],
      "metadata": {
        "colab": {
          "base_uri": "https://localhost:8080/",
          "height": 564
        },
        "id": "7PWz0GiO6woY",
        "outputId": "2cc09519-eb62-44fd-9f6e-a1124d51e941"
      },
      "execution_count": 6,
      "outputs": [
        {
          "output_type": "display_data",
          "data": {
            "text/plain": [
              "<Figure size 1000x600 with 1 Axes>"
            ],
            "image/png": "[encoded data removed]"
          },
          "metadata": {}
        }
      ]
    },
    {
      "cell_type": "code",
      "source": [
        "from tensorflow.keras.preprocessing.image import ImageDataGenerator\n",
        "\n",
        "# 📁 Ruta al dataset generado\n",
        "DATASET_DIR = \"/kaggle/working/dataset_casillas_piezas\"\n",
        "\n",
        "# 🧪 División: 80% train, 10% val, 10% test\n",
        "datagen = ImageDataGenerator(\n",
        "    rescale=1.0 / 255,\n",
        "    validation_split=0.2  # 10% val, 10% test manual después\n",
        ")\n",
        "\n",
        "BATCH_SIZE = 32\n",
        "TARGET_SIZE = (50, 50)\n",
        "\n",
        "# 🚂 Conjunto de entrenamiento\n",
        "train_gen = datagen.flow_from_directory(\n",
        "    DATASET_DIR,\n",
        "    target_size=TARGET_SIZE,\n",
        "    color_mode=\"rgb\",\n",
        "    batch_size=BATCH_SIZE,\n",
        "    class_mode=\"categorical\",\n",
        "    subset=\"training\",\n",
        "    shuffle=True\n",
        ")\n",
        "\n",
        "# 🧪 Conjunto de validación\n",
        "val_gen = datagen.flow_from_directory(\n",
        "    DATASET_DIR,\n",
        "    target_size=TARGET_SIZE,\n",
        "    color_mode=\"rgb\",\n",
        "    batch_size=BATCH_SIZE,\n",
        "    class_mode=\"categorical\",\n",
        "    subset=\"validation\",\n",
        "    shuffle=True\n",
        ")\n",
        "\n",
        "# 🏷️ Etiquetas asignadas a cada clase\n",
        "print(\"Índice de clases:\", train_gen.class_indices)"
      ],
      "metadata": {
        "colab": {
          "base_uri": "https://localhost:8080/"
        },
        "id": "E3eEQu6b96XQ",
        "outputId": "a9a176ed-6ad1-48a0-8c5a-1dfe06a73073"
      },
      "execution_count": 7,
      "outputs": [
        {
          "output_type": "stream",
          "name": "stdout",
          "text": [
            "Found 640346 images belonging to 12 classes.\n",
            "Found 160080 images belonging to 12 classes.\n",
            "Índice de clases: {'B': 0, 'K': 1, 'N': 2, 'P': 3, 'Q': 4, 'R': 5, 'b': 6, 'k': 7, 'n': 8, 'p': 9, 'q': 10, 'r': 11}\n"
          ]
        }
      ]
    },
    {
      "cell_type": "code",
      "source": [
        "import tensorflow as tf\n",
        "from tensorflow.keras import layers, models\n",
        "\n",
        "model = models.Sequential([\n",
        "    layers.Conv2D(32, (3, 3), activation='relu', input_shape=(50, 50, 3)),\n",
        "    layers.MaxPooling2D((2, 2)),\n",
        "\n",
        "    layers.Conv2D(64, (3, 3), activation='relu'),\n",
        "    layers.MaxPooling2D((2, 2)),\n",
        "\n",
        "    layers.Conv2D(128, (3, 3), activation='relu'),\n",
        "    layers.MaxPooling2D((2, 2)),\n",
        "\n",
        "    layers.Flatten(),\n",
        "    layers.Dense(128, activation='relu'),\n",
        "    layers.Dropout(0.5),\n",
        "    layers.Dense(12, activation='softmax')  # 12 clases\n",
        "])\n",
        "\n",
        "model.compile(optimizer='adam',\n",
        "              loss='categorical_crossentropy',\n",
        "              metrics=['accuracy'])\n",
        "\n",
        "model.summary()\n"
      ],
      "metadata": {
        "colab": {
          "base_uri": "https://localhost:8080/",
          "height": 531
        },
        "id": "WnJ5NQVS98ug",
        "outputId": "8b5f7c01-276f-4bba-834f-3633d281362e"
      },
      "execution_count": 8,
      "outputs": [
        {
          "output_type": "stream",
          "name": "stderr",
          "text": [
            "/usr/local/lib/python3.11/dist-packages/keras/src/layers/convolutional/base_conv.py:107: UserWarning: Do not pass an `input_shape`/`input_dim` argument to a layer. When using Sequential models, prefer using an `Input(shape)` object as the first layer in the model instead.\n",
            "  super().__init__(activity_regularizer=activity_regularizer, **kwargs)\n"
          ]
        },
        {
          "output_type": "display_data",
          "data": {
            "text/plain": [
              "\u001b[1mModel: \"sequential\"\u001b[0m\n"
            ],
            "text/html": [
              "<pre style=\"white-space:pre;overflow-x:auto;line-height:normal;font-family:Menlo,'DejaVu Sans Mono',consolas,'Courier New',monospace\"><span style=\"font-weight: bold\">Model: \"sequential\"</span>\n",
              "</pre>\n"
            ]
          },
          "metadata": {}
        },
        {
          "output_type": "display_data",
          "data": {
            "text/plain": [
              "┏━━━━━━━━━━━━━━━━━━━━━━━━━━━━━━━━━┳━━━━━━━━━━━━━━━━━━━━━━━━┳━━━━━━━━━━━━━━━┓\n",
              "┃\u001b[1m \u001b[0m\u001b[1mLayer (type)                   \u001b[0m\u001b[1m \u001b[0m┃\u001b[1m \u001b[0m\u001b[1mOutput Shape          \u001b[0m\u001b[1m \u001b[0m┃\u001b[1m \u001b[0m\u001b[1m      Param #\u001b[0m\u001b[1m \u001b[0m┃\n",
              "┡━━━━━━━━━━━━━━━━━━━━━━━━━━━━━━━━━╇━━━━━━━━━━━━━━━━━━━━━━━━╇━━━━━━━━━━━━━━━┩\n",
              "│ conv2d (\u001b[38;5;33mConv2D\u001b[0m)                 │ (\u001b[38;5;45mNone\u001b[0m, \u001b[38;5;34m48\u001b[0m, \u001b[38;5;34m48\u001b[0m, \u001b[38;5;34m32\u001b[0m)     │           \u001b[38;5;34m896\u001b[0m │\n",
              "├─────────────────────────────────┼────────────────────────┼───────────────┤\n",
              "│ max_pooling2d (\u001b[38;5;33mMaxPooling2D\u001b[0m)    │ (\u001b[38;5;45mNone\u001b[0m, \u001b[38;5;34m24\u001b[0m, \u001b[38;5;34m24\u001b[0m, \u001b[38;5;34m32\u001b[0m)     │             \u001b[38;5;34m0\u001b[0m │\n",
              "├─────────────────────────────────┼────────────────────────┼───────────────┤\n",
              "│ conv2d_1 (\u001b[38;5;33mConv2D\u001b[0m)               │ (\u001b[38;5;45mNone\u001b[0m, \u001b[38;5;34m22\u001b[0m, \u001b[38;5;34m22\u001b[0m, \u001b[38;5;34m64\u001b[0m)     │        \u001b[38;5;34m18,496\u001b[0m │\n",
              "├─────────────────────────────────┼────────────────────────┼───────────────┤\n",
              "│ max_pooling2d_1 (\u001b[38;5;33mMaxPooling2D\u001b[0m)  │ (\u001b[38;5;45mNone\u001b[0m, \u001b[38;5;34m11\u001b[0m, \u001b[38;5;34m11\u001b[0m, \u001b[38;5;34m64\u001b[0m)     │             \u001b[38;5;34m0\u001b[0m │\n",
              "├─────────────────────────────────┼────────────────────────┼───────────────┤\n",
              "│ conv2d_2 (\u001b[38;5;33mConv2D\u001b[0m)               │ (\u001b[38;5;45mNone\u001b[0m, \u001b[38;5;34m9\u001b[0m, \u001b[38;5;34m9\u001b[0m, \u001b[38;5;34m128\u001b[0m)      │        \u001b[38;5;34m73,856\u001b[0m │\n",
              "├─────────────────────────────────┼────────────────────────┼───────────────┤\n",
              "│ max_pooling2d_2 (\u001b[38;5;33mMaxPooling2D\u001b[0m)  │ (\u001b[38;5;45mNone\u001b[0m, \u001b[38;5;34m4\u001b[0m, \u001b[38;5;34m4\u001b[0m, \u001b[38;5;34m128\u001b[0m)      │             \u001b[38;5;34m0\u001b[0m │\n",
              "├─────────────────────────────────┼────────────────────────┼───────────────┤\n",
              "│ flatten (\u001b[38;5;33mFlatten\u001b[0m)               │ (\u001b[38;5;45mNone\u001b[0m, \u001b[38;5;34m2048\u001b[0m)           │             \u001b[38;5;34m0\u001b[0m │\n",
              "├─────────────────────────────────┼────────────────────────┼───────────────┤\n",
              "│ dense (\u001b[38;5;33mDense\u001b[0m)                   │ (\u001b[38;5;45mNone\u001b[0m, \u001b[38;5;34m128\u001b[0m)            │       \u001b[38;5;34m262,272\u001b[0m │\n",
              "├─────────────────────────────────┼────────────────────────┼───────────────┤\n",
              "│ dropout (\u001b[38;5;33mDropout\u001b[0m)               │ (\u001b[38;5;45mNone\u001b[0m, \u001b[38;5;34m128\u001b[0m)            │             \u001b[38;5;34m0\u001b[0m │\n",
              "├─────────────────────────────────┼────────────────────────┼───────────────┤\n",
              "│ dense_1 (\u001b[38;5;33mDense\u001b[0m)                 │ (\u001b[38;5;45mNone\u001b[0m, \u001b[38;5;34m12\u001b[0m)             │         \u001b[38;5;34m1,548\u001b[0m │\n",
              "└─────────────────────────────────┴────────────────────────┴───────────────┘\n"
            ],
            "text/html": [
              "<pre style=\"white-space:pre;overflow-x:auto;line-height:normal;font-family:Menlo,'DejaVu Sans Mono',consolas,'Courier New',monospace\">┏━━━━━━━━━━━━━━━━━━━━━━━━━━━━━━━━━┳━━━━━━━━━━━━━━━━━━━━━━━━┳━━━━━━━━━━━━━━━┓\n",
              "┃<span style=\"font-weight: bold\"> Layer (type)                    </span>┃<span style=\"font-weight: bold\"> Output Shape           </span>┃<span style=\"font-weight: bold\">       Param # </span>┃\n",
              "┡━━━━━━━━━━━━━━━━━━━━━━━━━━━━━━━━━╇━━━━━━━━━━━━━━━━━━━━━━━━╇━━━━━━━━━━━━━━━┩\n",
              "│ conv2d (<span style=\"color: #0087ff; text-decoration-color: #0087ff\">Conv2D</span>)                 │ (<span style=\"color: #00d7ff; text-decoration-color: #00d7ff\">None</span>, <span style=\"color: #00af00; text-decoration-color: #00af00\">48</span>, <span style=\"color: #00af00; text-decoration-color: #00af00\">48</span>, <span style=\"color: #00af00; text-decoration-color: #00af00\">32</span>)     │           <span style=\"color: #00af00; text-decoration-color: #00af00\">896</span> │\n",
              "├─────────────────────────────────┼────────────────────────┼───────────────┤\n",
              "│ max_pooling2d (<span style=\"color: #0087ff; text-decoration-color: #0087ff\">MaxPooling2D</span>)    │ (<span style=\"color: #00d7ff; text-decoration-color: #00d7ff\">None</span>, <span style=\"color: #00af00; text-decoration-color: #00af00\">24</span>, <span style=\"color: #00af00; text-decoration-color: #00af00\">24</span>, <span style=\"color: #00af00; text-decoration-color: #00af00\">32</span>)     │             <span style=\"color: #00af00; text-decoration-color: #00af00\">0</span> │\n",
              "├─────────────────────────────────┼────────────────────────┼───────────────┤\n",
              "│ conv2d_1 (<span style=\"color: #0087ff; text-decoration-color: #0087ff\">Conv2D</span>)               │ (<span style=\"color: #00d7ff; text-decoration-color: #00d7ff\">None</span>, <span style=\"color: #00af00; text-decoration-color: #00af00\">22</span>, <span style=\"color: #00af00; text-decoration-color: #00af00\">22</span>, <span style=\"color: #00af00; text-decoration-color: #00af00\">64</span>)     │        <span style=\"color: #00af00; text-decoration-color: #00af00\">18,496</span> │\n",
              "├─────────────────────────────────┼────────────────────────┼───────────────┤\n",
              "│ max_pooling2d_1 (<span style=\"color: #0087ff; text-decoration-color: #0087ff\">MaxPooling2D</span>)  │ (<span style=\"color: #00d7ff; text-decoration-color: #00d7ff\">None</span>, <span style=\"color: #00af00; text-decoration-color: #00af00\">11</span>, <span style=\"color: #00af00; text-decoration-color: #00af00\">11</span>, <span style=\"color: #00af00; text-decoration-color: #00af00\">64</span>)     │             <span style=\"color: #00af00; text-decoration-color: #00af00\">0</span> │\n",
              "├─────────────────────────────────┼────────────────────────┼───────────────┤\n",
              "│ conv2d_2 (<span style=\"color: #0087ff; text-decoration-color: #0087ff\">Conv2D</span>)               │ (<span style=\"color: #00d7ff; text-decoration-color: #00d7ff\">None</span>, <span style=\"color: #00af00; text-decoration-color: #00af00\">9</span>, <span style=\"color: #00af00; text-decoration-color: #00af00\">9</span>, <span style=\"color: #00af00; text-decoration-color: #00af00\">128</span>)      │        <span style=\"color: #00af00; text-decoration-color: #00af00\">73,856</span> │\n",
              "├─────────────────────────────────┼────────────────────────┼───────────────┤\n",
              "│ max_pooling2d_2 (<span style=\"color: #0087ff; text-decoration-color: #0087ff\">MaxPooling2D</span>)  │ (<span style=\"color: #00d7ff; text-decoration-color: #00d7ff\">None</span>, <span style=\"color: #00af00; text-decoration-color: #00af00\">4</span>, <span style=\"color: #00af00; text-decoration-color: #00af00\">4</span>, <span style=\"color: #00af00; text-decoration-color: #00af00\">128</span>)      │             <span style=\"color: #00af00; text-decoration-color: #00af00\">0</span> │\n",
              "├─────────────────────────────────┼────────────────────────┼───────────────┤\n",
              "│ flatten (<span style=\"color: #0087ff; text-decoration-color: #0087ff\">Flatten</span>)               │ (<span style=\"color: #00d7ff; text-decoration-color: #00d7ff\">None</span>, <span style=\"color: #00af00; text-decoration-color: #00af00\">2048</span>)           │             <span style=\"color: #00af00; text-decoration-color: #00af00\">0</span> │\n",
              "├─────────────────────────────────┼────────────────────────┼───────────────┤\n",
              "│ dense (<span style=\"color: #0087ff; text-decoration-color: #0087ff\">Dense</span>)                   │ (<span style=\"color: #00d7ff; text-decoration-color: #00d7ff\">None</span>, <span style=\"color: #00af00; text-decoration-color: #00af00\">128</span>)            │       <span style=\"color: #00af00; text-decoration-color: #00af00\">262,272</span> │\n",
              "├─────────────────────────────────┼────────────────────────┼───────────────┤\n",
              "│ dropout (<span style=\"color: #0087ff; text-decoration-color: #0087ff\">Dropout</span>)               │ (<span style=\"color: #00d7ff; text-decoration-color: #00d7ff\">None</span>, <span style=\"color: #00af00; text-decoration-color: #00af00\">128</span>)            │             <span style=\"color: #00af00; text-decoration-color: #00af00\">0</span> │\n",
              "├─────────────────────────────────┼────────────────────────┼───────────────┤\n",
              "│ dense_1 (<span style=\"color: #0087ff; text-decoration-color: #0087ff\">Dense</span>)                 │ (<span style=\"color: #00d7ff; text-decoration-color: #00d7ff\">None</span>, <span style=\"color: #00af00; text-decoration-color: #00af00\">12</span>)             │         <span style=\"color: #00af00; text-decoration-color: #00af00\">1,548</span> │\n",
              "└─────────────────────────────────┴────────────────────────┴───────────────┘\n",
              "</pre>\n"
            ]
          },
          "metadata": {}
        },
        {
          "output_type": "display_data",
          "data": {
            "text/plain": [
              "\u001b[1m Total params: \u001b[0m\u001b[38;5;34m357,068\u001b[0m (1.36 MB)\n"
            ],
            "text/html": [
              "<pre style=\"white-space:pre;overflow-x:auto;line-height:normal;font-family:Menlo,'DejaVu Sans Mono',consolas,'Courier New',monospace\"><span style=\"font-weight: bold\"> Total params: </span><span style=\"color: #00af00; text-decoration-color: #00af00\">357,068</span> (1.36 MB)\n",
              "</pre>\n"
            ]
          },
          "metadata": {}
        },
        {
          "output_type": "display_data",
          "data": {
            "text/plain": [
              "\u001b[1m Trainable params: \u001b[0m\u001b[38;5;34m357,068\u001b[0m (1.36 MB)\n"
            ],
            "text/html": [
              "<pre style=\"white-space:pre;overflow-x:auto;line-height:normal;font-family:Menlo,'DejaVu Sans Mono',consolas,'Courier New',monospace\"><span style=\"font-weight: bold\"> Trainable params: </span><span style=\"color: #00af00; text-decoration-color: #00af00\">357,068</span> (1.36 MB)\n",
              "</pre>\n"
            ]
          },
          "metadata": {}
        },
        {
          "output_type": "display_data",
          "data": {
            "text/plain": [
              "\u001b[1m Non-trainable params: \u001b[0m\u001b[38;5;34m0\u001b[0m (0.00 B)\n"
            ],
            "text/html": [
              "<pre style=\"white-space:pre;overflow-x:auto;line-height:normal;font-family:Menlo,'DejaVu Sans Mono',consolas,'Courier New',monospace\"><span style=\"font-weight: bold\"> Non-trainable params: </span><span style=\"color: #00af00; text-decoration-color: #00af00\">0</span> (0.00 B)\n",
              "</pre>\n"
            ]
          },
          "metadata": {}
        }
      ]
    },
    {
      "cell_type": "code",
      "source": [
        "EPOCHS = 4\n",
        "history = model.fit(\n",
        "    train_gen,\n",
        "    epochs=EPOCHS,\n",
        "    validation_data=val_gen\n",
        ")\n"
      ],
      "metadata": {
        "colab": {
          "base_uri": "https://localhost:8080/"
        },
        "id": "BUDLVv6A-Ks9",
        "outputId": "15a19bf0-385f-4d5a-bb88-157e0eae61c1"
      },
      "execution_count": 9,
      "outputs": [
        {
          "output_type": "stream",
          "name": "stderr",
          "text": [
            "/usr/local/lib/python3.11/dist-packages/keras/src/trainers/data_adapters/py_dataset_adapter.py:121: UserWarning: Your `PyDataset` class should call `super().__init__(**kwargs)` in its constructor. `**kwargs` can include `workers`, `use_multiprocessing`, `max_queue_size`. Do not pass these arguments to `fit()`, as they will be ignored.\n",
            "  self._warn_if_super_not_called()\n"
          ]
        },
        {
          "output_type": "stream",
          "name": "stdout",
          "text": [
            "Epoch 1/4\n",
            "\u001b[1m20011/20011\u001b[0m \u001b[32m━━━━━━━━━━━━━━━━━━━━\u001b[0m\u001b[37m\u001b[0m \u001b[1m0s\u001b[0m 33ms/step - accuracy: 0.9759 - loss: 0.0730"
          ]
        },
        {
          "output_type": "stream",
          "name": "stderr",
          "text": [
            "/usr/local/lib/python3.11/dist-packages/keras/src/trainers/data_adapters/py_dataset_adapter.py:121: UserWarning: Your `PyDataset` class should call `super().__init__(**kwargs)` in its constructor. `**kwargs` can include `workers`, `use_multiprocessing`, `max_queue_size`. Do not pass these arguments to `fit()`, as they will be ignored.\n",
            "  self._warn_if_super_not_called()\n"
          ]
        },
        {
          "output_type": "stream",
          "name": "stdout",
          "text": [
            "\b\b\b\b\b\b\b\b\b\b\b\b\b\b\b\b\b\b\b\b\b\b\b\b\b\b\b\b\b\b\b\b\b\b\b\b\b\b\b\b\b\b\b\b\b\b\b\b\b\b\b\b\b\b\b\b\b\b\b\b\b\b\b\b\b\b\b\b\b\b\b\b\b\b\b\b\b\b\b\r\u001b[1m20011/20011\u001b[0m \u001b[32m━━━━━━━━━━━━━━━━━━━━\u001b[0m\u001b[37m\u001b[0m \u001b[1m803s\u001b[0m 40ms/step - accuracy: 0.9759 - loss: 0.0730 - val_accuracy: 1.0000 - val_loss: 2.1574e-04\n",
            "Epoch 2/4\n",
            "\u001b[1m20011/20011\u001b[0m \u001b[32m━━━━━━━━━━━━━━━━━━━━\u001b[0m\u001b[37m\u001b[0m \u001b[1m552s\u001b[0m 28ms/step - accuracy: 0.9995 - loss: 0.0022 - val_accuracy: 1.0000 - val_loss: 4.3804e-09\n",
            "Epoch 3/4\n",
            "\u001b[1m20011/20011\u001b[0m \u001b[32m━━━━━━━━━━━━━━━━━━━━\u001b[0m\u001b[37m\u001b[0m \u001b[1m540s\u001b[0m 27ms/step - accuracy: 0.9996 - loss: 0.0031 - val_accuracy: 1.0000 - val_loss: 1.7989e-06\n",
            "Epoch 4/4\n",
            "\u001b[1m20011/20011\u001b[0m \u001b[32m━━━━━━━━━━━━━━━━━━━━\u001b[0m\u001b[37m\u001b[0m \u001b[1m570s\u001b[0m 27ms/step - accuracy: 0.9997 - loss: 0.0018 - val_accuracy: 1.0000 - val_loss: 0.0000e+00\n"
          ]
        }
      ]
    },
    {
      "cell_type": "code",
      "source": [
        "import matplotlib.pyplot as plt\n",
        "\n",
        "plt.figure(figsize=(12, 5))\n",
        "\n",
        "# Accuracy\n",
        "plt.subplot(1, 2, 1)\n",
        "plt.plot(history.history[\"accuracy\"], label=\"Entrenamiento\")\n",
        "plt.plot(history.history[\"val_accuracy\"], label=\"Validación\")\n",
        "plt.title(\"Precisión por época\")\n",
        "plt.xlabel(\"Época\")\n",
        "plt.ylabel(\"Accuracy\")\n",
        "plt.legend()\n",
        "\n",
        "# Loss\n",
        "plt.subplot(1, 2, 2)\n",
        "plt.plot(history.history[\"loss\"], label=\"Entrenamiento\")\n",
        "plt.plot(history.history[\"val_loss\"], label=\"Validación\")\n",
        "plt.title(\"Pérdida por época\")\n",
        "plt.xlabel(\"Época\")\n",
        "plt.ylabel(\"Loss\")\n",
        "plt.legend()\n",
        "\n",
        "plt.tight_layout()\n",
        "plt.show()\n"
      ],
      "metadata": {
        "colab": {
          "base_uri": "https://localhost:8080/",
          "height": 507
        },
        "id": "X9tpECXaHZiH",
        "outputId": "6d9e8a54-145b-4d15-ecf6-4bf6ba9951ed"
      },
      "execution_count": 10,
      "outputs": [
        {
          "output_type": "display_data",
          "data": {
            "text/plain": [
              "<Figure size 1200x500 with 2 Axes>"
            ],
            "image/png": "[encoded data removed]"
          },
          "metadata": {}
        }
      ]
    },
    {
      "cell_type": "code",
      "source": [
        "from PIL import Image\n",
        "import numpy as np\n",
        "\n",
        "def reconstruir_fen(imagen_path, modelo, class_indices, threshold=0.8):\n",
        "    img = Image.open(imagen_path)\n",
        "    square_size = 50\n",
        "    clases_inv = {v: k for k, v in class_indices.items()}\n",
        "\n",
        "    filas_fen = []\n",
        "\n",
        "    for i in range(8):\n",
        "        fila = \"\"\n",
        "        empty_count = 0\n",
        "\n",
        "        for j in range(8):\n",
        "            left = j * square_size\n",
        "            top = i * square_size\n",
        "            right = left + square_size\n",
        "            bottom = top + square_size\n",
        "\n",
        "            casilla = img.crop((left, top, right, bottom))\n",
        "            x = np.array(casilla.resize((50, 50))) / 255.0\n",
        "            x = np.expand_dims(x, axis=0)\n",
        "\n",
        "            pred = modelo.predict(x)[0]\n",
        "            clase_idx = np.argmax(pred)\n",
        "            prob = pred[clase_idx]\n",
        "\n",
        "            if prob >= threshold:\n",
        "                if empty_count > 0:\n",
        "                    fila += str(empty_count)\n",
        "                    empty_count = 0\n",
        "                fila += clases_inv[clase_idx]\n",
        "            else:\n",
        "                empty_count += 1\n",
        "\n",
        "        if empty_count > 0:\n",
        "            fila += str(empty_count)\n",
        "        filas_fen.append(fila)\n",
        "\n",
        "    fen = \"/\".join(filas_fen)\n",
        "    return fen\n"
      ],
      "metadata": {
        "id": "aUE7h2ujHcOJ"
      },
      "execution_count": 11,
      "outputs": []
    },
    {
      "cell_type": "code",
      "source": [
        "test_img = \"/root/.cache/kagglehub/datasets/koryakinp/chess-positions/versions/1/train/1br1K1k1-7R-5N1p-1r6-3BB1Pr-8-8-6n1.jpeg\"\n",
        "test_img"
      ],
      "metadata": {
        "colab": {
          "base_uri": "https://localhost:8080/",
          "height": 35
        },
        "id": "AMs2KqH2Ksoz",
        "outputId": "4953ae74-ce76-4aaf-ac9b-768c6d42c138"
      },
      "execution_count": 15,
      "outputs": [
        {
          "output_type": "execute_result",
          "data": {
            "text/plain": [
              "'/root/.cache/kagglehub/datasets/koryakinp/chess-positions/versions/1/train/1br1K1k1-7R-5N1p-1r6-3BB1Pr-8-8-6n1.jpeg'"
            ],
            "application/vnd.google.colaboratory.intrinsic+json": {
              "type": "string"
            }
          },
          "metadata": {},
          "execution_count": 15
        }
      ]
    },
    {
      "cell_type": "code",
      "source": [
        "import glob\n",
        "\n",
        "imagenes_tablero = glob.glob(\"/root/.cache/kagglehub/datasets/koryakinp/chess-positions/versions/1/train/*.jpeg\")\n",
        "\n",
        "print(f\"✅ Se encontraron {len(imagenes_tablero)} imágenes.\")\n",
        "print(\"📌 Ejemplo:\", imagenes_tablero[0])\n"
      ],
      "metadata": {
        "colab": {
          "base_uri": "https://localhost:8080/"
        },
        "id": "-tWJWTdfKugE",
        "outputId": "c13c27d2-d8aa-4b31-a684-3bad90e191bd"
      },
      "execution_count": 16,
      "outputs": [
        {
          "output_type": "stream",
          "name": "stdout",
          "text": [
            "✅ Se encontraron 80000 imágenes.\n",
            "📌 Ejemplo: /root/.cache/kagglehub/datasets/koryakinp/chess-positions/versions/1/train/1br1K1k1-7R-5N1p-1r6-3BB1Pr-8-8-6n1.jpeg\n"
          ]
        }
      ]
    },
    {
      "cell_type": "code",
      "source": [
        "fen_predicha = reconstruir_fen(test_img, model, train_gen.class_indices, threshold=0.8)\n",
        "print(\"📌 Notación FEN reconstruida:\")\n",
        "print(fen_predicha)"
      ],
      "metadata": {
        "colab": {
          "base_uri": "https://localhost:8080/"
        },
        "id": "wxw_ClaEKwPL",
        "outputId": "6019a85c-7fe7-4e99-8e6a-ff9f61a1269b"
      },
      "execution_count": 17,
      "outputs": [
        {
          "output_type": "stream",
          "name": "stdout",
          "text": [
            "\u001b[1m1/1\u001b[0m \u001b[32m━━━━━━━━━━━━━━━━━━━━\u001b[0m\u001b[37m\u001b[0m \u001b[1m0s\u001b[0m 32ms/step\n",
            "\u001b[1m1/1\u001b[0m \u001b[32m━━━━━━━━━━━━━━━━━━━━\u001b[0m\u001b[37m\u001b[0m \u001b[1m0s\u001b[0m 35ms/step\n",
            "\u001b[1m1/1\u001b[0m \u001b[32m━━━━━━━━━━━━━━━━━━━━\u001b[0m\u001b[37m\u001b[0m \u001b[1m0s\u001b[0m 34ms/step\n",
            "\u001b[1m1/1\u001b[0m \u001b[32m━━━━━━━━━━━━━━━━━━━━\u001b[0m\u001b[37m\u001b[0m \u001b[1m0s\u001b[0m 37ms/step\n",
            "\u001b[1m1/1\u001b[0m \u001b[32m━━━━━━━━━━━━━━━━━━━━\u001b[0m\u001b[37m\u001b[0m \u001b[1m0s\u001b[0m 34ms/step\n",
            "\u001b[1m1/1\u001b[0m \u001b[32m━━━━━━━━━━━━━━━━━━━━\u001b[0m\u001b[37m\u001b[0m \u001b[1m0s\u001b[0m 34ms/step\n",
            "\u001b[1m1/1\u001b[0m \u001b[32m━━━━━━━━━━━━━━━━━━━━\u001b[0m\u001b[37m\u001b[0m \u001b[1m0s\u001b[0m 33ms/step\n",
            "\u001b[1m1/1\u001b[0m \u001b[32m━━━━━━━━━━━━━━━━━━━━\u001b[0m\u001b[37m\u001b[0m \u001b[1m0s\u001b[0m 35ms/step\n",
            "\u001b[1m1/1\u001b[0m \u001b[32m━━━━━━━━━━━━━━━━━━━━\u001b[0m\u001b[37m\u001b[0m \u001b[1m0s\u001b[0m 31ms/step\n",
            "\u001b[1m1/1\u001b[0m \u001b[32m━━━━━━━━━━━━━━━━━━━━\u001b[0m\u001b[37m\u001b[0m \u001b[1m0s\u001b[0m 30ms/step\n",
            "\u001b[1m1/1\u001b[0m \u001b[32m━━━━━━━━━━━━━━━━━━━━\u001b[0m\u001b[37m\u001b[0m \u001b[1m0s\u001b[0m 30ms/step\n",
            "\u001b[1m1/1\u001b[0m \u001b[32m━━━━━━━━━━━━━━━━━━━━\u001b[0m\u001b[37m\u001b[0m \u001b[1m0s\u001b[0m 30ms/step\n",
            "\u001b[1m1/1\u001b[0m \u001b[32m━━━━━━━━━━━━━━━━━━━━\u001b[0m\u001b[37m\u001b[0m \u001b[1m0s\u001b[0m 30ms/step\n",
            "\u001b[1m1/1\u001b[0m \u001b[32m━━━━━━━━━━━━━━━━━━━━\u001b[0m\u001b[37m\u001b[0m \u001b[1m0s\u001b[0m 32ms/step\n",
            "\u001b[1m1/1\u001b[0m \u001b[32m━━━━━━━━━━━━━━━━━━━━\u001b[0m\u001b[37m\u001b[0m \u001b[1m0s\u001b[0m 32ms/step\n",
            "\u001b[1m1/1\u001b[0m \u001b[32m━━━━━━━━━━━━━━━━━━━━\u001b[0m\u001b[37m\u001b[0m \u001b[1m0s\u001b[0m 41ms/step\n",
            "\u001b[1m1/1\u001b[0m \u001b[32m━━━━━━━━━━━━━━━━━━━━\u001b[0m\u001b[37m\u001b[0m \u001b[1m0s\u001b[0m 30ms/step\n",
            "\u001b[1m1/1\u001b[0m \u001b[32m━━━━━━━━━━━━━━━━━━━━\u001b[0m\u001b[37m\u001b[0m \u001b[1m0s\u001b[0m 31ms/step\n",
            "\u001b[1m1/1\u001b[0m \u001b[32m━━━━━━━━━━━━━━━━━━━━\u001b[0m\u001b[37m\u001b[0m \u001b[1m0s\u001b[0m 31ms/step\n",
            "\u001b[1m1/1\u001b[0m \u001b[32m━━━━━━━━━━━━━━━━━━━━\u001b[0m\u001b[37m\u001b[0m \u001b[1m0s\u001b[0m 31ms/step\n",
            "\u001b[1m1/1\u001b[0m \u001b[32m━━━━━━━━━━━━━━━━━━━━\u001b[0m\u001b[37m\u001b[0m \u001b[1m0s\u001b[0m 31ms/step\n",
            "\u001b[1m1/1\u001b[0m \u001b[32m━━━━━━━━━━━━━━━━━━━━\u001b[0m\u001b[37m\u001b[0m \u001b[1m0s\u001b[0m 30ms/step\n",
            "\u001b[1m1/1\u001b[0m \u001b[32m━━━━━━━━━━━━━━━━━━━━\u001b[0m\u001b[37m\u001b[0m \u001b[1m0s\u001b[0m 30ms/step\n",
            "\u001b[1m1/1\u001b[0m \u001b[32m━━━━━━━━━━━━━━━━━━━━\u001b[0m\u001b[37m\u001b[0m \u001b[1m0s\u001b[0m 30ms/step\n",
            "\u001b[1m1/1\u001b[0m \u001b[32m━━━━━━━━━━━━━━━━━━━━\u001b[0m\u001b[37m\u001b[0m \u001b[1m0s\u001b[0m 30ms/step\n",
            "\u001b[1m1/1\u001b[0m \u001b[32m━━━━━━━━━━━━━━━━━━━━\u001b[0m\u001b[37m\u001b[0m \u001b[1m0s\u001b[0m 29ms/step\n",
            "\u001b[1m1/1\u001b[0m \u001b[32m━━━━━━━━━━━━━━━━━━━━\u001b[0m\u001b[37m\u001b[0m \u001b[1m0s\u001b[0m 31ms/step\n",
            "\u001b[1m1/1\u001b[0m \u001b[32m━━━━━━━━━━━━━━━━━━━━\u001b[0m\u001b[37m\u001b[0m \u001b[1m0s\u001b[0m 32ms/step\n",
            "\u001b[1m1/1\u001b[0m \u001b[32m━━━━━━━━━━━━━━━━━━━━\u001b[0m\u001b[37m\u001b[0m \u001b[1m0s\u001b[0m 32ms/step\n",
            "\u001b[1m1/1\u001b[0m \u001b[32m━━━━━━━━━━━━━━━━━━━━\u001b[0m\u001b[37m\u001b[0m \u001b[1m0s\u001b[0m 30ms/step\n",
            "\u001b[1m1/1\u001b[0m \u001b[32m━━━━━━━━━━━━━━━━━━━━\u001b[0m\u001b[37m\u001b[0m \u001b[1m0s\u001b[0m 32ms/step\n",
            "\u001b[1m1/1\u001b[0m \u001b[32m━━━━━━━━━━━━━━━━━━━━\u001b[0m\u001b[37m\u001b[0m \u001b[1m0s\u001b[0m 30ms/step\n",
            "\u001b[1m1/1\u001b[0m \u001b[32m━━━━━━━━━━━━━━━━━━━━\u001b[0m\u001b[37m\u001b[0m \u001b[1m0s\u001b[0m 30ms/step\n",
            "\u001b[1m1/1\u001b[0m \u001b[32m━━━━━━━━━━━━━━━━━━━━\u001b[0m\u001b[37m\u001b[0m \u001b[1m0s\u001b[0m 30ms/step\n",
            "\u001b[1m1/1\u001b[0m \u001b[32m━━━━━━━━━━━━━━━━━━━━\u001b[0m\u001b[37m\u001b[0m \u001b[1m0s\u001b[0m 32ms/step\n",
            "\u001b[1m1/1\u001b[0m \u001b[32m━━━━━━━━━━━━━━━━━━━━\u001b[0m\u001b[37m\u001b[0m \u001b[1m0s\u001b[0m 29ms/step\n",
            "\u001b[1m1/1\u001b[0m \u001b[32m━━━━━━━━━━━━━━━━━━━━\u001b[0m\u001b[37m\u001b[0m \u001b[1m0s\u001b[0m 30ms/step\n",
            "\u001b[1m1/1\u001b[0m \u001b[32m━━━━━━━━━━━━━━━━━━━━\u001b[0m\u001b[37m\u001b[0m \u001b[1m0s\u001b[0m 29ms/step\n",
            "\u001b[1m1/1\u001b[0m \u001b[32m━━━━━━━━━━━━━━━━━━━━\u001b[0m\u001b[37m\u001b[0m \u001b[1m0s\u001b[0m 32ms/step\n",
            "\u001b[1m1/1\u001b[0m \u001b[32m━━━━━━━━━━━━━━━━━━━━\u001b[0m\u001b[37m\u001b[0m \u001b[1m0s\u001b[0m 32ms/step\n",
            "\u001b[1m1/1\u001b[0m \u001b[32m━━━━━━━━━━━━━━━━━━━━\u001b[0m\u001b[37m\u001b[0m \u001b[1m0s\u001b[0m 31ms/step\n",
            "\u001b[1m1/1\u001b[0m \u001b[32m━━━━━━━━━━━━━━━━━━━━\u001b[0m\u001b[37m\u001b[0m \u001b[1m0s\u001b[0m 31ms/step\n",
            "\u001b[1m1/1\u001b[0m \u001b[32m━━━━━━━━━━━━━━━━━━━━\u001b[0m\u001b[37m\u001b[0m \u001b[1m0s\u001b[0m 32ms/step\n",
            "\u001b[1m1/1\u001b[0m \u001b[32m━━━━━━━━━━━━━━━━━━━━\u001b[0m\u001b[37m\u001b[0m \u001b[1m0s\u001b[0m 31ms/step\n",
            "\u001b[1m1/1\u001b[0m \u001b[32m━━━━━━━━━━━━━━━━━━━━\u001b[0m\u001b[37m\u001b[0m \u001b[1m0s\u001b[0m 31ms/step\n",
            "\u001b[1m1/1\u001b[0m \u001b[32m━━━━━━━━━━━━━━━━━━━━\u001b[0m\u001b[37m\u001b[0m \u001b[1m0s\u001b[0m 39ms/step\n",
            "\u001b[1m1/1\u001b[0m \u001b[32m━━━━━━━━━━━━━━━━━━━━\u001b[0m\u001b[37m\u001b[0m \u001b[1m0s\u001b[0m 30ms/step\n",
            "\u001b[1m1/1\u001b[0m \u001b[32m━━━━━━━━━━━━━━━━━━━━\u001b[0m\u001b[37m\u001b[0m \u001b[1m0s\u001b[0m 30ms/step\n",
            "\u001b[1m1/1\u001b[0m \u001b[32m━━━━━━━━━━━━━━━━━━━━\u001b[0m\u001b[37m\u001b[0m \u001b[1m0s\u001b[0m 31ms/step\n",
            "\u001b[1m1/1\u001b[0m \u001b[32m━━━━━━━━━━━━━━━━━━━━\u001b[0m\u001b[37m\u001b[0m \u001b[1m0s\u001b[0m 31ms/step\n",
            "\u001b[1m1/1\u001b[0m \u001b[32m━━━━━━━━━━━━━━━━━━━━\u001b[0m\u001b[37m\u001b[0m \u001b[1m0s\u001b[0m 35ms/step\n",
            "\u001b[1m1/1\u001b[0m \u001b[32m━━━━━━━━━━━━━━━━━━━━\u001b[0m\u001b[37m\u001b[0m \u001b[1m0s\u001b[0m 31ms/step\n",
            "\u001b[1m1/1\u001b[0m \u001b[32m━━━━━━━━━━━━━━━━━━━━\u001b[0m\u001b[37m\u001b[0m \u001b[1m0s\u001b[0m 31ms/step\n",
            "\u001b[1m1/1\u001b[0m \u001b[32m━━━━━━━━━━━━━━━━━━━━\u001b[0m\u001b[37m\u001b[0m \u001b[1m0s\u001b[0m 31ms/step\n",
            "\u001b[1m1/1\u001b[0m \u001b[32m━━━━━━━━━━━━━━━━━━━━\u001b[0m\u001b[37m\u001b[0m \u001b[1m0s\u001b[0m 31ms/step\n",
            "\u001b[1m1/1\u001b[0m \u001b[32m━━━━━━━━━━━━━━━━━━━━\u001b[0m\u001b[37m\u001b[0m \u001b[1m0s\u001b[0m 30ms/step\n",
            "\u001b[1m1/1\u001b[0m \u001b[32m━━━━━━━━━━━━━━━━━━━━\u001b[0m\u001b[37m\u001b[0m \u001b[1m0s\u001b[0m 31ms/step\n",
            "\u001b[1m1/1\u001b[0m \u001b[32m━━━━━━━━━━━━━━━━━━━━\u001b[0m\u001b[37m\u001b[0m \u001b[1m0s\u001b[0m 38ms/step\n",
            "\u001b[1m1/1\u001b[0m \u001b[32m━━━━━━━━━━━━━━━━━━━━\u001b[0m\u001b[37m\u001b[0m \u001b[1m0s\u001b[0m 30ms/step\n",
            "\u001b[1m1/1\u001b[0m \u001b[32m━━━━━━━━━━━━━━━━━━━━\u001b[0m\u001b[37m\u001b[0m \u001b[1m0s\u001b[0m 40ms/step\n",
            "\u001b[1m1/1\u001b[0m \u001b[32m━━━━━━━━━━━━━━━━━━━━\u001b[0m\u001b[37m\u001b[0m \u001b[1m0s\u001b[0m 30ms/step\n",
            "\u001b[1m1/1\u001b[0m \u001b[32m━━━━━━━━━━━━━━━━━━━━\u001b[0m\u001b[37m\u001b[0m \u001b[1m0s\u001b[0m 29ms/step\n",
            "\u001b[1m1/1\u001b[0m \u001b[32m━━━━━━━━━━━━━━━━━━━━\u001b[0m\u001b[37m\u001b[0m \u001b[1m0s\u001b[0m 34ms/step\n",
            "\u001b[1m1/1\u001b[0m \u001b[32m━━━━━━━━━━━━━━━━━━━━\u001b[0m\u001b[37m\u001b[0m \u001b[1m0s\u001b[0m 32ms/step\n",
            "📌 Notación FEN reconstruida:\n",
            "Pbr1K1k1/1PrP1P1R/P1P1PNPp/1r1P1P1P/P1PBB1Pr/1P1P1P1P/P1P1P1P1/1P1P1PnP\n"
          ]
        }
      ]
    },
    {
      "cell_type": "code",
      "source": [
        "from google.colab import files\n",
        "uploaded = files.upload()\n"
      ],
      "metadata": {
        "colab": {
          "base_uri": "https://localhost:8080/",
          "height": 73
        },
        "id": "1aPvPE5nLNGu",
        "outputId": "292dbf5c-b6a6-4c50-f710-9bb541d8fcb9"
      },
      "execution_count": 18,
      "outputs": [
        {
          "output_type": "display_data",
          "data": {
            "text/plain": [
              "<IPython.core.display.HTML object>"
            ],
            "text/html": [
              "\n",
              "     <input type=\"file\" id=\"files-86e7e2fe-a11a-41ec-92be-8c077f460127\" name=\"files[]\" multiple disabled\n",
              "        style=\"border:none\" />\n",
              "     <output id=\"result-86e7e2fe-a11a-41ec-92be-8c077f460127\">\n",
              "      Upload widget is only available when the cell has been executed in the\n",
              "      current browser session. Please rerun this cell to enable.\n",
              "      </output>\n",
              "      <script>// Copyright 2017 Google LLC\n",
              "//\n",
              "// Licensed under the Apache License, Version 2.0 (the \"License\");\n",
              "// you may not use this file except in compliance with the License.\n",
              "// You may obtain a copy of the License at\n",
              "//\n",
              "//      http://www.apache.org/licenses/LICENSE-2.0\n",
              "//\n",
              "// Unless required by applicable law or agreed to in writing, software\n",
              "// distributed under the License is distributed on an \"AS IS\" BASIS,\n",
              "// WITHOUT WARRANTIES OR CONDITIONS OF ANY KIND, either express or implied.\n",
              "// See the License for the specific language governing permissions and\n",
              "// limitations under the License.\n",
              "\n",
              "/**\n",
              " * @fileoverview Helpers for google.colab Python module.\n",
              " */\n",
              "(function(scope) {\n",
              "function span(text, styleAttributes = {}) {\n",
              "  const element = document.createElement('span');\n",
              "  element.textContent = text;\n",
              "  for (const key of Object.keys(styleAttributes)) {\n",
              "    element.style[key] = styleAttributes[key];\n",
              "  }\n",
              "  return element;\n",
              "}\n",
              "\n",
              "// Max number of bytes which will be uploaded at a time.\n",
              "const MAX_PAYLOAD_SIZE = 100 * 1024;\n",
              "\n",
              "function _uploadFiles(inputId, outputId) {\n",
              "  const steps = uploadFilesStep(inputId, outputId);\n",
              "  const outputElement = document.getElementById(outputId);\n",
              "  // Cache steps on the outputElement to make it available for the next call\n",
              "  // to uploadFilesContinue from Python.\n",
              "  outputElement.steps = steps;\n",
              "\n",
              "  return _uploadFilesContinue(outputId);\n",
              "}\n",
              "\n",
              "// This is roughly an async generator (not supported in the browser yet),\n",
              "// where there are multiple asynchronous steps and the Python side is going\n",
              "// to poll for completion of each step.\n",
              "// This uses a Promise to block the python side on completion of each step,\n",
              "// then passes the result of the previous step as the input to the next step.\n",
              "function _uploadFilesContinue(outputId) {\n",
              "  const outputElement = document.getElementById(outputId);\n",
              "  const steps = outputElement.steps;\n",
              "\n",
              "  const next = steps.next(outputElement.lastPromiseValue);\n",
              "  return Promise.resolve(next.value.promise).then((value) => {\n",
              "    // Cache the last promise value to make it available to the next\n",
              "    // step of the generator.\n",
              "    outputElement.lastPromiseValue = value;\n",
              "    return next.value.response;\n",
              "  });\n",
              "}\n",
              "\n",
              "/**\n",
              " * Generator function which is called between each async step of the upload\n",
              " * process.\n",
              " * @param {string} inputId Element ID of the input file picker element.\n",
              " * @param {string} outputId Element ID of the output display.\n",
              " * @return {!Iterable<!Object>} Iterable of next steps.\n",
              " */\n",
              "function* uploadFilesStep(inputId, outputId) {\n",
              "  const inputElement = document.getElementById(inputId);\n",
              "  inputElement.disabled = false;\n",
              "\n",
              "  const outputElement = document.getElementById(outputId);\n",
              "  outputElement.innerHTML = '';\n",
              "\n",
              "  const pickedPromise = new Promise((resolve) => {\n",
              "    inputElement.addEventListener('change', (e) => {\n",
              "      resolve(e.target.files);\n",
              "    });\n",
              "  });\n",
              "\n",
              "  const cancel = document.createElement('button');\n",
              "  inputElement.parentElement.appendChild(cancel);\n",
              "  cancel.textContent = 'Cancel upload';\n",
              "  const cancelPromise = new Promise((resolve) => {\n",
              "    cancel.onclick = () => {\n",
              "      resolve(null);\n",
              "    };\n",
              "  });\n",
              "\n",
              "  // Wait for the user to pick the files.\n",
              "  const files = yield {\n",
              "    promise: Promise.race([pickedPromise, cancelPromise]),\n",
              "    response: {\n",
              "      action: 'starting',\n",
              "    }\n",
              "  };\n",
              "\n",
              "  cancel.remove();\n",
              "\n",
              "  // Disable the input element since further picks are not allowed.\n",
              "  inputElement.disabled = true;\n",
              "\n",
              "  if (!files) {\n",
              "    return {\n",
              "      response: {\n",
              "        action: 'complete',\n",
              "      }\n",
              "    };\n",
              "  }\n",
              "\n",
              "  for (const file of files) {\n",
              "    const li = document.createElement('li');\n",
              "    li.append(span(file.name, {fontWeight: 'bold'}));\n",
              "    li.append(span(\n",
              "        `(${file.type || 'n/a'}) - ${file.size} bytes, ` +\n",
              "        `last modified: ${\n",
              "            file.lastModifiedDate ? file.lastModifiedDate.toLocaleDateString() :\n",
              "                                    'n/a'} - `));\n",
              "    const percent = span('0% done');\n",
              "    li.appendChild(percent);\n",
              "\n",
              "    outputElement.appendChild(li);\n",
              "\n",
              "    const fileDataPromise = new Promise((resolve) => {\n",
              "      const reader = new FileReader();\n",
              "      reader.onload = (e) => {\n",
              "        resolve(e.target.result);\n",
              "      };\n",
              "      reader.readAsArrayBuffer(file);\n",
              "    });\n",
              "    // Wait for the data to be ready.\n",
              "    let fileData = yield {\n",
              "      promise: fileDataPromise,\n",
              "      response: {\n",
              "        action: 'continue',\n",
              "      }\n",
              "    };\n",
              "\n",
              "    // Use a chunked sending to avoid message size limits. See b/62115660.\n",
              "    let position = 0;\n",
              "    do {\n",
              "      const length = Math.min(fileData.byteLength - position, MAX_PAYLOAD_SIZE);\n",
              "      const chunk = new Uint8Array(fileData, position, length);\n",
              "      position += length;\n",
              "\n",
              "      const base64 = btoa(String.fromCharCode.apply(null, chunk));\n",
              "      yield {\n",
              "        response: {\n",
              "          action: 'append',\n",
              "          file: file.name,\n",
              "          data: base64,\n",
              "        },\n",
              "      };\n",
              "\n",
              "      let percentDone = fileData.byteLength === 0 ?\n",
              "          100 :\n",
              "          Math.round((position / fileData.byteLength) * 100);\n",
              "      percent.textContent = `${percentDone}% done`;\n",
              "\n",
              "    } while (position < fileData.byteLength);\n",
              "  }\n",
              "\n",
              "  // All done.\n",
              "  yield {\n",
              "    response: {\n",
              "      action: 'complete',\n",
              "    }\n",
              "  };\n",
              "}\n",
              "\n",
              "scope.google = scope.google || {};\n",
              "scope.google.colab = scope.google.colab || {};\n",
              "scope.google.colab._files = {\n",
              "  _uploadFiles,\n",
              "  _uploadFilesContinue,\n",
              "};\n",
              "})(self);\n",
              "</script> "
            ]
          },
          "metadata": {}
        },
        {
          "output_type": "stream",
          "name": "stdout",
          "text": [
            "Saving test.png to test.png\n"
          ]
        }
      ]
    },
    {
      "cell_type": "code",
      "source": [
        "from PIL import Image\n",
        "\n",
        "ruta_original = \"/content/test.png\"\n",
        "ruta_ajustada = \"/content/test_400x400.png\"\n",
        "\n",
        "img = Image.open(ruta_original).convert(\"RGB\")\n",
        "img = img.resize((400, 400))\n",
        "img.save(ruta_ajustada)"
      ],
      "metadata": {
        "id": "7NXP1OPzLVSx"
      },
      "execution_count": 19,
      "outputs": []
    },
    {
      "cell_type": "code",
      "source": [
        "fen_predicha = reconstruir_fen(ruta_ajustada, model, train_gen.class_indices, threshold=0.8)\n",
        "print(\"📌 FEN reconstruida:\")\n",
        "print(fen_predicha)\n"
      ],
      "metadata": {
        "colab": {
          "base_uri": "https://localhost:8080/"
        },
        "id": "3qLn08f2LfZR",
        "outputId": "492a4dc5-c679-4950-bd11-3721e80b95fe"
      },
      "execution_count": 20,
      "outputs": [
        {
          "output_type": "stream",
          "name": "stdout",
          "text": [
            "\u001b[1m1/1\u001b[0m \u001b[32m━━━━━━━━━━━━━━━━━━━━\u001b[0m\u001b[37m\u001b[0m \u001b[1m0s\u001b[0m 36ms/step\n",
            "\u001b[1m1/1\u001b[0m \u001b[32m━━━━━━━━━━━━━━━━━━━━\u001b[0m\u001b[37m\u001b[0m \u001b[1m0s\u001b[0m 33ms/step\n",
            "\u001b[1m1/1\u001b[0m \u001b[32m━━━━━━━━━━━━━━━━━━━━\u001b[0m\u001b[37m\u001b[0m \u001b[1m0s\u001b[0m 32ms/step\n",
            "\u001b[1m1/1\u001b[0m \u001b[32m━━━━━━━━━━━━━━━━━━━━\u001b[0m\u001b[37m\u001b[0m \u001b[1m0s\u001b[0m 48ms/step\n",
            "\u001b[1m1/1\u001b[0m \u001b[32m━━━━━━━━━━━━━━━━━━━━\u001b[0m\u001b[37m\u001b[0m \u001b[1m0s\u001b[0m 32ms/step\n",
            "\u001b[1m1/1\u001b[0m \u001b[32m━━━━━━━━━━━━━━━━━━━━\u001b[0m\u001b[37m\u001b[0m \u001b[1m0s\u001b[0m 40ms/step\n",
            "\u001b[1m1/1\u001b[0m \u001b[32m━━━━━━━━━━━━━━━━━━━━\u001b[0m\u001b[37m\u001b[0m \u001b[1m0s\u001b[0m 34ms/step\n",
            "\u001b[1m1/1\u001b[0m \u001b[32m━━━━━━━━━━━━━━━━━━━━\u001b[0m\u001b[37m\u001b[0m \u001b[1m0s\u001b[0m 31ms/step\n",
            "\u001b[1m1/1\u001b[0m \u001b[32m━━━━━━━━━━━━━━━━━━━━\u001b[0m\u001b[37m\u001b[0m \u001b[1m0s\u001b[0m 31ms/step\n",
            "\u001b[1m1/1\u001b[0m \u001b[32m━━━━━━━━━━━━━━━━━━━━\u001b[0m\u001b[37m\u001b[0m \u001b[1m0s\u001b[0m 38ms/step\n",
            "\u001b[1m1/1\u001b[0m \u001b[32m━━━━━━━━━━━━━━━━━━━━\u001b[0m\u001b[37m\u001b[0m \u001b[1m0s\u001b[0m 35ms/step\n",
            "\u001b[1m1/1\u001b[0m \u001b[32m━━━━━━━━━━━━━━━━━━━━\u001b[0m\u001b[37m\u001b[0m \u001b[1m0s\u001b[0m 32ms/step\n",
            "\u001b[1m1/1\u001b[0m \u001b[32m━━━━━━━━━━━━━━━━━━━━\u001b[0m\u001b[37m\u001b[0m \u001b[1m0s\u001b[0m 32ms/step\n",
            "\u001b[1m1/1\u001b[0m \u001b[32m━━━━━━━━━━━━━━━━━━━━\u001b[0m\u001b[37m\u001b[0m \u001b[1m0s\u001b[0m 32ms/step\n",
            "\u001b[1m1/1\u001b[0m \u001b[32m━━━━━━━━━━━━━━━━━━━━\u001b[0m\u001b[37m\u001b[0m \u001b[1m0s\u001b[0m 32ms/step\n",
            "\u001b[1m1/1\u001b[0m \u001b[32m━━━━━━━━━━━━━━━━━━━━\u001b[0m\u001b[37m\u001b[0m \u001b[1m0s\u001b[0m 31ms/step\n",
            "\u001b[1m1/1\u001b[0m \u001b[32m━━━━━━━━━━━━━━━━━━━━\u001b[0m\u001b[37m\u001b[0m \u001b[1m0s\u001b[0m 32ms/step\n",
            "\u001b[1m1/1\u001b[0m \u001b[32m━━━━━━━━━━━━━━━━━━━━\u001b[0m\u001b[37m\u001b[0m \u001b[1m0s\u001b[0m 32ms/step\n",
            "\u001b[1m1/1\u001b[0m \u001b[32m━━━━━━━━━━━━━━━━━━━━\u001b[0m\u001b[37m\u001b[0m \u001b[1m0s\u001b[0m 43ms/step\n",
            "\u001b[1m1/1\u001b[0m \u001b[32m━━━━━━━━━━━━━━━━━━━━\u001b[0m\u001b[37m\u001b[0m \u001b[1m0s\u001b[0m 31ms/step\n",
            "\u001b[1m1/1\u001b[0m \u001b[32m━━━━━━━━━━━━━━━━━━━━\u001b[0m\u001b[37m\u001b[0m \u001b[1m0s\u001b[0m 31ms/step\n",
            "\u001b[1m1/1\u001b[0m \u001b[32m━━━━━━━━━━━━━━━━━━━━\u001b[0m\u001b[37m\u001b[0m \u001b[1m0s\u001b[0m 33ms/step\n",
            "\u001b[1m1/1\u001b[0m \u001b[32m━━━━━━━━━━━━━━━━━━━━\u001b[0m\u001b[37m\u001b[0m \u001b[1m0s\u001b[0m 33ms/step\n",
            "\u001b[1m1/1\u001b[0m \u001b[32m━━━━━━━━━━━━━━━━━━━━\u001b[0m\u001b[37m\u001b[0m \u001b[1m0s\u001b[0m 33ms/step\n",
            "\u001b[1m1/1\u001b[0m \u001b[32m━━━━━━━━━━━━━━━━━━━━\u001b[0m\u001b[37m\u001b[0m \u001b[1m0s\u001b[0m 33ms/step\n",
            "\u001b[1m1/1\u001b[0m \u001b[32m━━━━━━━━━━━━━━━━━━━━\u001b[0m\u001b[37m\u001b[0m \u001b[1m0s\u001b[0m 33ms/step\n",
            "\u001b[1m1/1\u001b[0m \u001b[32m━━━━━━━━━━━━━━━━━━━━\u001b[0m\u001b[37m\u001b[0m \u001b[1m0s\u001b[0m 33ms/step\n",
            "\u001b[1m1/1\u001b[0m \u001b[32m━━━━━━━━━━━━━━━━━━━━\u001b[0m\u001b[37m\u001b[0m \u001b[1m0s\u001b[0m 35ms/step\n",
            "\u001b[1m1/1\u001b[0m \u001b[32m━━━━━━━━━━━━━━━━━━━━\u001b[0m\u001b[37m\u001b[0m \u001b[1m0s\u001b[0m 32ms/step\n",
            "\u001b[1m1/1\u001b[0m \u001b[32m━━━━━━━━━━━━━━━━━━━━\u001b[0m\u001b[37m\u001b[0m \u001b[1m0s\u001b[0m 31ms/step\n",
            "\u001b[1m1/1\u001b[0m \u001b[32m━━━━━━━━━━━━━━━━━━━━\u001b[0m\u001b[37m\u001b[0m \u001b[1m0s\u001b[0m 33ms/step\n",
            "\u001b[1m1/1\u001b[0m \u001b[32m━━━━━━━━━━━━━━━━━━━━\u001b[0m\u001b[37m\u001b[0m \u001b[1m0s\u001b[0m 32ms/step\n",
            "\u001b[1m1/1\u001b[0m \u001b[32m━━━━━━━━━━━━━━━━━━━━\u001b[0m\u001b[37m\u001b[0m \u001b[1m0s\u001b[0m 32ms/step\n",
            "\u001b[1m1/1\u001b[0m \u001b[32m━━━━━━━━━━━━━━━━━━━━\u001b[0m\u001b[37m\u001b[0m \u001b[1m0s\u001b[0m 35ms/step\n",
            "\u001b[1m1/1\u001b[0m \u001b[32m━━━━━━━━━━━━━━━━━━━━\u001b[0m\u001b[37m\u001b[0m \u001b[1m0s\u001b[0m 35ms/step\n",
            "\u001b[1m1/1\u001b[0m \u001b[32m━━━━━━━━━━━━━━━━━━━━\u001b[0m\u001b[37m\u001b[0m \u001b[1m0s\u001b[0m 44ms/step\n",
            "\u001b[1m1/1\u001b[0m \u001b[32m━━━━━━━━━━━━━━━━━━━━\u001b[0m\u001b[37m\u001b[0m \u001b[1m0s\u001b[0m 39ms/step\n",
            "\u001b[1m1/1\u001b[0m \u001b[32m━━━━━━━━━━━━━━━━━━━━\u001b[0m\u001b[37m\u001b[0m \u001b[1m0s\u001b[0m 34ms/step\n",
            "\u001b[1m1/1\u001b[0m \u001b[32m━━━━━━━━━━━━━━━━━━━━\u001b[0m\u001b[37m\u001b[0m \u001b[1m0s\u001b[0m 32ms/step\n",
            "\u001b[1m1/1\u001b[0m \u001b[32m━━━━━━━━━━━━━━━━━━━━\u001b[0m\u001b[37m\u001b[0m \u001b[1m0s\u001b[0m 46ms/step\n",
            "\u001b[1m1/1\u001b[0m \u001b[32m━━━━━━━━━━━━━━━━━━━━\u001b[0m\u001b[37m\u001b[0m \u001b[1m0s\u001b[0m 49ms/step\n",
            "\u001b[1m1/1\u001b[0m \u001b[32m━━━━━━━━━━━━━━━━━━━━\u001b[0m\u001b[37m\u001b[0m \u001b[1m0s\u001b[0m 57ms/step\n",
            "\u001b[1m1/1\u001b[0m \u001b[32m━━━━━━━━━━━━━━━━━━━━\u001b[0m\u001b[37m\u001b[0m \u001b[1m0s\u001b[0m 45ms/step\n",
            "\u001b[1m1/1\u001b[0m \u001b[32m━━━━━━━━━━━━━━━━━━━━\u001b[0m\u001b[37m\u001b[0m \u001b[1m0s\u001b[0m 43ms/step\n",
            "\u001b[1m1/1\u001b[0m \u001b[32m━━━━━━━━━━━━━━━━━━━━\u001b[0m\u001b[37m\u001b[0m \u001b[1m0s\u001b[0m 41ms/step\n",
            "\u001b[1m1/1\u001b[0m \u001b[32m━━━━━━━━━━━━━━━━━━━━\u001b[0m\u001b[37m\u001b[0m \u001b[1m0s\u001b[0m 45ms/step\n",
            "\u001b[1m1/1\u001b[0m \u001b[32m━━━━━━━━━━━━━━━━━━━━\u001b[0m\u001b[37m\u001b[0m \u001b[1m0s\u001b[0m 47ms/step\n",
            "\u001b[1m1/1\u001b[0m \u001b[32m━━━━━━━━━━━━━━━━━━━━\u001b[0m\u001b[37m\u001b[0m \u001b[1m0s\u001b[0m 44ms/step\n",
            "\u001b[1m1/1\u001b[0m \u001b[32m━━━━━━━━━━━━━━━━━━━━\u001b[0m\u001b[37m\u001b[0m \u001b[1m0s\u001b[0m 42ms/step\n",
            "\u001b[1m1/1\u001b[0m \u001b[32m━━━━━━━━━━━━━━━━━━━━\u001b[0m\u001b[37m\u001b[0m \u001b[1m0s\u001b[0m 49ms/step\n",
            "\u001b[1m1/1\u001b[0m \u001b[32m━━━━━━━━━━━━━━━━━━━━\u001b[0m\u001b[37m\u001b[0m \u001b[1m0s\u001b[0m 56ms/step\n",
            "\u001b[1m1/1\u001b[0m \u001b[32m━━━━━━━━━━━━━━━━━━━━\u001b[0m\u001b[37m\u001b[0m \u001b[1m0s\u001b[0m 50ms/step\n",
            "\u001b[1m1/1\u001b[0m \u001b[32m━━━━━━━━━━━━━━━━━━━━\u001b[0m\u001b[37m\u001b[0m \u001b[1m0s\u001b[0m 56ms/step\n",
            "\u001b[1m1/1\u001b[0m \u001b[32m━━━━━━━━━━━━━━━━━━━━\u001b[0m\u001b[37m\u001b[0m \u001b[1m0s\u001b[0m 55ms/step\n",
            "\u001b[1m1/1\u001b[0m \u001b[32m━━━━━━━━━━━━━━━━━━━━\u001b[0m\u001b[37m\u001b[0m \u001b[1m0s\u001b[0m 38ms/step\n",
            "\u001b[1m1/1\u001b[0m \u001b[32m━━━━━━━━━━━━━━━━━━━━\u001b[0m\u001b[37m\u001b[0m \u001b[1m0s\u001b[0m 30ms/step\n",
            "\u001b[1m1/1\u001b[0m \u001b[32m━━━━━━━━━━━━━━━━━━━━\u001b[0m\u001b[37m\u001b[0m \u001b[1m0s\u001b[0m 32ms/step\n",
            "\u001b[1m1/1\u001b[0m \u001b[32m━━━━━━━━━━━━━━━━━━━━\u001b[0m\u001b[37m\u001b[0m \u001b[1m0s\u001b[0m 35ms/step\n",
            "\u001b[1m1/1\u001b[0m \u001b[32m━━━━━━━━━━━━━━━━━━━━\u001b[0m\u001b[37m\u001b[0m \u001b[1m0s\u001b[0m 33ms/step\n",
            "\u001b[1m1/1\u001b[0m \u001b[32m━━━━━━━━━━━━━━━━━━━━\u001b[0m\u001b[37m\u001b[0m \u001b[1m0s\u001b[0m 33ms/step\n",
            "\u001b[1m1/1\u001b[0m \u001b[32m━━━━━━━━━━━━━━━━━━━━\u001b[0m\u001b[37m\u001b[0m \u001b[1m0s\u001b[0m 32ms/step\n",
            "\u001b[1m1/1\u001b[0m \u001b[32m━━━━━━━━━━━━━━━━━━━━\u001b[0m\u001b[37m\u001b[0m \u001b[1m0s\u001b[0m 31ms/step\n",
            "\u001b[1m1/1\u001b[0m \u001b[32m━━━━━━━━━━━━━━━━━━━━\u001b[0m\u001b[37m\u001b[0m \u001b[1m0s\u001b[0m 33ms/step\n",
            "\u001b[1m1/1\u001b[0m \u001b[32m━━━━━━━━━━━━━━━━━━━━\u001b[0m\u001b[37m\u001b[0m \u001b[1m0s\u001b[0m 34ms/step\n",
            "📌 FEN reconstruida:\n",
            "P1P1q1k1/nPrPrPrP/1rPrPrPr/kP1PQPrK/2P1P1PP/kP1P1rPP/2P1P1P1/kP1P1P1P\n"
          ]
        }
      ]
    },
    {
      "cell_type": "code",
      "source": [
        "import os\n",
        "from PIL import Image\n",
        "from tqdm import tqdm\n",
        "import random\n",
        "\n",
        "# 📂 Rutas\n",
        "INPUT_FOLDER = ruta_dataset + \"/train\" # Use the variable ruta_dataset\n",
        "OUTPUT_FOLDER = \"/content/dataset_casillas_con_empty\"\n",
        "\n",
        "# ♟️ Clases válidas (12 piezas + empty)\n",
        "PIECE_CLASSES = list(\"PNBRQKpnbrqk\") + [\"empty\"]\n",
        "\n",
        "# 📁 Crear carpetas por clase\n",
        "for clase in PIECE_CLASSES:\n",
        "    os.makedirs(os.path.join(OUTPUT_FOLDER, clase), exist_ok=True)\n",
        "\n",
        "# 📌 Expandir fila FEN\n",
        "def expand_fen_row(row):\n",
        "    expanded = \"\"\n",
        "    for char in row:\n",
        "        if char.isdigit():\n",
        "            expanded += \" \" * int(char)\n",
        "        else:\n",
        "            expanded += char\n",
        "    return expanded\n",
        "\n",
        "# 🔪 Corte con etiqueta (incluyendo empty limitado)\n",
        "square_size = 50\n",
        "errores = 0\n",
        "total = 0\n",
        "\n",
        "for filename in tqdm(os.listdir(INPUT_FOLDER)):\n",
        "    if not filename.endswith(\".jpeg\"):\n",
        "        continue\n",
        "\n",
        "    total += 1\n",
        "    try:\n",
        "        fen = filename[:-5].replace(\"-\", \"/\")\n",
        "        fen_rows = fen.split(\"/\")\n",
        "        board = [list(expand_fen_row(row)) for row in fen_rows]\n",
        "\n",
        "        image_path = os.path.join(INPUT_FOLDER, filename)\n",
        "        img = Image.open(image_path)\n",
        "\n",
        "        empty_positions = []\n",
        "\n",
        "        for i in range(8):\n",
        "            for j in range(8):\n",
        "                piece = board[i][j]\n",
        "                left = j * square_size\n",
        "                top = i * square_size\n",
        "                right = left + square_size\n",
        "                bottom = top + square_size\n",
        "\n",
        "                square = img.crop((left, top, right, bottom))\n",
        "\n",
        "                if piece == \" \":\n",
        "                    empty_positions.append((i, j, square))\n",
        "                elif piece in PIECE_CLASSES:\n",
        "                    out_path = os.path.join(OUTPUT_FOLDER, piece, f\"{filename[:-5]}_{i}_{j}.png\")\n",
        "                    square.save(out_path)\n",
        "\n",
        "        # 🧩 Seleccionar hasta 8 vacías aleatorias por imagen\n",
        "        for i, j, square in random.sample(empty_positions, min(8, len(empty_positions))):\n",
        "            out_path = os.path.join(OUTPUT_FOLDER, \"empty\", f\"{filename[:-5]}_{i}_{j}.png\")\n",
        "            square.save(out_path)\n",
        "\n",
        "    except:\n",
        "        errores += 1\n",
        "\n",
        "print(f\"✅ Imágenes procesadas: {total}\")\n",
        "print(f\"⚠️ Imágenes con error: {errores}\")"
      ],
      "metadata": {
        "colab": {
          "base_uri": "https://localhost:8080/"
        },
        "id": "X2GMQ59JLoOn",
        "outputId": "8590f64f-037a-44a8-9df2-6d3355bbedb6"
      },
      "execution_count": 21,
      "outputs": [
        {
          "output_type": "stream",
          "name": "stderr",
          "text": [
            "100%|██████████| 80000/80000 [18:48<00:00, 70.91it/s]"
          ]
        },
        {
          "output_type": "stream",
          "name": "stdout",
          "text": [
            "✅ Imágenes procesadas: 80000\n",
            "⚠️ Imágenes con error: 0\n"
          ]
        },
        {
          "output_type": "stream",
          "name": "stderr",
          "text": [
            "\n"
          ]
        }
      ]
    },
    {
      "cell_type": "code",
      "source": [
        "from tensorflow.keras.preprocessing.image import ImageDataGenerator\n",
        "\n",
        "DATASET_DIR = \"/content/dataset_casillas_con_empty\"  # Ruta actual\n",
        "\n",
        "datagen = ImageDataGenerator(\n",
        "    rescale=1.0 / 255,\n",
        "    validation_split=0.2\n",
        ")\n",
        "\n",
        "BATCH_SIZE = 32\n",
        "TARGET_SIZE = (50, 50)\n",
        "\n",
        "train_gen = datagen.flow_from_directory(\n",
        "    DATASET_DIR,\n",
        "    target_size=TARGET_SIZE,\n",
        "    color_mode=\"rgb\",\n",
        "    batch_size=BATCH_SIZE,\n",
        "    class_mode=\"categorical\",\n",
        "    subset=\"training\",\n",
        "    shuffle=True\n",
        ")\n",
        "\n",
        "val_gen = datagen.flow_from_directory(\n",
        "    DATASET_DIR,\n",
        "    target_size=TARGET_SIZE,\n",
        "    color_mode=\"rgb\",\n",
        "    batch_size=BATCH_SIZE,\n",
        "    class_mode=\"categorical\",\n",
        "    subset=\"validation\",\n",
        "    shuffle=True\n",
        ")\n",
        "\n",
        "print(\"📚 Clases detectadas:\", train_gen.class_indices)\n"
      ],
      "metadata": {
        "colab": {
          "base_uri": "https://localhost:8080/"
        },
        "id": "KXvquwLVMt1j",
        "outputId": "6116e941-0224-470a-9a43-11cd01e71e63"
      },
      "execution_count": 22,
      "outputs": [
        {
          "output_type": "stream",
          "name": "stdout",
          "text": [
            "Found 1152346 images belonging to 13 classes.\n",
            "Found 288080 images belonging to 13 classes.\n",
            "📚 Clases detectadas: {'B': 0, 'K': 1, 'N': 2, 'P': 3, 'Q': 4, 'R': 5, 'b': 6, 'empty': 7, 'k': 8, 'n': 9, 'p': 10, 'q': 11, 'r': 12}\n"
          ]
        }
      ]
    },
    {
      "cell_type": "code",
      "source": [
        "from tensorflow.keras import layers, models\n",
        "\n",
        "model = models.Sequential([\n",
        "    layers.Conv2D(32, (3, 3), activation='relu', input_shape=(50, 50, 3)),\n",
        "    layers.MaxPooling2D((2, 2)),\n",
        "\n",
        "    layers.Conv2D(64, (3, 3), activation='relu'),\n",
        "    layers.MaxPooling2D((2, 2)),\n",
        "\n",
        "    layers.Conv2D(128, (3, 3), activation='relu'),\n",
        "    layers.MaxPooling2D((2, 2)),\n",
        "\n",
        "    layers.Flatten(),\n",
        "    layers.Dense(128, activation='relu'),\n",
        "    layers.Dropout(0.5),\n",
        "    layers.Dense(13, activation='softmax')  # 13 clases ahora\n",
        "])\n",
        "\n",
        "model.compile(optimizer='adam',\n",
        "              loss='categorical_crossentropy',\n",
        "              metrics=['accuracy'])\n",
        "\n",
        "model.summary()"
      ],
      "metadata": {
        "colab": {
          "base_uri": "https://localhost:8080/",
          "height": 531
        },
        "id": "SKw22XiARfgz",
        "outputId": "b48d4cc7-ac74-448d-9843-8aa47e6c8788"
      },
      "execution_count": 23,
      "outputs": [
        {
          "output_type": "stream",
          "name": "stderr",
          "text": [
            "/usr/local/lib/python3.11/dist-packages/keras/src/layers/convolutional/base_conv.py:107: UserWarning: Do not pass an `input_shape`/`input_dim` argument to a layer. When using Sequential models, prefer using an `Input(shape)` object as the first layer in the model instead.\n",
            "  super().__init__(activity_regularizer=activity_regularizer, **kwargs)\n"
          ]
        },
        {
          "output_type": "display_data",
          "data": {
            "text/plain": [
              "\u001b[1mModel: \"sequential_1\"\u001b[0m\n"
            ],
            "text/html": [
              "<pre style=\"white-space:pre;overflow-x:auto;line-height:normal;font-family:Menlo,'DejaVu Sans Mono',consolas,'Courier New',monospace\"><span style=\"font-weight: bold\">Model: \"sequential_1\"</span>\n",
              "</pre>\n"
            ]
          },
          "metadata": {}
        },
        {
          "output_type": "display_data",
          "data": {
            "text/plain": [
              "┏━━━━━━━━━━━━━━━━━━━━━━━━━━━━━━━━━┳━━━━━━━━━━━━━━━━━━━━━━━━┳━━━━━━━━━━━━━━━┓\n",
              "┃\u001b[1m \u001b[0m\u001b[1mLayer (type)                   \u001b[0m\u001b[1m \u001b[0m┃\u001b[1m \u001b[0m\u001b[1mOutput Shape          \u001b[0m\u001b[1m \u001b[0m┃\u001b[1m \u001b[0m\u001b[1m      Param #\u001b[0m\u001b[1m \u001b[0m┃\n",
              "┡━━━━━━━━━━━━━━━━━━━━━━━━━━━━━━━━━╇━━━━━━━━━━━━━━━━━━━━━━━━╇━━━━━━━━━━━━━━━┩\n",
              "│ conv2d_3 (\u001b[38;5;33mConv2D\u001b[0m)               │ (\u001b[38;5;45mNone\u001b[0m, \u001b[38;5;34m48\u001b[0m, \u001b[38;5;34m48\u001b[0m, \u001b[38;5;34m32\u001b[0m)     │           \u001b[38;5;34m896\u001b[0m │\n",
              "├─────────────────────────────────┼────────────────────────┼───────────────┤\n",
              "│ max_pooling2d_3 (\u001b[38;5;33mMaxPooling2D\u001b[0m)  │ (\u001b[38;5;45mNone\u001b[0m, \u001b[38;5;34m24\u001b[0m, \u001b[38;5;34m24\u001b[0m, \u001b[38;5;34m32\u001b[0m)     │             \u001b[38;5;34m0\u001b[0m │\n",
              "├─────────────────────────────────┼────────────────────────┼───────────────┤\n",
              "│ conv2d_4 (\u001b[38;5;33mConv2D\u001b[0m)               │ (\u001b[38;5;45mNone\u001b[0m, \u001b[38;5;34m22\u001b[0m, \u001b[38;5;34m22\u001b[0m, \u001b[38;5;34m64\u001b[0m)     │        \u001b[38;5;34m18,496\u001b[0m │\n",
              "├─────────────────────────────────┼────────────────────────┼───────────────┤\n",
              "│ max_pooling2d_4 (\u001b[38;5;33mMaxPooling2D\u001b[0m)  │ (\u001b[38;5;45mNone\u001b[0m, \u001b[38;5;34m11\u001b[0m, \u001b[38;5;34m11\u001b[0m, \u001b[38;5;34m64\u001b[0m)     │             \u001b[38;5;34m0\u001b[0m │\n",
              "├─────────────────────────────────┼────────────────────────┼───────────────┤\n",
              "│ conv2d_5 (\u001b[38;5;33mConv2D\u001b[0m)               │ (\u001b[38;5;45mNone\u001b[0m, \u001b[38;5;34m9\u001b[0m, \u001b[38;5;34m9\u001b[0m, \u001b[38;5;34m128\u001b[0m)      │        \u001b[38;5;34m73,856\u001b[0m │\n",
              "├─────────────────────────────────┼────────────────────────┼───────────────┤\n",
              "│ max_pooling2d_5 (\u001b[38;5;33mMaxPooling2D\u001b[0m)  │ (\u001b[38;5;45mNone\u001b[0m, \u001b[38;5;34m4\u001b[0m, \u001b[38;5;34m4\u001b[0m, \u001b[38;5;34m128\u001b[0m)      │             \u001b[38;5;34m0\u001b[0m │\n",
              "├─────────────────────────────────┼────────────────────────┼───────────────┤\n",
              "│ flatten_1 (\u001b[38;5;33mFlatten\u001b[0m)             │ (\u001b[38;5;45mNone\u001b[0m, \u001b[38;5;34m2048\u001b[0m)           │             \u001b[38;5;34m0\u001b[0m │\n",
              "├─────────────────────────────────┼────────────────────────┼───────────────┤\n",
              "│ dense_2 (\u001b[38;5;33mDense\u001b[0m)                 │ (\u001b[38;5;45mNone\u001b[0m, \u001b[38;5;34m128\u001b[0m)            │       \u001b[38;5;34m262,272\u001b[0m │\n",
              "├─────────────────────────────────┼────────────────────────┼───────────────┤\n",
              "│ dropout_1 (\u001b[38;5;33mDropout\u001b[0m)             │ (\u001b[38;5;45mNone\u001b[0m, \u001b[38;5;34m128\u001b[0m)            │             \u001b[38;5;34m0\u001b[0m │\n",
              "├─────────────────────────────────┼────────────────────────┼───────────────┤\n",
              "│ dense_3 (\u001b[38;5;33mDense\u001b[0m)                 │ (\u001b[38;5;45mNone\u001b[0m, \u001b[38;5;34m13\u001b[0m)             │         \u001b[38;5;34m1,677\u001b[0m │\n",
              "└─────────────────────────────────┴────────────────────────┴───────────────┘\n"
            ],
            "text/html": [
              "<pre style=\"white-space:pre;overflow-x:auto;line-height:normal;font-family:Menlo,'DejaVu Sans Mono',consolas,'Courier New',monospace\">┏━━━━━━━━━━━━━━━━━━━━━━━━━━━━━━━━━┳━━━━━━━━━━━━━━━━━━━━━━━━┳━━━━━━━━━━━━━━━┓\n",
              "┃<span style=\"font-weight: bold\"> Layer (type)                    </span>┃<span style=\"font-weight: bold\"> Output Shape           </span>┃<span style=\"font-weight: bold\">       Param # </span>┃\n",
              "┡━━━━━━━━━━━━━━━━━━━━━━━━━━━━━━━━━╇━━━━━━━━━━━━━━━━━━━━━━━━╇━━━━━━━━━━━━━━━┩\n",
              "│ conv2d_3 (<span style=\"color: #0087ff; text-decoration-color: #0087ff\">Conv2D</span>)               │ (<span style=\"color: #00d7ff; text-decoration-color: #00d7ff\">None</span>, <span style=\"color: #00af00; text-decoration-color: #00af00\">48</span>, <span style=\"color: #00af00; text-decoration-color: #00af00\">48</span>, <span style=\"color: #00af00; text-decoration-color: #00af00\">32</span>)     │           <span style=\"color: #00af00; text-decoration-color: #00af00\">896</span> │\n",
              "├─────────────────────────────────┼────────────────────────┼───────────────┤\n",
              "│ max_pooling2d_3 (<span style=\"color: #0087ff; text-decoration-color: #0087ff\">MaxPooling2D</span>)  │ (<span style=\"color: #00d7ff; text-decoration-color: #00d7ff\">None</span>, <span style=\"color: #00af00; text-decoration-color: #00af00\">24</span>, <span style=\"color: #00af00; text-decoration-color: #00af00\">24</span>, <span style=\"color: #00af00; text-decoration-color: #00af00\">32</span>)     │             <span style=\"color: #00af00; text-decoration-color: #00af00\">0</span> │\n",
              "├─────────────────────────────────┼────────────────────────┼───────────────┤\n",
              "│ conv2d_4 (<span style=\"color: #0087ff; text-decoration-color: #0087ff\">Conv2D</span>)               │ (<span style=\"color: #00d7ff; text-decoration-color: #00d7ff\">None</span>, <span style=\"color: #00af00; text-decoration-color: #00af00\">22</span>, <span style=\"color: #00af00; text-decoration-color: #00af00\">22</span>, <span style=\"color: #00af00; text-decoration-color: #00af00\">64</span>)     │        <span style=\"color: #00af00; text-decoration-color: #00af00\">18,496</span> │\n",
              "├─────────────────────────────────┼────────────────────────┼───────────────┤\n",
              "│ max_pooling2d_4 (<span style=\"color: #0087ff; text-decoration-color: #0087ff\">MaxPooling2D</span>)  │ (<span style=\"color: #00d7ff; text-decoration-color: #00d7ff\">None</span>, <span style=\"color: #00af00; text-decoration-color: #00af00\">11</span>, <span style=\"color: #00af00; text-decoration-color: #00af00\">11</span>, <span style=\"color: #00af00; text-decoration-color: #00af00\">64</span>)     │             <span style=\"color: #00af00; text-decoration-color: #00af00\">0</span> │\n",
              "├─────────────────────────────────┼────────────────────────┼───────────────┤\n",
              "│ conv2d_5 (<span style=\"color: #0087ff; text-decoration-color: #0087ff\">Conv2D</span>)               │ (<span style=\"color: #00d7ff; text-decoration-color: #00d7ff\">None</span>, <span style=\"color: #00af00; text-decoration-color: #00af00\">9</span>, <span style=\"color: #00af00; text-decoration-color: #00af00\">9</span>, <span style=\"color: #00af00; text-decoration-color: #00af00\">128</span>)      │        <span style=\"color: #00af00; text-decoration-color: #00af00\">73,856</span> │\n",
              "├─────────────────────────────────┼────────────────────────┼───────────────┤\n",
              "│ max_pooling2d_5 (<span style=\"color: #0087ff; text-decoration-color: #0087ff\">MaxPooling2D</span>)  │ (<span style=\"color: #00d7ff; text-decoration-color: #00d7ff\">None</span>, <span style=\"color: #00af00; text-decoration-color: #00af00\">4</span>, <span style=\"color: #00af00; text-decoration-color: #00af00\">4</span>, <span style=\"color: #00af00; text-decoration-color: #00af00\">128</span>)      │             <span style=\"color: #00af00; text-decoration-color: #00af00\">0</span> │\n",
              "├─────────────────────────────────┼────────────────────────┼───────────────┤\n",
              "│ flatten_1 (<span style=\"color: #0087ff; text-decoration-color: #0087ff\">Flatten</span>)             │ (<span style=\"color: #00d7ff; text-decoration-color: #00d7ff\">None</span>, <span style=\"color: #00af00; text-decoration-color: #00af00\">2048</span>)           │             <span style=\"color: #00af00; text-decoration-color: #00af00\">0</span> │\n",
              "├─────────────────────────────────┼────────────────────────┼───────────────┤\n",
              "│ dense_2 (<span style=\"color: #0087ff; text-decoration-color: #0087ff\">Dense</span>)                 │ (<span style=\"color: #00d7ff; text-decoration-color: #00d7ff\">None</span>, <span style=\"color: #00af00; text-decoration-color: #00af00\">128</span>)            │       <span style=\"color: #00af00; text-decoration-color: #00af00\">262,272</span> │\n",
              "├─────────────────────────────────┼────────────────────────┼───────────────┤\n",
              "│ dropout_1 (<span style=\"color: #0087ff; text-decoration-color: #0087ff\">Dropout</span>)             │ (<span style=\"color: #00d7ff; text-decoration-color: #00d7ff\">None</span>, <span style=\"color: #00af00; text-decoration-color: #00af00\">128</span>)            │             <span style=\"color: #00af00; text-decoration-color: #00af00\">0</span> │\n",
              "├─────────────────────────────────┼────────────────────────┼───────────────┤\n",
              "│ dense_3 (<span style=\"color: #0087ff; text-decoration-color: #0087ff\">Dense</span>)                 │ (<span style=\"color: #00d7ff; text-decoration-color: #00d7ff\">None</span>, <span style=\"color: #00af00; text-decoration-color: #00af00\">13</span>)             │         <span style=\"color: #00af00; text-decoration-color: #00af00\">1,677</span> │\n",
              "└─────────────────────────────────┴────────────────────────┴───────────────┘\n",
              "</pre>\n"
            ]
          },
          "metadata": {}
        },
        {
          "output_type": "display_data",
          "data": {
            "text/plain": [
              "\u001b[1m Total params: \u001b[0m\u001b[38;5;34m357,197\u001b[0m (1.36 MB)\n"
            ],
            "text/html": [
              "<pre style=\"white-space:pre;overflow-x:auto;line-height:normal;font-family:Menlo,'DejaVu Sans Mono',consolas,'Courier New',monospace\"><span style=\"font-weight: bold\"> Total params: </span><span style=\"color: #00af00; text-decoration-color: #00af00\">357,197</span> (1.36 MB)\n",
              "</pre>\n"
            ]
          },
          "metadata": {}
        },
        {
          "output_type": "display_data",
          "data": {
            "text/plain": [
              "\u001b[1m Trainable params: \u001b[0m\u001b[38;5;34m357,197\u001b[0m (1.36 MB)\n"
            ],
            "text/html": [
              "<pre style=\"white-space:pre;overflow-x:auto;line-height:normal;font-family:Menlo,'DejaVu Sans Mono',consolas,'Courier New',monospace\"><span style=\"font-weight: bold\"> Trainable params: </span><span style=\"color: #00af00; text-decoration-color: #00af00\">357,197</span> (1.36 MB)\n",
              "</pre>\n"
            ]
          },
          "metadata": {}
        },
        {
          "output_type": "display_data",
          "data": {
            "text/plain": [
              "\u001b[1m Non-trainable params: \u001b[0m\u001b[38;5;34m0\u001b[0m (0.00 B)\n"
            ],
            "text/html": [
              "<pre style=\"white-space:pre;overflow-x:auto;line-height:normal;font-family:Menlo,'DejaVu Sans Mono',consolas,'Courier New',monospace\"><span style=\"font-weight: bold\"> Non-trainable params: </span><span style=\"color: #00af00; text-decoration-color: #00af00\">0</span> (0.00 B)\n",
              "</pre>\n"
            ]
          },
          "metadata": {}
        }
      ]
    },
    {
      "cell_type": "code",
      "source": [
        "history = model.fit(\n",
        "    train_gen,\n",
        "    epochs=3,\n",
        "    validation_data=val_gen\n",
        ")\n"
      ],
      "metadata": {
        "colab": {
          "base_uri": "https://localhost:8080/"
        },
        "id": "qKsbxotDRsIE",
        "outputId": "38638582-7182-41d3-a149-d9c0f2998c6c"
      },
      "execution_count": 25,
      "outputs": [
        {
          "output_type": "stream",
          "name": "stdout",
          "text": [
            "Epoch 1/3\n",
            "\u001b[1m36011/36011\u001b[0m \u001b[32m━━━━━━━━━━━━━━━━━━━━\u001b[0m\u001b[37m\u001b[0m \u001b[1m0s\u001b[0m 36ms/step - accuracy: 0.9799 - loss: 0.0660"
          ]
        },
        {
          "output_type": "stream",
          "name": "stderr",
          "text": [
            "/usr/local/lib/python3.11/dist-packages/keras/src/trainers/data_adapters/py_dataset_adapter.py:121: UserWarning: Your `PyDataset` class should call `super().__init__(**kwargs)` in its constructor. `**kwargs` can include `workers`, `use_multiprocessing`, `max_queue_size`. Do not pass these arguments to `fit()`, as they will be ignored.\n",
            "  self._warn_if_super_not_called()\n"
          ]
        },
        {
          "output_type": "stream",
          "name": "stdout",
          "text": [
            "\b\b\b\b\b\b\b\b\b\b\b\b\b\b\b\b\b\b\b\b\b\b\b\b\b\b\b\b\b\b\b\b\b\b\b\b\b\b\b\b\b\b\b\b\b\b\b\b\b\b\b\b\b\b\b\b\b\b\b\b\b\b\b\b\b\b\b\b\b\b\b\b\b\b\b\b\b\b\b\r\u001b[1m36011/36011\u001b[0m \u001b[32m━━━━━━━━━━━━━━━━━━━━\u001b[0m\u001b[37m\u001b[0m \u001b[1m1566s\u001b[0m 43ms/step - accuracy: 0.9799 - loss: 0.0660 - val_accuracy: 1.0000 - val_loss: 1.1061e-06\n",
            "Epoch 2/3\n",
            "\u001b[1m36011/36011\u001b[0m \u001b[32m━━━━━━━━━━━━━━━━━━━━\u001b[0m\u001b[37m\u001b[0m \u001b[1m1415s\u001b[0m 39ms/step - accuracy: 0.9995 - loss: 0.0039 - val_accuracy: 1.0000 - val_loss: 1.6794e-06\n",
            "Epoch 3/3\n",
            "\u001b[1m36011/36011\u001b[0m \u001b[32m━━━━━━━━━━━━━━━━━━━━\u001b[0m\u001b[37m\u001b[0m \u001b[1m1428s\u001b[0m 40ms/step - accuracy: 0.9996 - loss: 0.0036 - val_accuracy: 1.0000 - val_loss: 2.0916e-04\n"
          ]
        }
      ]
    },
    {
      "cell_type": "code",
      "source": [
        "import matplotlib.pyplot as plt\n",
        "\n",
        "plt.figure(figsize=(12, 5))\n",
        "\n",
        "# Accuracy\n",
        "plt.subplot(1, 2, 1)\n",
        "plt.plot(history.history[\"accuracy\"], label=\"Entrenamiento\")\n",
        "plt.plot(history.history[\"val_accuracy\"], label=\"Validación\")\n",
        "plt.title(\"Precisión por época\")\n",
        "plt.xlabel(\"Época\")\n",
        "plt.ylabel(\"Accuracy\")\n",
        "plt.legend()\n",
        "\n",
        "# Pérdida\n",
        "plt.subplot(1, 2, 2)\n",
        "plt.plot(history.history[\"loss\"], label=\"Entrenamiento\")\n",
        "plt.plot(history.history[\"val_loss\"], label=\"Validación\")\n",
        "plt.title(\"Pérdida por época\")\n",
        "plt.xlabel(\"Época\")\n",
        "plt.ylabel(\"Loss\")\n",
        "plt.legend()\n",
        "\n",
        "plt.tight_layout()\n",
        "plt.show()\n"
      ],
      "metadata": {
        "colab": {
          "base_uri": "https://localhost:8080/",
          "height": 507
        },
        "id": "L3Wne1KyjBtp",
        "outputId": "8b93a7d4-e245-4930-96ba-2a5cb9181470"
      },
      "execution_count": 26,
      "outputs": [
        {
          "output_type": "display_data",
          "data": {
            "text/plain": [
              "<Figure size 1200x500 with 2 Axes>"
            ],
            "image/png": "[encoded data removed]"
          },
          "metadata": {}
        }
      ]
    },
    {
      "cell_type": "code",
      "source": [
        "model.save(\"/content/modelo_casillas_con_empty.keras\")\n"
      ],
      "metadata": {
        "id": "PtEhfBpsjKpD"
      },
      "execution_count": 27,
      "outputs": []
    },
    {
      "cell_type": "code",
      "source": [
        "def reconstruir_fen_con_empty(imagen_path, modelo, class_indices):\n",
        "    from PIL import Image\n",
        "    import numpy as np\n",
        "\n",
        "    img = Image.open(imagen_path)\n",
        "    square_size = 50\n",
        "    clases_inv = {v: k for k, v in class_indices.items()}\n",
        "\n",
        "    filas_fen = []\n",
        "\n",
        "    for i in range(8):\n",
        "        fila = \"\"\n",
        "        empty_count = 0\n",
        "\n",
        "        for j in range(8):\n",
        "            left = j * square_size\n",
        "            top = i * square_size\n",
        "            right = left + square_size\n",
        "            bottom = top + square_size\n",
        "\n",
        "            casilla = img.crop((left, top, right, bottom))\n",
        "            x = np.array(casilla.resize((50, 50))) / 255.0\n",
        "            x = np.expand_dims(x, axis=0)\n",
        "\n",
        "            pred = modelo.predict(x)[0]\n",
        "            clase_idx = np.argmax(pred)\n",
        "            clase = clases_inv[clase_idx]\n",
        "\n",
        "            if clase == \"empty\":\n",
        "                empty_count += 1\n",
        "            else:\n",
        "                if empty_count > 0:\n",
        "                    fila += str(empty_count)\n",
        "                    empty_count = 0\n",
        "                fila += clase\n",
        "\n",
        "        if empty_count > 0:\n",
        "            fila += str(empty_count)\n",
        "        filas_fen.append(fila)\n",
        "\n",
        "    fen = \"/\".join(filas_fen)\n",
        "    return fen\n"
      ],
      "metadata": {
        "id": "p7oEnAINjMeS"
      },
      "execution_count": 29,
      "outputs": []
    },
    {
      "cell_type": "code",
      "source": [
        "from google.colab import files\n",
        "files.upload()\n"
      ],
      "metadata": {
        "colab": {
          "base_uri": "https://localhost:8080/",
          "height": 1000
        },
        "collapsed": true,
        "id": "1On0I91Ijm7l",
        "outputId": "1759a392-ee86-4acc-ec37-aa1c3067c09f"
      },
      "execution_count": 50,
      "outputs": [
        {
          "output_type": "display_data",
          "data": {
            "text/plain": [
              "<IPython.core.display.HTML object>"
            ],
            "text/html": [
              "\n",
              "     <input type=\"file\" id=\"files-8f6a5db9-cc36-4b0f-a181-e0465bdbe70d\" name=\"files[]\" multiple disabled\n",
              "        style=\"border:none\" />\n",
              "     <output id=\"result-8f6a5db9-cc36-4b0f-a181-e0465bdbe70d\">\n",
              "      Upload widget is only available when the cell has been executed in the\n",
              "      current browser session. Please rerun this cell to enable.\n",
              "      </output>\n",
              "      <script>// Copyright 2017 Google LLC\n",
              "//\n",
              "// Licensed under the Apache License, Version 2.0 (the \"License\");\n",
              "// you may not use this file except in compliance with the License.\n",
              "// You may obtain a copy of the License at\n",
              "//\n",
              "//      http://www.apache.org/licenses/LICENSE-2.0\n",
              "//\n",
              "// Unless required by applicable law or agreed to in writing, software\n",
              "// distributed under the License is distributed on an \"AS IS\" BASIS,\n",
              "// WITHOUT WARRANTIES OR CONDITIONS OF ANY KIND, either express or implied.\n",
              "// See the License for the specific language governing permissions and\n",
              "// limitations under the License.\n",
              "\n",
              "/**\n",
              " * @fileoverview Helpers for google.colab Python module.\n",
              " */\n",
              "(function(scope) {\n",
              "function span(text, styleAttributes = {}) {\n",
              "  const element = document.createElement('span');\n",
              "  element.textContent = text;\n",
              "  for (const key of Object.keys(styleAttributes)) {\n",
              "    element.style[key] = styleAttributes[key];\n",
              "  }\n",
              "  return element;\n",
              "}\n",
              "\n",
              "// Max number of bytes which will be uploaded at a time.\n",
              "const MAX_PAYLOAD_SIZE = 100 * 1024;\n",
              "\n",
              "function _uploadFiles(inputId, outputId) {\n",
              "  const steps = uploadFilesStep(inputId, outputId);\n",
              "  const outputElement = document.getElementById(outputId);\n",
              "  // Cache steps on the outputElement to make it available for the next call\n",
              "  // to uploadFilesContinue from Python.\n",
              "  outputElement.steps = steps;\n",
              "\n",
              "  return _uploadFilesContinue(outputId);\n",
              "}\n",
              "\n",
              "// This is roughly an async generator (not supported in the browser yet),\n",
              "// where there are multiple asynchronous steps and the Python side is going\n",
              "// to poll for completion of each step.\n",
              "// This uses a Promise to block the python side on completion of each step,\n",
              "// then passes the result of the previous step as the input to the next step.\n",
              "function _uploadFilesContinue(outputId) {\n",
              "  const outputElement = document.getElementById(outputId);\n",
              "  const steps = outputElement.steps;\n",
              "\n",
              "  const next = steps.next(outputElement.lastPromiseValue);\n",
              "  return Promise.resolve(next.value.promise).then((value) => {\n",
              "    // Cache the last promise value to make it available to the next\n",
              "    // step of the generator.\n",
              "    outputElement.lastPromiseValue = value;\n",
              "    return next.value.response;\n",
              "  });\n",
              "}\n",
              "\n",
              "/**\n",
              " * Generator function which is called between each async step of the upload\n",
              " * process.\n",
              " * @param {string} inputId Element ID of the input file picker element.\n",
              " * @param {string} outputId Element ID of the output display.\n",
              " * @return {!Iterable<!Object>} Iterable of next steps.\n",
              " */\n",
              "function* uploadFilesStep(inputId, outputId) {\n",
              "  const inputElement = document.getElementById(inputId);\n",
              "  inputElement.disabled = false;\n",
              "\n",
              "  const outputElement = document.getElementById(outputId);\n",
              "  outputElement.innerHTML = '';\n",
              "\n",
              "  const pickedPromise = new Promise((resolve) => {\n",
              "    inputElement.addEventListener('change', (e) => {\n",
              "      resolve(e.target.files);\n",
              "    });\n",
              "  });\n",
              "\n",
              "  const cancel = document.createElement('button');\n",
              "  inputElement.parentElement.appendChild(cancel);\n",
              "  cancel.textContent = 'Cancel upload';\n",
              "  const cancelPromise = new Promise((resolve) => {\n",
              "    cancel.onclick = () => {\n",
              "      resolve(null);\n",
              "    };\n",
              "  });\n",
              "\n",
              "  // Wait for the user to pick the files.\n",
              "  const files = yield {\n",
              "    promise: Promise.race([pickedPromise, cancelPromise]),\n",
              "    response: {\n",
              "      action: 'starting',\n",
              "    }\n",
              "  };\n",
              "\n",
              "  cancel.remove();\n",
              "\n",
              "  // Disable the input element since further picks are not allowed.\n",
              "  inputElement.disabled = true;\n",
              "\n",
              "  if (!files) {\n",
              "    return {\n",
              "      response: {\n",
              "        action: 'complete',\n",
              "      }\n",
              "    };\n",
              "  }\n",
              "\n",
              "  for (const file of files) {\n",
              "    const li = document.createElement('li');\n",
              "    li.append(span(file.name, {fontWeight: 'bold'}));\n",
              "    li.append(span(\n",
              "        `(${file.type || 'n/a'}) - ${file.size} bytes, ` +\n",
              "        `last modified: ${\n",
              "            file.lastModifiedDate ? file.lastModifiedDate.toLocaleDateString() :\n",
              "                                    'n/a'} - `));\n",
              "    const percent = span('0% done');\n",
              "    li.appendChild(percent);\n",
              "\n",
              "    outputElement.appendChild(li);\n",
              "\n",
              "    const fileDataPromise = new Promise((resolve) => {\n",
              "      const reader = new FileReader();\n",
              "      reader.onload = (e) => {\n",
              "        resolve(e.target.result);\n",
              "      };\n",
              "      reader.readAsArrayBuffer(file);\n",
              "    });\n",
              "    // Wait for the data to be ready.\n",
              "    let fileData = yield {\n",
              "      promise: fileDataPromise,\n",
              "      response: {\n",
              "        action: 'continue',\n",
              "      }\n",
              "    };\n",
              "\n",
              "    // Use a chunked sending to avoid message size limits. See b/62115660.\n",
              "    let position = 0;\n",
              "    do {\n",
              "      const length = Math.min(fileData.byteLength - position, MAX_PAYLOAD_SIZE);\n",
              "      const chunk = new Uint8Array(fileData, position, length);\n",
              "      position += length;\n",
              "\n",
              "      const base64 = btoa(String.fromCharCode.apply(null, chunk));\n",
              "      yield {\n",
              "        response: {\n",
              "          action: 'append',\n",
              "          file: file.name,\n",
              "          data: base64,\n",
              "        },\n",
              "      };\n",
              "\n",
              "      let percentDone = fileData.byteLength === 0 ?\n",
              "          100 :\n",
              "          Math.round((position / fileData.byteLength) * 100);\n",
              "      percent.textContent = `${percentDone}% done`;\n",
              "\n",
              "    } while (position < fileData.byteLength);\n",
              "  }\n",
              "\n",
              "  // All done.\n",
              "  yield {\n",
              "    response: {\n",
              "      action: 'complete',\n",
              "    }\n",
              "  };\n",
              "}\n",
              "\n",
              "scope.google = scope.google || {};\n",
              "scope.google.colab = scope.google.colab || {};\n",
              "scope.google.colab._files = {\n",
              "  _uploadFiles,\n",
              "  _uploadFilesContinue,\n",
              "};\n",
              "})(self);\n",
              "</script> "
            ]
          },
          "metadata": {}
        },
        {
          "output_type": "stream",
          "name": "stdout",
          "text": [
            "Saving test3.png to test3 (2).png\n"
          ]
        },
        {
          "output_type": "execute_result",
          "data": {
            "text/plain": [
              "{'test3 (2).png': b'\\x89PNG\\r\\n\\x1a\\n\\x00\\x00\\x00\\rIHDR\\x00\\x00\\x02*\\x00\\x00\\x02-\\x08\\x06\\x00\\x00\\x00\\x175Q\\x0b\\x00\\x00\\x00\\x01sRGB\\x00\\xae\\xce\\x1c\\xe9\\x00\\x00\\x00\\x04gAMA\\x00\\x00\\xb1\\x8f\\x0b\\xfca\\x05\\x00\\x00\\x00\\tpHYs\\x00\\x00\\x12t\\x00\\x00\\x12t\\x01\\xdef\\x1fx\\x00\\x00w\\xe0IDATx^\\xed\\xdd\\x8d\\xbb]e}\\xe7\\x7fPK\\xc1 \\x01T\\x9e\\xd4\\x042C\\xabB\\x06\\x90\\x8e\\x06\\xc2\\x00m\\xd2\\x9f5\\xe8$\\xb4P$\\x16B\\xdb\\x99\\x10\\xc76\\x18\\xb5\\x80&\\x15\\xaa0\\xe6*\\xc3`\\tO\\x03C\\xe0\\xe7i\\x14)4!\\x05\\xc5\\xfaCbu\\xacUJx\\n\\x0fCI\\xa4\\xa0P&\\x85\\xf9\\x0f\\xee_>\\xfb\\x9c{s\\x9fu\\xde\\xfba\\xad\\xbd\\xd6>\\x87\\xfd\\xb9\\xf7u\\xbd.9\\xe7\\xec\\xa7\\xf3\\xbeN\\xce\\xf9z\\xaf{\\xaf\\xbd\\xd7\\xab\\xbb_\\t\\xff\\xfa\\x7f\\xfe\\xa5-\\x7f\\x9c?\\xce\\x1f\\xe7\\x8f\\xf3\\xc7\\xf9\\xe3\\xfcq\\xfex\\xa6|\\xbcW\\xfa\\xc9,\\xcb\\xb2,\\xcb\\xb2\\x99\\xa4=\\xa8\\xa4\\x93\\xcc\\xeeW^n\\xffo\\x94?\\xce\\x1f\\xe7\\x8f\\xf3\\xc7\\xf9\\xe3\\xfcq\\xfe8\\x7f\\xdc\\xe4\\xc7\\xfa\\xef\\xe2\\xca\\xca\\xa4\\x15\\x95\\xf4\\x86\\xd1\\xff\\xf9\\x97\\x97\\xb2,\\xcb\\xb2,\\xcb\\x1aA\\xb3G:\\x9b\\xb4\\xf7\\xa8\\xa4_\\x8c7~\\xe5\\xe5_\\xb4\\xff7\\xca\\x1f\\xe7\\x8f\\xf3\\xc7\\xf9\\xe3\\xfcq\\xfe8\\x7f\\x9c?\\xae\\xf3c\\xfdw:\\xa8\\xc8\\xa4=*\\xf1\\x93\\xbab\\xbc\\xe1\\xbf\\xbc\\xf4\\xf3\\x96\\x97\\x7f\\xf1b\\x96eY\\x96eY#\\xe2\\xbc\\x11\\x07\\x96thi\\r*\\xf1\\x03\\x89\\x03J\\xbc\\xf1/~\\xfeB\\xf8\\xc5\\x8b\\xff\\x1c~\\xfe\\xc2\\xf3\\xed\\xff\\x8d\\xf2\\xc7\\xf9\\xe3\\xfcq\\xfe8\\x7f\\x9c?\\xce\\x1f\\xe7\\x8f\\x07\\xf9X\\xff\\xfd\\xd2\\x9ey\\xe3\\xa5=\\xf3F\\x1cZ\\x8a\\xc3JkP\\x89\\x9f\\xd4\\x15t\\xe5\\xff\\xfb\\xcc}Y\\xe2\\xbe\\xf5\\x7f\\x98%\\xa8\\x913j\\xe4\\x8c\\x1a9\\xa3F\\xce\\xa8\\x913j\\xe4L3HqXi\\x1d\\xfa\\xd1\\x07ZM\\xd1\\x154\\xe1PLg\\x14\\xd3\\x195rF\\x8d\\x9cQ#g\\xd4\\xc8\\x195rF\\x8d\\x9c\\xbd\\xf8\\xcf?k\\xcd\"\\x9aI\\xa6\\xac\\xa8h\\x82\\xd1\\x90\\xb2\\xeb\\xb9\\x7f\\xc2\\x98\\xce(\\xa63j\\xe4\\x8c\\x1a9\\xa3F\\xce\\xa8\\x913j\\xe4\\x8c\\x1a9\\xd3\\x0c\\xa2Y$\\xae\\xaa\\xb4\\x06\\x95\\xb8\\x9a\\xa2cC/<\\xbf+\\xfc\\xef\\xa7\\x9f\\xc2\\x98\\xce(\\xa63j\\xe4\\x8c\\x1a9\\xa3F\\xce\\xa8\\x913j\\xe4\\x8c\\x1a9\\xd3\\x0c\\x92\\xae\\xaahFi\\x0f*\\xfa\\xe4?\\xfflgx\\xfa\\xc9\\'0\\xa63\\x8a\\xe9\\x8c\\x1a9\\xa3F\\xce\\xa8\\x913j\\xe4\\x8c\\x1a9\\xa3F\\xce4\\x83h\\x16\\x994\\xa8hYE\\x1f\\xfc\\xe2\\xc5\\x17\\xc2\\xf3\\xbb\\x9e\\x0bO\\xe5Ae\\n\\x8a\\xe9\\x8c\\x1a9\\xa3F\\xce\\xa8\\x913j\\xe4\\x8c\\x1a9\\xa3F\\xce\\x9e\\xda\\xf1xk\\x16\\xd1L\\xf2\\xca\\x9e!\\xa5\\xbd\\xa2\\xa2cAz\\x89\\xd0\\xcfv\\xfeSx\\xf2\\x89\\xc70\\xa63\\x8a\\xe9\\x8c\\x1a9\\xa3F\\xce\\xa8\\x913j\\xe4\\x8c\\x1a9\\xa3F\\xa3gUx\\xf8\\xfe[\\xc2\\xcb\\x8fn\\t\\xaf\\xee\\xd8\\xe3\\xd1M\\xe1\\x85o\\xfdIx\\x00\\xae\\xab\\x19D\\xb3\\x88f\\x92\\xb8O\\xa5=\\xa8h\\x99%\\x0f*\\xac\\x18\\xd2\\x1d5rF\\x8d\\x86m\\xec\\x0b\\xe7\\xe2\\xe7\\xa7\\x035rF\\x8d\\x9cQ#g\\xd4h\\xd4<\\xf2\\xe0\\xdd\\xed\\xef\\xf7\\xd5\\x1d[\\xdb\\xff\\xfd\\xca\\x03\\x9f\\x9dr]\\xcd \\xe3+*0\\xa8\\xe4\\x15\\x95\\xce\\x8a!\\xddQ#g\\xd4h\\x98\\xbe\\xfc\\x87\\xbf\\x15\\xf6\\xdak\\xafp\\xc2\\xd1\\xef\\xc2\\xaf\\x0f\\x1b5rF\\x8d\\x9cQ#g\\xd4h\\xb4\\\\\\x1a\\x9e\\x7ft\\xfc{}\\xe5oW\\xb7>\\xf7\\xd0\\xf7\\xee\\x1c\\xff\\xfe\\x7frU\\xe1\\xba\\x1dVT\\xb4Ge\\xd2\\xa0\\xb2\\xe3\\xf1I\\x11\\xb3\\xfc\\x8b\\xa6\\x88\\x1a9\\xa3F\\xc3\\xf4\\x99\\xb3Om\\r*\\xef<p\\x7f\\xfc\\xfa\\xb0Q#g\\xd4\\xc8\\x195rF\\x8dF\\xcb\\xa7\\xc2\\xb3\\x0f\\x8d\\x7f\\xaf\\xaf|O+(+\\xc3\\x13?\\xdc2\\xfe\\xfd\\xff\\xfd\\x95\\x85\\xeb\\xfea\\xd8\\x91\\x0c*\\x93^\\xf5\\x93\\x0e*\\xbaR\\x1a1\\xcb\\xbfh\\x8a\\xa8\\x913j\\xd4\\xb4\\xbb\\xbf\\xb4\"l\\xbc\\xe4\\x9c\\x96?<\\xe3\\x83\\xadA\\xe5\\xe0\\x03\\xde\\xda\\xfe\\x9c\\xd0\\xed\\x86\\x81\\x1a9\\xa3F\\xce\\xa8\\x913j4j\\x1e\\xf8\\xc6Ma\\xf7\\xc4\\xf7\\xbb\\xfb\\xd1\\x89\\xc3@;\\xc6\\xc237O\\xbdn:\\xa8L9\\xf4\\x13\\xf7\\xa8\\xe4Ae\\xaabHw\\xd4\\xc8\\x195j\\xd2_\\x7fyE8p\\xff\\xfdZ\\xc3I7\\x1f\\xff\\x8d\\xe3\\xf1\\xf6M\\xa3F\\xce\\xa8\\x913j\\xe4\\x8c\\x1a\\x8d\\x9e\\x95\\xe1\\xe1\\x07\\xeeH\\xbe\\xef-\\xe1\\xe7[\\xc6\\x0f\\x03\\x15i\\x06\\xe9\\xb9G%\\x0f*SQLg\\xd4\\xc8\\x195j\\x92VSf\\xcf\\xda\\x17\\x87\\x93\\xd49yP\\x99\\x11\\xa8\\x913j\\xe4\\x8c\\x1a\\x8d\\x96\\x95\\xe1\\x91\\xef\\xc7U\\x94;\\xc2\\x0b\\xdf\\x1f\\x9bX]\\xd9\\x1a^\\xbao\\xea\\xb0\\x82+*S\\xf6\\xa8<\\x91\\xf7\\xa8\\x14\\x15C\\xba\\xa3F\\xce\\xa8Q\\xd3\\xee\\xfa\\xd2\\xf9a\\xe3\\xc5\\xbf\\xdb\\xf2\\x87K\\x92C?\\x13\\x9f\\x13\\xba\\xdd0P#g\\xd4\\xc8\\x195rF\\x8dF\\xca\\rW\\x87\\x97[\\xdf\\xeb\\x9da\\xd7\\xed\\xe3\\x9f{\\xe0\\xae[\\xc2\\xab\\xfa\\xdc\\x93\\xb7\\x87\\x1d\\x85\\xeb\\xa7\\x83J\\xde\\xa3RB\\x1a1\\xcb\\xbfh\\x8a\\xa8\\xd10\\xe5\\xcd\\xb43\\x1b5rF\\x8d\\x9cQ\\xa3\\x912v\\xfd\\xc4\\n\\xca\\xa6\\xf0\\xec\\xd5\\x13\\x9f\\xbb\\xe1\\xab\\x13\\xc3\\xcbXx\\xa6p}\\\\Q\\x89\\x83J\\xde\\xa3\\xd2Y\\x1a1\\xcb\\xbfh\\x8a\\xa8\\xd10\\xe5Aef\\xa3F\\xce\\xa8\\x913j4Z\\xfe4\\xbc\\xf0\\xc4\\xc4\\xf7\\xfb\\xf8\\xa6\\xf0\\xd2\\x8fo\\x0f/?>\\xf1\\xf1\\xf6\\r\\xe1\\xa1\\xc2\\xf55\\x83\\xe4=*\\x15\\xa4\\x11\\xb3\\xfc\\x8b\\xa6\\x88\\x1a\\rS\\x1eTf6j\\xe4\\x8c\\x1a9\\xa3F\\xa3\\xe6\\x81\\xaf]\\x15^z\\xf4\\xf5\\x13\\xbd\\xc9\\xab\\x0f\\xdd\\x14v\\xf4\\xfb\\xaa\\x9f\\xbcG\\xa5\\xb7bHw\\xd4\\xc8\\x195\\x1a\\x86;/;/,;\\xe5\\x98\\xf0\\xcb\\xbf\\xf4\\x96\\xd6\\xa0\"\\xf3\\x8ex{X\\xbfr\\t^\\x7fX\\xa8\\x913j\\xe4\\x8c\\x1a9\\xa3F#\\xeb/V\\x87\\x9fl\\xfct\\xf8a<\\x04\\x04\\xd2A%\\xefQ)\\x81b:\\xa3F\\xce\\xa8Q\\xd34\\xa4\\x1cz\\xd0\\xfe\\xed\\x01\\xa5h\\xe5G\\x17\\xe0\\xed\\x86\\x81\\x1a9\\xa3F\\xce\\xa8\\x913j\\xe4\\x0cWT\\xe2\\xa0\\x92\\xf7\\xa8tF1\\x9dQ#g\\xd4\\xa8iG\\x1d~0\\x0e(\\xa9u\\xe7-\\xc6\\xdb6\\x8d\\x1a9\\xa3F\\xce\\xa8\\x913j\\xe4L3H\\xde\\xa3R\\x01\\xc5tF\\x8d\\x9cQ\\xa3&\\xad\\x99\\xd8\\x93\\xd2\\x8bV\\\\\\xe8\\xf6M\\xa3F\\xce\\xa8\\x913j\\xe4\\x8c\\x1a9\\xc3\\x15\\x95\\xbcG\\xa57\\x8a\\xe9\\x8c\\x1a9\\xa3FM\\xeag5%\\x9a\\x8eU\\x15j\\xe4\\x8c\\x1a9\\xa3F\\xce\\xa8\\x91\\xb3tP\\xc9{TJ\\xa0\\x98\\xce\\xa8\\x913jT\\xc6\\xfa\\x95g\\xb4mX\\xbd\\x0c\\xaf\\x93\\xa2\\x81\\xa4\\x93\\xa5\\x0b\\x8f\\xc1\\xfb\\x10\\xbd\\x1fP\\xfa\\xd8u\\xbd?\\x105rF\\x8d\\x9cQ#g\\xd4\\xc8\\x19\\xae\\xa8\\xc4A%\\xefQ\\xe9\\x8cb:\\xa3F\\xce\\xa8Q/zIq\\xb7\\xcd\\xb0\\xf3\\xe7\\x1d\\xde\\xba\\x8e6\\xcd\\xa6\\xb7\\xd3+z\\xe8\\xfa\\x9d\\xcc\\x9fw\\xd8\\x94\\xdb/>\\xf1\\xe8\\xae\\x8f\\xad\\xaf\\xf730uB\\x8d\\x9cQ#g\\xd4\\xc8\\x195r\\xa6\\x19$\\xefQ\\xa9\\x80b:\\xa3F\\xce\\xa8Q\\'\\x1a<\\xf4\\x12b\\r\\x04\\x0b\\x17.\\x0c\\x17_|q\\xf8\\xda\\xd7\\xbe\\x16\\xee\\xb9\\xe7\\x9e\\xb0a\\xc3\\x86\\xd6\\xc7\\x1f\\xf9\\xc8G\\xc2\\xec\\xd9\\xb3\\'\\r\\x0e\\xf1%\\xc7\\xfd\\xeeO\\x89\\x0e\\xd93\\x90\\xe81W~l\\xc1\\xa4\\xe1D\\xf7\\xff\\xf1\\x8f\\x7f\\xbc\\xf5xz\\\\=\\xfe\\x15W\\\\\\xd1\\xfa\\xf8\\xd8c\\x8fm]G\\xc3RqP\\xea\\x075rF\\x8d\\x9cQ#g\\xd4\\xc8\\x19\\xae\\xa8\\xe4=*\\xbdQLg\\xd4\\xc8\\x195\"Z\\xa5\\x98\\xb5\\xdf>a\\xc9\\x92%\\xe1\\xe1\\x87\\x1f\\x0e\\xbbw\\xef\\xeej\\xdb\\xb6m\\xada\"\\x0e\\x17\\'\\x1d37\\\\\\xb6\\xe27\\xdb\\x1f\\xf7c\\xee\\xa1\\x07\\xb5\\x1e3~\\xac\\xfb\\xd3\\xfd\\xd2\\xe3\\xa5t\\x1d=O\\r7eWW\\xa8\\x913j\\xe4\\x8c\\x1a9\\xa3F\\xce\\xd2A%\\xefQ)\\x81b:\\xa3F\\xce\\xa8QQ<\\xef\\xc9\\xb9\\xe7\\x9e;e \\x18\\x1b\\x1bk\\xadd\\\\w\\xddua\\xeb\\xd6\\xad\\x93\\xbe.\\xcf=\\xf7\\\\\\xeb\\xebZ\\x05\\xd1\\xd9g\\xd3A\\xa4\\x1f\\xba\\x9dn_\\x1c\\x8ev\\xee\\xdc\\xd9z<=\\xfe\\x95W^\\xd9\\xfa\\xef\\xed\\xdb\\xb7O\\xba\\x8eVY4\\xe8\\x94\\xd9\\xbfB\\x8d\\x9cQ#g\\xd4\\xc8\\x195r\\x86+*qP\\xc9{T:\\xa3\\x98\\xce\\xa8\\x913jT\\xb4|\\xf1\\t\\xad\\x15\\x8a8\\x00h@\\xd1\\xa1\\x1f\\x1a,D_\\xd3\\xe0\\x92\\x0e\\rr\\xe1\\x85\\x17\\xe2\\xf5;\\xd1cj\\xd0I\\xefC\\xf7\\xdb\\xeb\\xb1\\xd3U\\x17\\x1d\\x1a\\xd2\\xe1*\\xfa\\xbe\\x085rF\\x8d\\x9cQ#g\\xd4\\xc8\\x99f\\x90\\xbcG\\xa5\\x02\\x8a\\xe9\\x8c\\x1a9\\xa3F)\\xadFhU#\\x0e\\x0cZ\\xb9H\\xf7\\xa0t\\x13WC\\xb4\\xfa\\x11\\x07\\x07\\xedi\\xe9\\xe7\\xf6\\xba]\\xbc\\x8dn\\xaf\\x8f\\xe7\\xcc\\x99\\x83\\xd7%\\xe9\\xa0\\xb4j\\xd5\\xaa\\xae\\xaf JQ#g\\xd4\\xc8\\x195rF\\x8d\\x9c\\xe1\\x8aJ\\xde\\xa3\\xd2\\x1b\\xc5tF\\x8d\\x9cQ\\xa3\\x94\\xfe\\xc0\\xeb\\xd0J\\x1c\\x18\\xfa\\x1dRR\\xbaM:8h\\xe8\\x89\\x9b^\\xe9\\xba\\xda\\x1c\\x1b\\xaf\\xab\\xd5\\x91*\\x8f)\\xe9cj\\xc8\\xa1\\xef\\xaf\\x88\\x1a9\\xa3F\\xce\\xa8\\x913j\\xe4,\\x1dT\\xf2\\x1e\\x95\\x12(\\xa63j\\xe4\\x8c\\x1a\\xa5\\xb47%\\xee\\x0f\\xd1\\xca\\x04\\r\\x04\\xfd\\xd2\\xa1\\x9c\\xb8\\xba\\xa2a\\x85VHt\\xa8&\\x0e\\x17\\x1a\\x90\\x8a_/+>\\x9e\\xf6\\xd7\\xf4s\\x029j\\xe4\\x8c\\x1a9\\xa3F\\xce\\xa8\\x913\\\\Q\\x89\\x83J\\xde\\xa3\\xd2\\x19\\xc5tF\\x8d\\x9cQ\\xa3H\\xaf\\x98\\xd10\\x11\\x07\\x87N\\xab e\\xe8>\\xe2\\xf0P\\\\-I\\x0f\\xf7h\\xb0HoW\\x956\\xdb\\xea\\xfe\\xb4\\xba\\xb2\\xe8\\xc4\\xa3\\xf1\\xfbLQ#g\\xd4\\xc8\\x195rF\\x8d\\x9ci\\x06\\xc9{T*\\xa0\\x98\\xce\\xa8\\x913j\\x14\\xe9\\xfc\\'\\xda\\x9c\\x1a\\x87\\x07\\x1a\\x04\\xaa(\\x0e+\\xfa\\\\\\xbaYWCE\\xf16U\\xc5\\xe1G{k\\x8a\\'\\x90#\\xd4\\xc8\\x195rF\\x8d\\x9cQ#g\\xb8\\xa2\\x92\\xf7\\xa8\\xf4F1\\x9dQ#g\\xd4(jjP\\x91\\xf4\\xa5\\xce\\xfa\\xefxxI\\x03\\x05]\\xbf\\xaa<\\xa8\\x0c\\x86\\x1a9\\xa3F\\xce\\xa8\\x91\\xb3tP\\xc9{TJ\\xa0\\x98\\xce\\xa8\\x913j\\x1459\\xa8H\\xba\\xd95*\\xf3\\xca\\x9e~\\xe4C?\\x83\\xa1F\\xce\\xa8\\x913j\\xe4\\x0cWT\\xe2\\xa0\\x92\\xf7\\xa8tF1\\x9dQ#g\\xd4(\\xd2\\x89\\xde\\xd2=*u\\xed\\x1b\\x89\\xd2\\xfb\\x8e\\xc3\\x04]\\xaf*\\xed\\x7f\\x89/\\xab\\xd6F`\\x9d\\xc2\\x9f\\xbe\\xcf\\x145rF\\x8d\\x9cQ#g\\xd4\\xc8\\x99f\\x90\\xbcG\\xa5\\x02\\x8a\\xe9\\x8c\\x1a9\\xa3F\\xa9\\x05\\xef\\x9f\\xdb^\\x95\\xd0\\xcb\\x86i \\x18D\\xba\\xaaR\\xf7jJ<\\xec\\xa3\\xfd0\\x87\\x1f\\xf2\\x8e\\xbe\\xde\\xfb\\x87\\x1a9\\xa3F\\xce\\xa8\\x913j\\xe4\\x0cWT\\xf2\\x1e\\x95\\xde(\\xa63j\\xe4\\x8c\\x1a\\xa5\\xb4\\n\\x91nt\\xad{U\\xa5\\xa9CK\\xda\\xb0\\x1b\\xefW\\x03K>\\xe1[5\\xd4\\xc8\\x195rF\\x8d\\x9c\\xa5\\x83J\\xde\\xa3R\\x02\\xc5tF\\x8d\\x9cQ\\xa3\"mBMW>\\xeax\\x99r\\xd4\\xd4\\xab\\x8a\\xe2!\\x1f\\xbd\\xaa\\xa8\\xdf\\xd5\\x14\\xa1F\\xce\\xa8\\x913j\\xe4\\x8c\\x1a9\\xc3\\x15\\x958\\xa8\\xe4=*\\x9dQLg\\xd4\\xc8\\x195*\\xd2i\\xf4\\xf5\\xc7>\\xbe\\x87\\x8e\\x86\\x00\\r\\x184$\\x94U\\xf7\\xa0\\xa2!%\\xbe\\x82H\\x87|\\xb4O\\xa5\\xcc;(S#g\\xd4\\xc8\\x195rF\\x8d\\x9ci\\x06\\xc9{T*\\xa0\\x98\\xce\\xa8\\x913jDtVW\\xed!\\x89\\xe7?\\x91\\xb2\\x87\\x814D\\x9c|\\xf2\\xc9-\\x1f\\xff\\xf8\\xc7[\\x87dt\\xf6\\xd9\\x9f\\xff\\xfc\\xe7\\xad!H\\x9f\\x8b_\\xaf\\xb2j\\x93\\xbe\\x89\\xa1\\x9e\\xa7\\xee\\xa3\\x9f\\r\\xb4)j\\xe4\\x8c\\x1a9\\xa3F\\xce\\xa8\\x913\\\\Q\\xc9{Tz\\xa3\\x98\\xce\\xa8\\x913j\\xd4\\x89\\xfe\\xe8k\\x85\"\\xae\\xac\\x886\\xd8\\xd2P\\xa1\\xcf\\xe9\\xdd\\x92\\xf5\\xf5\\xf4\\xfae\\xe9\\xb6\\xba\\x0f\\xddW\\xb7\\xe1%n\\x9c\\x958\\xa4\\xe8]\\x9f\\xe9\\xfb\\xe8\\x86\\x1a9\\xa3F\\xce\\xa8\\x913j\\xe4,\\x1dT\\xf2\\x1e\\x95\\x12(\\xa63j\\xe4\\x8c\\x1au\\xa3\\x95\\x15\\x1d\\x06*\\x9e\\x03E\\x83\\x82\\x0e\\xe3\\xe8\\xbdz\\xe2\\xa1\\x97n4\\x80\\xe8$l\\xa9~\\x06\\x1a\\xdd\\xb7\\x1e#\\x1ez\\xd2*J\\xfax\\xba\\x0f\\rSeWR\"j\\xe4\\x8c\\x1a9\\xa3F\\xce\\xa8\\x913\\\\Q\\x89\\x83J\\xde\\xa3\\xd2\\x19\\xc5tF\\x8d\\x9cQ\\xa3^\\xb4\\xe7\\xe3\\x90\\x83\\xf6o\\r\\x0bq\\xb8\\x88\\x87\\\\R\\xdb\\xb7oo\\x1d\\xda\\xd19Lt\\xdd2/?\\xd6uu\\x1b\\xddV\\xf7\\xa1\\xfb*\\xde\\xff3\\xcf<3\\xe9c\\rK\\xb3\\xf6\\xdd\\xa7\\xd4\\x9e\\x94\"j\\xe4\\x8c\\x1a9\\xa3F\\xce\\xa8\\x913\\xcd y\\x8fJ\\x05\\x14\\xd3\\x195rF\\x8d\\xfa\\xa5C+\\xf1\\x1c+\\x91VF4\\\\\\xd4}N\\x14\\xd1}\\xea\\xbe\\xf5\\x18\\xe9c\\xee\\xd8\\xb1\\xa3\\xf55\\x9d\\xf3\\xa5\\xdfW\\xf7tB\\x8d\\x9cQ#g\\xd4\\xc8\\x195r\\x86+*y\\x8fJo\\x14\\xd3\\x195rF\\x8d\\xca\\xb8\\xe7\\xaf\\xff\\xaa5,\\xe8PP<\\x1c\\xd3\\x0f\\r\\x16q\\xe3lTf\\xb8\\xd1c\\xddy\\xe7\\x9d\\xad\\xc7\\xd6\\xb0\\xa4\\xd3\\xfd\\xd3\\xf3+\\x8b\\x1a9\\xa3F\\xce\\xa8\\x913j\\xe4,\\x1dT\\xf2\\x1e\\x95\\x12(\\xa63j\\xe4\\x8c\\x1a\\x95\\xa1s\\xact\\x1a0\\xb4\\xa1U\\x87c\\xae\\xb8\\xe2\\x8a\\xd6\\x86X:<\\xd4\\x89\\xae\\xab\\xdb\\xe8\\xb6\\xba\\x8fN\\x1bi\\xe3c\\xd3s\\xab\\x82\\x1a9\\xa3F\\xce\\xa8\\x913j\\xe4\\x0cWT\\xe2\\xa0\\x92\\xf7\\xa8tF1\\x9dQ#g\\xd4\\xa8\\x0c\\r*qh\\xd0&V\\xbd\\xc4X\\x9b]\\xcb\\x0c%\\xfd\\xd2}\\xea\\xbe\\xf5\\x18z\\xac\\xf8\\xb8yPi\\x0e5rF\\x8d\\x9cQ#g\\x9aA\\xf2\\x1e\\x95\\n(\\xa63j\\xe4\\x8c\\x1a\\x95\\x11WT\\xb4\\xeaA\\xc3\\x896\\xdb\\xea\\xd0\\x8c\\xbe\\xae\\xf3\\xae\\xe8\\x90M\\xa7\\x8d\\xb5\\xfa\\\\\\xfc\\xba\\xae\\xab\\xdb\\xe8\\xb6\\xf4j =\\x96\\xbe\\x9eWT\\x9aE\\x8d\\x9cQ#g\\xd4\\xc8\\x19\\xae\\xa8\\xe4=*\\xbdQLg\\xd4\\xc8\\x195*\\xe3\\xbf}\\xe5K\\x93\\x06\\x08\\x9d\\xc3D\\xc3\\x85\\x06\\r\\x1aF\\xaa\\xd2}\\xe9>u\\xdf\\xe9I\\xe7D\\x03\\x0b=\\xb7*\\xa8\\x913j\\xe4\\x8c\\x1a9\\xa3F\\xce\\xd2A%\\xefQ)\\x81b:\\xa3F\\xce\\xa8Q\\x19\\x0f|\\xf7\\xfe\\xd6\\xb0\\xa0\\x97\\x0fk`(\\x1e\\x92i\\x82\\x1eC\\x8f\\x15_\\xb2\\xacW\\x01\\xd1s\\xab\\x82\\x1a9\\xa3F\\xce\\xa8\\x913j\\xe4\\x0cWT\\xe2\\xa0\\x92\\xf7\\xa8tF1\\x9dQ#g\\xd4\\xa8\\x8c\\xdf\\\\xb\\xd7S\\xe9\\x9f|\\xf2\\xc9\\xe1#\\x1f\\xf9Hk\\xb0\\xf8\\xda\\xd7\\xbe\\xd6\\xda +tR8}.~]\\xd7\\xd5mt[\\xdd\\x07\\xdd\\xb7\\xc4\\x95\\x1bznUP#g\\xd4\\xc8\\x195rF\\x8d\\x9ci\\x06\\xc9{T*\\xa0\\x98\\xce\\xa8\\x913jTF\\xba\\x99V44h\\xb3\\xab\\x06\\x8d:7\\xd4\\xea\\xbet\\x9f\\xbao:\\xa4D\\xcf\\xad\\nj\\xe4\\x8c\\x1a9\\xa3F\\xce\\xa8\\x913\\\\Q\\xc9{Tz\\xa3\\x98\\xce\\xa8\\x913jTF\\x1cT\\xb4\\x01V+!4dhO\\x89\\x0e\\xcf\\xe8\\\\+Z%\\x11\\xad\\x84\\xc4\\x8d\\xb3\\xc5\\r\\xb4\\xa2\\xeb\\xea6\\xc5\\xfd(\\x91\\x1eK\\xb7\\xc9\\x83J\\xb3\\xa8\\x913j\\xe4\\x8c\\x1a9K\\x07\\x95\\xbcG\\xa5\\x04\\x8a\\xe9\\x8c\\x1a9\\xa3Fe|\\xf2\\xf7?1\\xe50\\x8e\\x86\\x0b\\r\\x1a\\x1a<\\xea\\xd8\\xb3\\xa2\\xfb\\xd0}\\xe9>\\x8b\\x83\\x8b\\x1e[\\xef\\xf7C\\xcf\\xad\\nj\\xe4\\x8c\\x1a9\\xa3F\\xce\\xa8\\x913\\\\Q\\x89\\x83J\\xde\\xa3\\xd2\\x19\\xc5tF\\x8d\\x9cQ\\xa32\\xe2fZ\\xd1\\nH\\xba\\xca\\xd1\\x14=Fz\\x1a\\xfd\\xfb\\xbfU\\xdf\\xcf95rF\\x8d\\x9cQ#g\\xd4\\xc8\\x99f\\x90\\xbcG\\xa5\\x02\\x8a\\xe9\\x8c\\x1a9\\xa3Fe\\xdc\\xf6\\xe7\\x9f\\x0f\\xb7\\xde\\xfc?j})r\\xbf\\xf4\\x98zl=\\x07znUP#g\\xd4\\xc8\\x195rF\\x8d\\x9c\\xe1\\x8aJ\\xde\\xa3\\xd2\\x1b\\xc5tF\\x8d\\x9cQ\\xa3*\\xd6\\x9c}j\\xeb\\x9d\\x8bi\\xa0h\\x82\\x1eK\\x8fI\\xcfe\\x10\\xd4\\xc8\\x195rF\\x8d\\x9cQ#g\\xe9\\xa0\\x92\\xf7\\xa8\\x94@1\\x9dQ#g\\xd4\\xa8*\\xbds\\xb1\\x86\\x07\\xbd\\x8b1\\r\\x17u\\xd0}\\xeb1\\x06}\\x97\\xe4N\\xa8\\x913j\\xe4\\x8c\\x1a9\\xa3F\\xcepE%\\x0e*y\\x8fJg\\x14\\xd3\\x195rF\\x8d\\xea\\x10\\x87\\x96E\\'\\x1e\\x1d\\x8e:\\xfc`\\x1c:\\xfa\\xa1\\xdb\\xea>\\x9a\\x1cNR\\xd4\\xc8\\x195rF\\x8d\\x9cQ#g\\x9aA\\xf2\\x1e\\x95\\n(\\xa63j\\xe4\\x8c\\x1a5e\\xc3\\xeaea\\xfd\\xca%\\xad\\xa1c\\xf9\\xe2\\x13\\x90\\xbe\\xa6\\xeb\\xe8\\xbat\\x1fM\\xa3F\\xce\\xa8\\x913j\\xe4\\x8c\\x1a9\\xc3\\x15\\x95\\xbcG\\xa57\\x8a\\xe9\\x8c\\x1a9\\xa3F\\xce\\xa8\\x913j\\xe4\\x8c\\x1a9\\xa3F\\xce\\xd2A%\\xefQ)\\x81b:\\xa3F\\xce\\xa8\\x913j\\xe4\\x8c\\x1a9\\xa3F\\xce\\xa8\\x913\\\\Q\\x89\\x83J\\xde\\xa3\\xd2\\x19\\xc5tF\\x8d\\x9cQ#g\\xd4\\xc8\\x195rF\\x8d\\x9cQ#g\\x9aA\\xf2\\x1e\\x95\\n(\\xa63j\\xe4\\x8c\\x1a9\\xa3F\\xce\\xa8\\x913j\\xe4\\x8c\\x1a9\\xc3\\x15\\x95\\xbcG\\xa57\\x8a\\xe9\\x8c\\x1a9\\xa3F\\xce\\xa8\\x913j\\xe4\\x8c\\x1a9\\xa3F\\xce\\xd2A%\\xefQ)\\x81b:\\xa3F\\xce\\xa8\\x913j\\xe4\\x8c\\x1a9\\xa3F\\xce\\xa8\\x913\\\\Q\\x89\\x83J\\xde\\xa3\\xd2\\x19\\xc5tF\\x8d\\x9cQ#g\\xd4\\xc8\\x195rF\\x8d\\x9cQ#g\\x9aA\\xfa\\xda\\xa3B7vF?\\\\\\xce\\xa8\\x913j\\xe4\\x8c\\x1a9\\xa3F\\xce\\xa8\\x913j\\xe4\\x0cWTh\\x8f\\n\\xc5tF1\\x9dQ#g\\xd4\\xc8\\x195rF\\x8d\\x9cQ#g\\xd4\\xc8Y:\\xa8t\\xdd\\xa3B1\\x9dQLg\\xd4\\xc8\\x195rF\\x8d\\x9cQ#g\\xd4\\xc8\\x195r\\x86+*qPI\\xf7\\xa8PLg\\x14\\xd3\\x195rF\\x8d\\x9cQ#g\\xd4\\xc8\\x195rF\\x8d\\x9ci\\x06\\xc9{T*\\xa0\\x98\\xce\\xa8\\x913j\\xe4\\x8c\\x1a9\\xa3F\\xce\\xa8\\x913j\\xe4\\x0cWT\\xf2\\x1e\\x95\\xde(\\xa63j\\xe4\\x8c\\x1a9\\xa3F\\xce\\xa8\\x913j\\xe4\\x8c\\x1a9K\\x07\\x95\\xbcG\\xa5\\x04\\x8a\\xe9\\x8c\\x1a9\\xa3F\\xce\\xa8\\x913j\\xe4\\x8c\\x1a9\\xa3F#\\xe5\\x07\\xd7\\x86\\xcd7\\xac\\xed`}xh\\xfb\\xe4\\xeb\\xe3\\x8aJ\\x1cT\\xf2\\x1e\\x95\\xce\\xd2\\x88Y\\xfeESD\\x8d\\x9cQ#g\\xd4\\xc8\\x195rF\\x8dF\\xca\\xb7\\xd7\\x86\\xeb.:\\xb3\\x83\\x0b\\xc3\\x03?\\x99|}\\xcd y\\x8fJ\\x05i\\xc4,\\xff\\xa2)\\xa2F\\xce\\xa8\\x913j\\xe4\\x8c\\x1a9\\xa3F#\\xe5\\xc9\\xad\\xe1\\xc5\\xed\\x9b\\'\\xd9\\xf1\\xff^8>\\xa8\\\\\\xf9\\xdf\\xc3\\xf3\\x85\\xeb\\xe3\\x8aJ\\xde\\xa3\\xd2[\\x1a1\\xcb\\xbfh\\x8a\\xa8\\x913j\\xe4\\x8c\\x1a9\\xa3F\\xce\\xa8\\xd1h\\xdb\\x14\\xee_\\xa7\\xd5\\x94\\xb3\\xc27\\xb7n\\x9d\\xf2\\xf5tP\\xc9{TJ(\\x86tG\\x8d\\x9cQ#g\\xd4\\xc8\\x195rF\\x8d\\x9cQ\\xa3Q\\xf6\\xca\\xb7\\xd7\\x86\\x1b\\xb5\\x9ar\\xf1\\x17\\xc3#OM\\xfd:\\xae\\xa8\\xc4A%\\xefQ\\xe9\\xac\\x18\\xd2\\x1d5rF\\x8d\\x9cQ#g\\xd4\\xc8\\x195rF\\x8dF\\xd7]a\\xdb\\x95\\xe3\\xfbSn\\xbd}\\x13|=\\xefQ\\xa9\\x8cb:\\xa3F\\xce\\xa8\\x913j\\xe4\\x8c\\x1a\\r\\xcb}c\\xeb\\xc3\\x8d\\xeb?\\x13.\\xfd\\xe3O\\xb4\\xe8\\xe3\\xc7\\xbe\\xb7\\x11\\xaf;,\\xd4hX\\xd6\\xaf<#|\\xe6\\xecS\\xc3\\'\\x16\\x7f\\xa0E\\x1fo\\xbc\\xe4\\x1c\\xbc\\xee\\xb0P\\xa3\\x91\\xf5\\xbf\\xd6\\x87[[\\x9bh?\\x15\\xb6\\xfd#|}\\x0f\\\\Q\\xc9{Tz\\xa3\\x98\\xce\\xa8\\x913j\\xe4\\x8c\\x1a9\\xa3FM\\xd30r\\xca\\x07\\xe7\\x87\\xbd\\xf6\\xdak\\x8a\\xd9\\x07\\xcc\\n\\xeb\\xd7\\xae\\xc4\\xdb\\r\\x035j\\x9a\\x86\\x91\\xf9\\xf3\\x0e\\xc7\\x1e\\xb3\\xf6\\xdb\\'\\xac\\xfc\\xd8\\x02\\xbc\\xdd0P\\xa3Q\\xf5\\xc8\\x8d\\xe7\\x8co\\xa2\\xbd\\xe6\\xfa\\xf0\\n|]\\xd2A%\\xefQ)\\x81b:\\xa3F\\xce\\xa8\\x913j\\xe4\\x8c\\x1a5i\\xd3\\xf5\\xebZ\\xc3H\\xfcC<w\\xee\\xdcp\\xdai\\xa7\\xb5\\xa4\\x7f\\xa05\\xc8\\xd0\\xed\\x9bF\\x8d\\x9a\\xb4\\xee\\xbc\\xc5\\xada\\xa4W\\x0f\\r2t\\xfb\\xa6Q\\xa3\\x91\\xf4\\xc4\\xf5\\xe1\\x9bk\\xb4\\x9arN\\xd8\\xfa]\\xf8\\xfa\\x04\\\\Q\\x89\\x83J\\xde\\xa3\\xd2\\x19\\xc5tF\\x8d\\x9cQ#g\\xd4\\xc8\\x195j\\xca\\xf3?\\xbd\\xb3=\\xa4\\xe8\\x0f\\xf2\\x83\\x0f>\\x18\\xd2\\xcbk\\xaf\\xbd\\x16.\\xba\\xe8\\xa2\\xf6\\x1f\\xe7K\\xffh9\\xdeO\\x93\\xa8QS\\xee\\xbc\\xec\\xbc\\xf6\\x90\\xd2O\\x8f\\xe5\\x8bO\\xc0\\xfbi\\x125\\x1aE;7M\\xbc$y\\xdd\\xfa\\xf04|=\\xd2\\x0c\\x92\\xf7\\xa8T@1\\x9dQ#g\\xd4\\xc8\\x195rF\\x8d\\x9ar\\xee\\x99\\x8bZ\\x7fpg\\xcf\\x9e\\xdd\\xfa#\\xdc\\xe9r\\xd9e\\x97\\xb5\\xff8\\xff`\\xcb\\x06\\xbc\\xaf\\xa6P\\xa3\\xa6,:\\xf1\\xe8\\xd2=6\\xac^\\x86\\xf7\\xd5\\x14j4r\\x9e\\xba-l\\xbdx|\\x13\\xed\\xd8\\x9dw\\xf1u&\\xe0\\x8aJ\\xde\\xa3\\xd2\\x1b\\xc5tF\\x8d\\x9cQ#g\\xd4\\xc8\\x195jJ\\xfcc{\\xdbm\\xb7M\\xfc\\t\\xee|\\xd1\\n\\x83\\xae;\\xecU\\x15j\\xd4\\x94*=\\x86\\xbd\\xaaB\\x8d\\x9c\\xa5\\x83J\\xde\\xa3R\\x02\\xc5tF\\x8d\\x9cQ#g\\xd4\\xc8\\x195j\\x82VF\\xe2\\x1f\\xe6n\\xab\\x07\\xf1\\x12\\x0fy,Y\\xb4\\x00\\xef\\xaf)\\xd4\\xa8\\tZ\\x19\\xa9\\xd2c\\xc1\\xfb\\xe7\\xe2\\xfd5\\x85\\x1a9\\xc3\\x15\\x958\\xa8\\xe4=*\\x9dQLg\\xd4\\xc8\\x195rF\\x8d\\x9cQ\\xa3&\\xdc;\\xb6\\xbe\\xfd\\x87\\xb9\\x9fK<\\xdc\\xb1p\\xc8\\x9bj\\xa9Q\\x13\\xd6\\xaf\\\\R\\xa9\\xc7\\xfcy\\x87\\xe1\\xfd5\\x85\\x1a9\\xd3\\x0c\\x92\\xf7\\xa8T@1\\x9dQ#g\\xd4\\xc8\\x195rF\\x8d\\x9a\\x90\\x07\\x95\\xc9\\xf2\\xa0\\xf2\\xc6\\x84+*y\\x8fJo\\x14\\xd3\\x195rF\\x8d\\x9cQ#g\\xd4\\xa8)\\xf1\\x0fs?{2\\x8e<\\xf2\\xc8\\xd6uW\\x9d\\xbf\\x14\\xef\\xab)\\xd4\\xa8)Uz,]x\\x0c\\xdeWS\\xa8\\x91\\xb3tP\\xc9{TJ\\xa0\\x98\\xce\\xa8\\x913j\\xe4\\x8c\\x1a9\\xa3FM\\xd1~\\x13\\xfd\\xb1\\xd5\\x1f\\xddn\\xfb2\\xae\\xb9\\xe6\\x9a\\xf6\\x1f\\xf1Q~\\xd5\\x8f\\xf6\\x9b\\x94\\xed\\x91_\\xf53\\xbdpE%\\x0e*y\\x8fJg\\x14\\xd3\\x195rF\\x8d\\x9cQ#g\\xd4\\xa8\\t\\x9f\\\\\\xf1\\xfa\\xe6Q\\xbd\\x1c\\xb7x\\xce\\x90\\xf4\\xb2t\\xe9\\xd2\\xf6u\\xe7\\xbc\\xeb\\xd0\\xa1\\x0e+\\xd4\\xa8\\t\\xcbN9\\xa6R\\x8fC\\x0f\\xda\\x7f\\xa8\\xc3\\n5r\\xa6\\x19$\\xefQ\\xa9\\x80b:\\xa3F\\xce\\xa8\\x913j\\xe4\\x8c\\x1a\\xd5M\\x87o\\xe2\\x1fZ\\x9dqu\\xd7\\xae]\\x13\\x7f\\x82;_t8D\\x7f\\xc0[\\x7f\\xc8\\x0f\\x985\\xb4\\xf7\\x00\\xa2Fu\\xd3\\xe1\\x9bAz\\xe8$q\\xc3z\\x0f j\\xe4,\\xaf\\xa8TD1\\x9dQ#g\\xd4\\xc8\\x195rF\\x8d\\xeat\\xc3W\\xd6\\xb4\\xff(\\xafX\\xb1b\\xe2\\xcfn\\x7f\\x97\\xed\\xdb\\xb7\\xb7\\xff8\\xcf\\x7f\\xdf\\xbc\\xd6\\x99m\\xe91\\xeaD\\x8d\\xea\\xb4\\xe6\\xecSk\\xe91\\xef\\x88\\xb7\\xb7\\xcelK\\x8fQ\\'j\\xe4,\\xaf\\xa8TD1\\x9dQ#g\\xd4\\xc8\\x195rF\\x8d\\xea\\x14O\\x99\\xaf\\x95\\x83*\\x17\\x1d\\x12\\x89\\x7f\\xd8\\xbf\\xf2\\x85\\xe6\\xdf\\xac\\x90\\x1a\\xd5)\\x9e2\\xbf\\x8e\\x1e+?\\xda\\xfc\\x9b\\x15R#g\\xb8\\xa2\\x92_\\xf5\\xd3\\x1b\\xc5tF\\x8d\\x9cQ#g\\xd4\\xc8\\x195\\xaaK\\xba\\x9a\\xd2\\xcf\\xe1\\x8dN\\x97x\\xb23\\xedW\\xa1\\xc7\\xa9\\x135\\xaaK\\xba\\x9aRG\\x0f\\xedW\\xa1\\xc7\\xa9\\x135r\\x96\\x0e*\\xf9U?%PLg\\xd4\\xc8\\x195rF\\x8d\\x9cQ\\xa3\\xba\\xc4W\\xf9\\x94=\\xc4Q\\xbc\\xe8\\x8fz\\xfc\\x03\\xdf\\xf4\\xc6ZjT\\x97\\xf8*\\x9f:{4\\xbd\\xb1\\x96\\x1a9\\xc3\\x15\\x958\\xa8\\xe4=*\\x9dQLg\\xd4\\xc8\\x195rF\\x8d\\x9cQ\\xa3\\xba\\xc4\\xc3>\\xfd\\x9c\\'\\xa4\\xd7\\xe5\\xb8\\xe3\\x8ek\\xddW\\xd3\\x87\\x7f\\xa8Q]\\xe2a\\x9f:{4}\\xf8\\x87\\x1a9\\xd3\\x0c\\x92\\xf7\\xa8T@1\\x9dQ#g\\xd4\\xc8\\x195rF\\x8d\\xea\\xa2?\\xa4\\xd2\\xed\\xa5\\xb7\\xfd^\\xb4\\xa7C\\xf7\\xd5\\xf4\\x9b\\x14R\\xa3\\xba4\\xd1\\xa3\\xe97)\\xa4F\\xcepE%\\xefQ\\xe9\\x8db:\\xa3F\\xce\\xa8\\x913j\\xe4\\x8c\\x1a\\xd5\\xa5\\x89?\\xccyP\\x19\\xbf\\xe4Aez\\xa4\\x83J\\xde\\xa3R\\x02\\xc5tF\\x8d\\x9cQ#g\\xd4\\xc8\\x195\\xaaK\\x13\\x7f\\x98\\xf3\\xa02~\\xc9\\x83\\xca\\xf4\\xc0\\x15\\x958\\xa8\\xe4=*\\x9dQLg\\xd4\\xc8\\x195rF\\x8d\\x9cQ\\xa3\\xba\\xc4?\\xccu\\xec\\xc9\\x88\\xefu3\\n\\x83J\\x9d=\\xf2\\xa02\\\\\\x9aA\\xf2\\x1e\\x95\\n(\\xa63j\\xe4\\x8c\\x1a9\\xa3F\\xce\\xa8Q]\\xe2\\xab~t\\n\\xf8A.:\\xd1Y\\xfc#?\\n\\xaf\\xfa\\xa9\\xb3G~\\xd5\\xcfp\\xe1\\x8aJ\\xde\\xa3\\xd2\\x1b\\xc5tF\\x8d\\x9cQ#g\\xd4\\xc8\\x195\\xaaK]\\xe7Q\\xd1\\xcbyu\\x1f\\xef9\\xe2\\x10|\\x9c:Q\\xa3\\xba\\xd4u\\x1e\\x95\\xd8\\xe3\\x90|\\x1e\\x95\\xa1K\\x07\\x95\\xbcG\\xa5\\x04\\x8a\\xe9\\x8c\\x1a9\\xa3F\\xce\\xa8\\x913jT\\x17\\x9d\\xf2^\\xc3\\x85\\xfe\\xa8\\x9e~\\xfa\\xe9\\x13\\x7ff\\xcb]\\xb4\\x9f#\\xfeq\\x7f\\xa3\\x9f\\x99V\\xa7\\xbc\\xd7pQW\\x8f|f\\xda\\xe1\\xc3\\x15\\x958\\xa8\\xe4=*\\x9dQLg\\xd4\\xc8\\x195rF\\x8d\\x9cQ\\xa3:\\xdd;\\xb6\\xbe\\xfd\\x87\\xf5\\x82\\x0b.\\x98\\xf8s\\xdb\\xdfE\\x878\\x0e<\\xf0\\xc0\\xd6m\\x17~p>\\xde\\x7f\\xdd\\xa8Q\\x9d\\xd6\\xaf\\\\RK\\x8f\\xf9\\xf3\\x0e\\xc3\\xfb\\xaf\\x1b5r\\xa6\\x19$\\xefQ\\xa9\\x80b:\\xa3F\\xce\\xa8\\x913j\\xe4\\x8c\\x1a\\xd5MCF\\xfc\\xe3\\xbcl\\xd9\\xb2\\xf0\\xdak\\xafM\\xfc\\xe9\\xed|\\xd9\\xbcys\\xfb\\x8f\\xb2h\\xe0\\xa1\\xfb\\xae\\x1b5\\xaa\\x9b\\x86\\x8cA{h\\xe0\\xa1\\xfb\\xae\\x1b5r\\x86+*y\\x8fJo\\x14\\xd3\\x195rF\\x8d\\x9cQ#g\\xd4\\xa8.:\\xf4\\xf3\\xc9\\x15\\xcb\\xda\\x7f\\\\E\\xef\\xfe\\xdb\\xebU/\\xfa\\xc3\\x1d_~\\x1b\\xe9}~\\x861\\xacP\\xa3\\xba\\xe8\\xd0\\xcf\\xb2S\\x8e\\x99\\xf4}U\\xed\\xa1\\xf7\\xf9\\x19\\xc6\\xb0B\\x8d\\x9c\\xa5\\x83J\\xde\\xa3R\\x02\\xc5tF\\x8d\\x9cQ#g\\xd4\\xc8\\x195\\xaa\\x83\\x86\\x94\\xf9\\xef\\x9b7\\xe9\\x0f\\xf25\\xd7\\\\3\\xf1\\xa7\\xb7\\xbf\\x8b6\\x9c\\xea\\x152\\xe9\\x1fhm\\xd0\\xa5\\xc7\\xab\\x0b5\\xaa\\x83\\x86\\x94yG\\xbc\\xbd\\xf6\\x1e\\xda\\xa0K\\x8fW\\x17j\\xe4\\x0cWT\\xe2\\xa0\\x92\\xf7\\xa8tF1\\x9dQ#g\\xd4\\xc8\\x195rF\\x8d\\x06U\\x1cR\\xf4n\\xbf\\xfd\\x1c\\xde\\xe8t\\xd1\\x06\\xd2\\xb9s\\xc7_\\xda+M\\x0e+\\xd4hP\\xc5!\\xa5\\xee\\x1eM\\x0e+\\xd4\\xc8\\x99f\\x90\\xbcG\\xa5\\x02\\x8a\\xe9\\x8c\\x1a9\\xa3F\\xce\\xa8\\x913j4\\x88\\xe2\\x90\\xa2\\r\\xa0u]\\xd2\\xd5\\x84\\xa6\\x86\\x15j4\\x88\\xe2\\x90\\xd2T\\x8f\\xa6\\x86\\x15j\\xe4\\x0cWT\\xf2\\x1e\\x95\\xde(\\xa63j\\xe4\\x8c\\x1a9\\xa3F\\xce\\xa8\\xd1 \\xceX|R\\xfb\\x8fg\\x1dg`M/Z\\x85\\x88\\xef\\x1a,M\\x9c\\xfc\\x8d\\x1a\\r\\xe2\\xa4c^_\\xf9h\\xbaG\\x13\\'\\x7f\\xa3F\\xce\\xd2A%\\xefQ)\\x81b:\\xa3F\\xce\\xa8\\x913j\\xe4\\x8c\\x1aU\\xa5\\xf3\\x9c\\xc4?\\x9a\\x97]v\\xd9\\xc4\\x9f\\xd3z/\\xfa\\xe3\\xac\\xfd\\x1dz\\x0cm\\xb0\\xd5\\n\\x0e=\\x97\\xaa\\xa8QU:\\xcf\\xc90{h\\x83\\xadVp\\xe8\\xb9TE\\x8d\\x9c\\xe1\\x8aJ\\x1cT\\xf2\\x1e\\x95\\xce(\\xa63j\\xe4\\x8c\\x1a9\\xa3F\\xce\\xa8Q\\x15\\x1a\\x18f\\x1f0\\xab\\xf5\\x07SgNm\\xf2\\xa2\\xc3\\'\\xf1\\x8fs\\xdd\\xef\\xfdC\\x8d\\xaa\\xd0\\xc00k\\xbf}\\x86\\xde\\xa3\\xee\\xf7\\xfe\\xa1F\\xce4\\x83\\xe4=*\\x15PLg\\xd4\\xc8\\x195rF\\x8d\\x9cQ\\xa3*V\\x9d?\\xbe_B\\x7f0\\x07\\xd9(\\xda\\xefE+\\x14\\xad\\xc7\\xdb3\\x1c=\\xf6\\xbd\\x8d\\xf8\\x9c\\xaa\\xa0FU,]8\\xfe2\\xe4a\\xf7\\xd0p\\xb4\\xf1\\x92s\\xf09UA\\x8d\\x9c\\xe1\\x8aJ\\xde\\xa3\\xd2\\x1b\\xc5tF\\x8d\\x9cQ#g\\xd4\\xc8\\x195*K\\x83\\x82\\xfeHJ\\xd9\\x97\\xdcV\\xbd\\xe8\\x8f\\x7f|\\xe5\\xcb\\xb9g.\\xc2\\xe7U\\x055*K\\x83\\xc2t\\xf6Xt\\xe2\\xd1\\xf8\\xbc\\xaa\\xa0F\\xce\\xd2A%\\xefQ)\\x81b:\\xa3F\\xce\\xa8\\x913j\\xe4\\x8c\\x1a\\x95\\x15WS\\xf4\\x87r\\x98\\x17mN\\x8d\\x03A]{U\\xa8QYq5e:{\\xd4\\xb5W\\x85\\x1a9\\xc3\\x15\\x958\\xa8\\xe4=*\\x9dQLg\\xd4\\xc8\\x195rF\\x8d\\x9cQ\\xa3\\xb2\\xe2\\xde\\x94a\\xad\\x1e\\xa4\\x97\\xb87\\xa3\\xae7,\\xa4Fe\\xc5\\xbd)\\xd3\\xd9\\xa3\\xae7,\\xa4F\\xce4\\x83\\xe4=*\\x15PLg\\xd4\\xc8\\x195rF\\x8d\\x9cQ\\xa326]\\xbf\\xae\\xf5\\x87Qt\\xe6\\xd4a_\\xb4QU\\x8f\\xads\\xb7\\xd0\\xf3+\\x8b\\x1a\\x95\\xb1\\xee\\xbc\\xc53\\xa2\\x87\\xce\\xddB\\xcf\\xaf,j\\xe4\\x0cWT\\xf2\\x1e\\x95\\xde(\\xa63j\\xe4\\x8c\\x1a9\\xa3F\\xce\\xa8Q\\x19\\xda\\x1f\\xa2?\\x8cz/\\x9a\\xe9\\xb8\\xe8\\x15/q0\\xa8cS-5*C\\xfbCfJ\\x8f:6\\xd5R#g\\xe9\\xa0\\x92\\xf7\\xa8\\x94@1\\x9dQ#g\\xd4\\xc8\\x195rF\\x8d\\xca\\x88g\\xa1m\\xea<!\\xfd\\\\\\xe2\\x1ff\\xad\\xee\\xd0s,\\x83\\x1a\\x95\\x11\\xcfB;\\x13zhu\\x87\\x9ec\\x19\\xd4\\xc8\\x19\\xae\\xa8\\xc4A%\\xefQ\\xe9\\x8cb:\\xa3F\\xce\\xa8\\x913j\\xe4\\x8c\\x1a\\x95\\x11\\xff(\\xea\\xfdg\\xa6\\xeb\\x12\\xdfY\\xb8\\x8es\\xaaP\\xa32fR\\x8f:\\xce\\xa9B\\x8d\\x9ci\\x06\\xc9{T*\\xa0\\x98\\xce\\xa8\\x913j\\xe4\\x8c\\x1a9\\xa3F\\xfd\\xbawl}\\xfb\\x0f\\xf30\\xce\\x15\\xd2\\xe9\\xa27\\xf9\\xd3sX\\xf8\\xc1\\xf9\\xf8<\\xcb\\xa0F\\xfdZ\\xbfr\\xc9\\x8c\\xea1\\x7f\\xdea\\xf8<\\xcb\\xa0F\\xcepE%\\xefQ\\xe9\\x8db:\\xa3F\\xce\\xa8\\x913j\\xe4\\x8c\\x1a\\xf5+\\x9e2\\x7f\\xd8/\\xc3-^\\xe2\\xcbr\\xf5\\xea#z\\x9eeP\\xa3~\\xc5S\\xe6\\xcf\\x94\\x1ez\\xf5\\x11=\\xcf2\\xa8\\x91\\xb3tP\\xc9{TJ\\xa0\\x98\\xce\\xa8\\x913j\\xe4\\x8c\\x1a9\\xa3F\\xfd\\xd2\\xa1\\x16\\xfdA\\x9c\\xae\\x8d\\xa3\\xf1\\xa2\\xc3,z\\x1eB\\xcf\\xb3\\x0cj\\xd4/\\x1dj\\x99i=\\xe8y\\x96A\\x8d\\x9c\\xe1\\x8aJ\\x1cT\\xf2\\x1e\\x95\\xce(\\xa63j\\xe4\\x8c\\x1a9\\xa3F\\xce\\xa8Q\\xbf\\xf2\\xa02Y\\x1eTF\\x9ff\\x90\\xbcG\\xa5\\x02\\x8a\\xe9\\x8c\\x1a9\\xa3F\\xce\\xa8\\x913j\\xd4\\xaf8\\xa8\\x1cx\\xe0\\x81\\xe1\\xf4\\xd3O\\x9f6\\xc7\\x1f\\x7f|\\xfb\\x0f3=\\xcf2\\xa8Q\\xbf\\xe2\\xa02\\x93z\\xd0\\xf3,\\x83\\x1a9\\xc3\\x15\\x95\\xbcG\\xa57\\x8a\\xe9\\x8c\\x1a9\\xa3F\\xce\\xa8\\x913j\\xd4\\xaf8\\xa8\\xcc$?\\xd8\\xb2\\x01\\x9fk\\xbf\\xa8Q\\xbf\\xe2\\xa02\\x93lX\\xbd\\x0c\\x9fk\\xbf\\xa8\\x91\\xb3tP\\xc9{TJ\\xa0\\x98\\xce\\xa8\\x913j\\xe4\\x8c\\x1a9\\xa3F\\xfd\\xd2\\xab~4\\xac\\xcc$\\x83\\x9e\\xf4\\x8d\\x1a\\xf5K\\xaf\\xfa\\xd1\\xb02\\x93\\x0cz\\xd27j\\xe4\\x0cWT\\xe2\\xa0\\x92\\xf7\\xa8tF1\\x9dQ#g\\xd4\\xc8\\x195rF\\x8d\\x9cQ#g\\xd4\\xc8\\x99f\\x90\\xbcG\\xa5\\x02\\x8a\\xe9\\x8c\\x1a9\\xa3F\\xce\\xa8\\x913j\\xe4\\x8c\\x1a9\\xa3F\\xcepE%\\xefQ\\xe9\\x8db:\\xa3F\\xce\\xa8\\x913j\\xe4\\x8c\\x1a9\\xa3F\\xce\\xa8\\x91\\xb3tP\\xc9{TJ\\xa0\\x98\\xce\\xa8\\x913j\\xe4\\x8c\\x1a9\\xa3F\\xce\\xa8\\x913j\\xe4\\x0cWT\\xe2\\xa0\\x92\\xf7\\xa8tF1\\x9dQ#g\\xd4\\xc8\\x195rF\\x8d\\x9cQ#g\\xd4\\xc8\\x99f\\x90\\xbcG\\xa5\\x02\\x8a\\xe9\\x8c\\x1a9\\xa3F\\xce\\xa8\\x913j\\xe4\\x8c\\x1a9\\xa3F\\xcepE%\\xefQ\\xe9\\x8db:\\xa3F\\xce\\xa8\\x913j\\xe4\\x8c\\x1a9\\xa3F\\xce\\xa8\\x91\\xb3tP\\xe9\\xbaG\\x85n\\xec\\x8c~\\xb8\\x9cQ#g\\xd4\\xc8\\x195rF\\x8d\\x9cQ#g\\xd4\\xc8\\x19\\xae\\xa8\\xc4A%\\xdd\\xa3B1\\x9dQLg\\xd4\\xc8\\x195rF\\x8d\\x9cQ#g\\xd4\\xc8\\x195r\\xa6\\x19\\xa4\\xaf=*\\x14\\xd3\\x19\\xc5tF\\x8d\\x9cQ#g\\xd4\\xc8\\x195rF\\x8d\\x9cQ#g\\xb8\\xa2B{T(\\xa63\\x8a\\xe9\\x8c\\x1a9\\xa3F\\xce\\xa8\\x913j\\xe4\\x8c\\x1a9\\xa3F\\xce\\xd2A%\\xefQ)\\x81b:\\xa3F\\xce\\xa8\\x913j\\xe4\\x8c\\x1a9\\xa3F\\xce\\xa8\\x913\\\\Q\\x89\\x83J\\xde\\xa3\\xd2\\x19\\xc5tF\\x8d\\x9cQ#g\\xd4\\xc8\\x195rF\\x8d\\x9cQ#g\\x9aA\\xf2\\x1e\\x95\\n(\\xa63j\\xe4\\x8c\\x1a9\\xa3F\\xce\\xa8\\x913j\\xe4\\x8c\\x1a\\x8d\\xa6\\x95\\xe1\\'\\x7f\\xf5\\xd5\\xf0\\xc2Cw\\x86Wwli\\xf9\\xf9\\xdfL\\xbd\\x1e\\xae\\xa8\\xe4=*\\xbd\\x15C\\xba\\xa3F\\xce\\xa8\\xd1\\xb0\\xdd~\\xe99\\xe1\\xce\\xcb\\xce\\xc3\\xaf\\r\\x1b5rF\\x8d\\x9cQ#g\\xd4h\\xf4\\xac\\x0e\\xcf\\xfcx\\xcb\\x94\\xef\\xfd\\xa5\\xfb\\xa6^7\\x1dT\\xf2\\x1e\\x95\\x12\\x8a!\\xddQ#g\\xd4hX~\\xff#\\xff>\\x1c\\xf4\\xb6\\xfd\\xc2^{\\xed\\xd5\\xf2k\\xbf\\xfa\\xeep\\xfd\\xa7\\x7f\\x1b\\xaf;,\\xd4\\xc8\\x195rF\\x8d\\x9cQ\\xa3Q\\xf3\\xc3\\xfb\\xc6\\xc6\\xbf\\xdf\\'\\xc6\\xc2\\xb3\\xdf\\xf8Tx\\x00\\xae\\x13\\xe1\\x8aJ\\x1cT\\xf2\\x1e\\x95\\xce(\\xa63j\\xe4\\x8c\\x1aU\\xf5\\'\\x1f?=,\\xf9\\xd0{[\\xf4\\xdft\\x9d\\xe8\\x9c_?\\xae=\\xa0\\xa4\\x0e\\xdc\\x7f\\xbfp\\xdb%\\xe7\\xe0m\\xe4\\xe6\\xcf\\x9d\\x15>\\xb1\\xf8\\x03a\\xf1\\x89G\\x87\\xe5\\x8bO\\x08\\xff\\xe3\\xb3\\xbf\\x83\\xd7\\xab\\x8a\\x1a9\\xa3F\\xce\\xa8\\x913j4Z>\\x15\\x9e{X\\xdf\\xeb\\x96\\xf0\\xc27\\xe9\\xeb\\x93i\\x06\\xc9{T*\\xa0\\x98\\xce\\xa8\\x913jT\\xd6\\xdf\\xfc\\xd7?\\x08\\'\\xfe\\xca\\xbb\\xa7\\x0c\\x1d\\x1f\\xd8\\xf3\\xb9\\xad\\xff\\xf5\\xf7\\xa7\\\\\\xff\\xf6\\xcf\\x7f|\\xcauS\\x1at\\x8a\\xb7\\x915g\\x9f\\x8a\\xd7\\xbf\\xe8w\\xfe\\x03^\\xbf\\nj\\xe4\\x8c\\x1a9\\xa3F\\xce\\xa8\\xd1hY\\x1f^\\xd2\\xf7\\xba\\xe3\\xd6\\xf0\\xec\\xb7n\\x0f\\xbb\\x9f\\xd6\\xf7\\xbd5\\xec~\\xe8\\xa6\\xb0\\xe3\\xe6\\xa9\\xd7\\xc7\\x15\\x95\\xbcG\\xa5\\xb7bHw\\xd4\\xc8\\x195*\\xeb\\x8c\\x05\\xef\\xc3\\x01B>\\x02C\\xc7%\\xcb\\x7f\\x1d\\xaf\\x1b\\xbd\\xfb\\x9d\\xb3\\xa7\\xdc\\xe6\\x96\\xcf\\x9d\\x8d\\xd7\\x8dn\\xfaL=++\\xd4\\xc8\\x195rF\\x8d\\x9cQ\\xa3\\x91r\\xc3W\\xc3\\xcb\\xc9\\xf7\\xfb\\xea\\x8e\\xad\\xaf\\x7f\\xff\\x0f]\\x1d~X\\xb8~:\\xa8\\xe4=*%\\xa4\\x11\\xb3\\xfc\\x8b\\xa6\\x88\\x1a\\x95\\xa1\\xd5\\x94\\xb7\\xbc\\xf9M8<\\xc8\\x9b\\xde\\xb4w\\xb8\\xe7\\xca\\xc9\\xab*\\xbd\\x06\\x95w\\xbdc\\xea\\xa0\\xf2{\\xbf\\xf9\\x01\\xbcnt\\xee\\xa2\\x13\\xa6\\xdc\\xa6\\nj\\xe4\\x8c\\x1a9\\xa3F\\xce\\xa8\\xd1H\\xf9\\xfaMa\\xf7\\xc4\\xf7\\xfa\\xf2wV\\xb7>\\xf7\\xc0\\xdd\\xb7\\x86W[\\x9f\\xbb#<w\\xc3\\xe4\\xeb\\xe3\\x8aJ\\x1cT\\xf2\\x1e\\x95\\xce\\xd2\\x88Y\\xfeESD\\x8dR\\x7f\\xb9vy\\x0b}M\\xb4\\x9f\\x84\\x06\\x87\\xd4\\xc6\\x8b\\x7fw\\xd2m\\xaa\\x1c\\xfa\\xf9\\x7f~\\xedW\\xf0\\xba\\xd1\\xa2\\x0f\\xfc\\xdb)\\xb7\\x89\\xee\\xfd\\xca\\x1f\\xb4\\x9e\\xa7\\x86*\\xfaz\\x8a\\x1a9\\xa3F\\xce\\xa8\\x913j4Z\\xae\\x1a?\\xf4\\xf3\\xcc\\xdd\\xe1\\xf9\\xafw\\xfb\\xdc8\\xcd y\\x8fJ\\x05i\\xc4,\\xff\\xa2)\\xa2F\\xb2\\xf6\\xf7\\x16\\x85yG\\xbc\\xbd=\\x08\\x1cu\\xf8\\xc1\\xad\\xcf\\x15\\xafWeEE\\xbam\\xa6\\xdd\\x08\\x9bi\\xab\\xac\\xa8h@9\\xe3\\xa4\\xf7\\xb5\\x9f\\xdf\\x9b\\xdf\\xf4\\xa6\\xd6\\xa1(z>\\x115rF\\x8d\\x9cQ#g\\xd4h\\xb4\\\\\\x1a\\x9e\\x7f|\\xfc{}\\xe5o\\x8b+*\\x9b\\xc2\\xb3WO\\xbe>\\xae\\xa8\\xe4=*\\xbd\\xa5\\x11\\xb3\\xfc\\x8b\\xa6\\x88\\x1ai )\\x0e\\x02\\xd1\\x17`X\\xd1\\n\\x08]W~\\xeb\\x83\\xbc1V\\xf4\\xf2\\xe4}\\xf7yK\\xfb\\xba\\xda\\x90{\\xddEg\\xe2u\\xab\\xecQ\\xf9\\xf7\\xbf\\xfa\\x1e\\xbc\\xee\\x07\\x8e~\\xd7\\x94\\xebF\\xd4\\xc8\\x195rF\\x8d\\x9cQ\\xa3Q\\xf3\\xa3\\xef\\xdc1\\xf1\\xfdj\\x13\\xed\\xa6\\x89\\r\\xb5{\\xfc\\xe4\\xaa\\xbcG\\xa5.i\\xc4,\\xff\\xa2)\\xa2FZ=\\xa1?\\xf0\\xa2\\xaf\\x15\\xaf\\xafW\\xf6\\xe8\\x15>\\xc5\\xebj \\xe8\\xb6z!\\xf3\\xe7\\x1d\\xd6\\xbe\\xfe\\xfa\\x95K\\xf0:\\xd1\\xa7\\xcf\\xfa\\x0f\\x93\\xee?Z\\xfd;\\xa7L\\xb9\\xee%\\xe7v\\xdf\\x07\\xf3\\xd9\\xdf=m\\xcam\\x84\\x1a9\\xa3F\\xce\\xa8\\x913j4zV\\x85G\\xbf\\xb7)\\xbc\\x1a\\x07\\x94=^}\\xe8\\xfa\\xf0\\xe8_L\\xbd.\\xae\\xa8\\xc4A%\\xefQ\\xe9\\xac\\x18\\xd2\\x1d5rV\\xec3\\xb6\\xf6\\\\\\xfc\\xc3\\x9e\\x1a\\xfb\\xc2\\xb9Sn\\'\\x9f;\\xe7\\xf4p\\xf0\\xdb\\xde\\xda\\xbe\\x1e\\x1d\\xc2)\\x9a\\xb5\\xdf>\\xed\\xeb\\xaf\\xfc\\xe8\\x02\\xbcN\\xea\\xa4c\\xe6\\xb6\\xaf\\xaf})\\x9d^\\xed\\xa3C>\\xf1z\\xe4\\xb7>\\xf8\\xabx;j\\xe4\\x8c\\x1a9\\xa3F\\xce\\xa8\\xd1\\xe8Z\\x15~\\xb4\\xf1\\xb3\\xe1G0\\xa0D\\x9aA\\xf2\\x1e\\x95\\n(\\xa63j\\xe4\\xac\\xd8g\\x90AE\\xd2\\x15\\x92^\\x83\\x87\\x06\\x99\\xf4~\\x17\\x9dx4^/\\x95\\x0e6\\xddV`\\xf2\\xa0R\\x0fj\\xe4\\x8c\\x1a9\\xa3F\\xcepE%\\xefQ\\xe9\\x8db:\\xa3F\\xce\\xa8Q\\xd9C?\\xa9tP9\\xf4\\xa0\\xfd\\xf1:\\xd1\\xba\\xf3\\x16O\\xbaom\\xde\\xa5\\xebE\\xc5\\x13\\xbeu\\x1bT\\xf2\\xa1\\x9fzP#g\\xd4\\xc8\\x195r\\x96\\x0e*y\\x8fJ\\t\\x14\\xd3\\x195rF\\x8d\\xb4a\\x96\\xfe\\xb8\\xcb\\xe7?\\xf1\\x1bx\\x9b(\\x1dT\\xa4\\xdb0\\xa1S\\xe0\\xa7\\xd7\\x15\\xba^4\\x7f\\xde\\xe1\\x93\\xae\\xdbkO\\x8b\\xde;(\\xbd~tB\\xdeL\\xdb7j\\xe4\\x8c\\x1a9\\xa3F\\xcepE%\\x0e*y\\x8fJg\\x14\\xd3\\x195rF\\x8dD\\xc3Jqee\\xf6\\xac}{\\xbe\\xcbqqP\\xe9v8\\xa7x]\\xe94|\\x14\\x0f\\x13u\\xbbn\\xf4\\x9f\\xce\\xf8\\xd0\\xa4\\xeb\\xef\\xbd\\xf7\\xde\\xadC>\\xf9\\xe5\\xc9\\xfd\\xa3F\\xce\\xa8\\x913j\\xe4L3H\\xde\\xa3R\\x01\\xc5tF\\x8d\\x9cQ\\xa3\\x94\\xf6\\xa3\\xa4\\x7f\\xec\\x97.<\\x06\\xaf\\x17\\x15\\x87\\x0f\\xed)\\xe94\\xdc\\xa4\\xfbM\\xa2N\\xfbZh\\xf5\\xa5\\xdb\\xa0\\xa2\\xc1&\\xbd\\x7f=\\xef^\\xaf@\\x12j\\xe4\\x8c\\x1a9\\xa3F\\xce\\xa8\\x913\\\\Q\\xc9{Tz\\xa3\\x98\\xce\\xa8\\x913jTT\\xe6p\\x0e\\xad\\x92hoI\\xf1z\\x1bV/\\x9br=Y\\xf0\\xfe\\xb9S\\xae+\\xda\\xefR\\xbcn\\xb7\\xe7\\x91\\xbe:\\xa8\\xd7uS\\xd4\\xc8\\x195rF\\x8d\\x9cQ#g\\xe9\\xa0\\x92\\xf7\\xa8\\x94@1\\x9dQ#g\\xd4\\xa8H\\xab\\x11\\xe9\\x1f\\xfdn\\x9b^iP\\xa1\\xebwz\\'d\\xda\\x80[\\xdct\\x1bu\\x1a>\\xe8\\xfa\\xbd\\x0eYE\\xd4\\xc8\\x195rF\\x8d\\x9cQ#g\\xb8\\xa2\\x12\\x07\\x95\\xbcG\\xa53\\x8a\\xe9\\x8c\\x1a9\\xa3FE4T\\xe8P\\x0c]7=\\xed~\\xaaxN\\x95\\xe2\\xf0\\x93*\\x0e\\x15\\xda\\xe7B\\xd7\\xa3\\x95\\x1a\\xdd\\xb6xH\\xe9\\x90\\x1e\\xaf>JQ#g\\xd4\\xc8\\x195rF\\x8d\\x9ci\\x06\\xc9{T*\\xa0\\x98\\xce\\xa8\\x913jT\\xd4\\xe90\\x8d>_\\xbc.]O\\x8a{[h\\xe5%JWJ4x\\xd0u\\x84\\x86\\xa5\\xe2!\\x1f\\xe9t8\\x89P#g\\xd4\\xc8\\x195rF\\x8d\\x9c\\xe1\\x8aJ\\xde\\xa3\\xd2\\x1b\\xc5tF\\x8d\\x9cQ#R\\xfc\\xe3/tH\\x87\\xae\\'\\xc5C:t\\x9d(\\x1d@:\\x1d\"\\x92\\xe2\\xa0\\xd2\\xe9\\x10Q\\xa7\\xd5\\x1fB\\x8d\\x9cQ#g\\xd4\\xc8\\x195r\\x96\\x0e*y\\x8fJ\\t\\x14\\xd3\\x195rF\\x8dH\\xa7\\x15\\x90\\xe2\\x10@\\xd7\\x894H\\xe8:\\x9dVh\\xa2t\\x05\\xa4\\xd3\\xa1$I\\x1f\\x9b\\x0e\\xf9D\\xfdn\\xa4\\x15j\\xe4\\x8c\\x1a9\\xa3F\\xce\\xa8\\x913\\\\Q\\x89\\x83J\\xde\\xa3\\xd2\\x19\\xc5tF\\x8d\\x9cQ#\\xd2mOI\\xba\\xff\\x84\\xbe\\x1e\\xc5\\x01\\xa4\\xdb*\\x89\\xc4\\xd5\\x97^\\x03M:\\xa8\\x94\\xd9\\xf3\\xd2\\r5rF\\x8d\\x9cQ#g\\xd4\\xc8\\x99f\\x90\\xbcG\\xa5\\x02\\x8a\\xe9\\x8c\\x1a9\\xa3F\\xa4\\xdbp\\xa13\\xc6\\xc6\\xeb\\xd1\\xd7S\\x1a\\x1a:m\\x8eMi\\xf8\\xe96|H\\x1cT\\xb4bB_\\x972\\x1bi\\x85\\x1a9\\xa3F\\xce\\xa8\\x913j\\xe4\\x0cWT\\xf2\\x1e\\x95\\xde(\\xa63j\\xe4\\x8c\\x1a\\x91^\\xab\\x1b\\xf1Dm\\xf4\\xb5\\x94\\xae\\xd7\\xedpN\\xa4\\xc3D\\x9d\\x0e\\xe5D\\x1aT4\\xf8\\xd09V\\xa22\\x1bi\\x85\\x1a9\\xa3F\\xce\\xa8\\x913j\\xe4,\\x1dT\\xf2\\x1e\\x95\\x12(\\xa63j\\xe4\\x8c\\x1auB\\x83@\\xa4\\xa1\\x82Ns_\\xd4m\\xa8H\\xf5s=\\r*\\xfd\\xae\\xba\\xf4\\x8b\\x1a9\\xa3F\\xce\\xa8\\x913j\\xe4\\x0cWT\\xe2\\xa0\\x92\\xf7\\xa8tF1\\x9dQ#g\\xd4\\xa8\\x93n/)\\x96\\xe2\\x9b\\x066\\xad\\x9f\\xc7+\\xb3\\x91V\\xa8\\x913j\\xe4\\x8c\\x1a9\\xa3F\\xce4\\x83\\xe4=*\\x15PLg\\xd4\\xc8\\x195\\xea\\xa4\\xd7\\xea\\xc5LTf#\\xadP#g\\xd4\\xc8\\x195rF\\x8d\\x9c\\xe1\\x8aJ\\xde\\xa3\\xd2\\x1b\\xc5tF\\x8d\\x9cQ\\xa3Nz\\xbdZg\\xa6)\\xbb\\x91V\\xa8\\x913j\\xe4\\x8c\\x1a9\\xa3F\\xce\\xd2A%\\xefQ)\\x81b:\\xa3F\\xce\\xa8Q\\'\\xbd6\\xd4\\xce4e7\\xd2\\n5rF\\x8d\\x9cQ#g\\xd4\\xc8\\x19\\xae\\xa8\\xc4A%\\xefQ\\xe9\\x8cb:\\xa3F\\xce\\xa8Q74\\x10\\xccTe7\\xd2\\n5rF\\x8d\\x9cQ#g\\xd4\\xc8\\x99f\\x90\\xbcG\\xa5\\x02\\x8a\\xe9\\x8c\\x1a9\\xa3F\\xdd\\x1c\\xfe\\xf6\\x03p(\\x98\\x89\\xcan\\xa4\\x15j\\xe4\\x8c\\x1a9\\xa3F\\xce\\xa8\\x913\\\\Q\\xc9{Tz\\xa3\\x98\\xce\\xa8\\x913j\\xd4M\\xafW\\xfe\\xf4r\\xf2\\xc9\\'\\xb7]|\\xf1\\xc5S|\\xfc\\xe3\\x1fo\\x7f}\\xce\\x9c9x\\x1f\\xfd*\\xbb\\x91V\\xa8\\x913j\\xe4\\x8c\\x1a9\\xa3F\\xce\\xd2A%\\xefQ)\\x81b:\\xa3F\\xce\\xa8Q7\\xdd\\xce\\x02\\x9b:\\xf6\\xd8c[\\x83\\xc7=\\xf7\\xdc\\x13\\x9e{\\xee\\xb9\\xb0{\\xf7\\xee\\x81l\\xdb\\xb6-l\\xd8\\xb0\\xa15\\xc8\\xcc\\x9e=\\x1b\\x1f3\\xf5\\xfe\\xb9\\x87\\xe2\\xf3\\xef\\x85\\x1a9\\xa3F\\xce\\xa8\\x913j\\xe4\\x0cWT\\xe2\\xa0\\x92\\xf7\\xa8tF1\\x9dQ#g\\xd4\\xa8\\x1b\\xadR\\x1cu\\xf8\\xc1S\\x06\\x03\\r&\\x17^xa\\xf8\\xda\\xd7\\xbe\\xd6\\xf7`\\xb2u\\xeb\\xd6)\\xb6o\\xdf\\x8e\\xd7-\\xd2\\xe0r\\xc5\\x15W\\x84\\x8f|\\xe4#8\\xb8\\xe8\\x15J\\xf4\\xfc{\\xa1F\\xce\\xa8\\x913j\\xe4\\x8c\\x1a9\\xd3\\x0c\\x92\\xf7\\xa8T@1\\x9dQ#g\\xd4\\xa8\\x17\\xbd\\xfag\\xd6\\xbe\\xfb\\xb4\\x0e\\xcdh\\x95\\xa3\\xd3`\\xa2a\\xe2\\xca+\\xaf\\x0cK\\x96,\\t\\x0b\\x17.l)\\x0e\\x14\\xdd\\xe8\\xfe\\xe3\\xedV\\xadZ\\x15\\xc6\\xc6\\xc6\\xc2\\xce\\x9d;;>\\x96V[t;\\xbd\\x97\\x10=\\xef~P#g\\xd4\\xc8\\x195rF\\x8d\\x9c\\xe1\\x8aJ\\xde\\xa3\\xd2\\x1b\\xc5tF\\x8d\\x9cQ\\xa3~h\\xc5B\\x87v\\xd2aA\\xab!\\xd7]w]8\\xf7\\xdcs\\x07\\xde_\\xd2\\x8d\\x06\\x17=\\xb6V`\\xd2\\xc7\\x17\\xad\\xf6T\\xd9\\x9b\\x12Q#g\\xd4\\xc8\\x195rF\\x8d\\x9c\\xa5\\x83J\\xde\\xa3R\\x02\\xc5tF\\x8d\\x9cQ\\xa3~}\\xf1\\xbf\\x9c;\\x94\\xc1\\xa4\\x17\\r.Z\\xb9\\xf9\\xb3/\\xae\\x1bhH\\x11j\\xe4\\x8c\\x1a9\\xa3F\\xce\\xa8\\x913\\\\Q\\x89\\x83J\\xde\\xa3\\xd2\\x19\\xc5tF\\x8d\\x9cQ\\xa32\\x06}\\x15P\\x9d\\xaa\\xbc\\x1c\\xb9\\x88\\x1a9\\xa3F\\xce\\xa8\\x913j\\xe4L3H\\xde\\xa3R\\x01\\xc5tF\\x8d\\x9cQ\\xa32\\xf4\\x8e\\xc9ZM\\xd1\\xab{\\xa6\\x8b\\x0e\\x03\\r\\xb2/%E\\x8d\\x9cQ#g\\xd4\\xc8\\x195r\\x86+*y\\x8fJo\\x14\\xd3\\x195rF\\x8d\\xca:\\xeb?~d\\xca^\\x91a\\xd2^\\x95u\\xe7-\\xc6\\xe7V\\x165rF\\x8d\\x9cQ#g\\xd4\\xc8Y:\\xa8\\xe4=*%PLg\\xd4\\xc8\\x195*\\xeb\\xd0\\x83\\xf6o\\xbd\\xb2G+\\x1b\\xc3\\xa6W\\x03iE\\xa7\\xea\\xcb\\x91\\x8b\\xa8\\x913j\\xe4\\x8c\\x1a9\\xa3F\\xcepE%\\x0e*y\\x8fJg\\x14\\xd3\\x195rF\\x8d\\xca\\xd0\\xe6U\\xda/2lK\\x17\\x1e\\x83\\xcf\\xaf,j\\xe4\\x8c\\x1a9\\xa3F\\xce\\xa8\\x913\\xcd y\\x8fJ\\x05\\x14\\xd3\\x195rF\\x8d\\xfa\\xa5!\\xe5\\x94_\\xfbw\\x1dO\\xba6,:\\xd9\\x9c\\x9eC\\x1d\\xab*\\xd4\\xc8\\x195rF\\x8d\\x9cQ#g\\xb8\\xa2\\x92\\xf7\\xa8\\xf4F1\\x9dQ#g\\xd4\\xa8_\\x0b\\xde?w\\xd2\\xb9L\\xe2\\xd9bu\\xe2\\xb5&_\\xae\\x1c\\xdf\\'\\xa8x\\x16\\xdc\\xc5\\xbf~z~yr\\xcd\\xa8\\x913j\\xe4\\x8c\\x1a9K\\x07\\x95\\xbcG\\xa5\\x04\\x8a\\xe9\\x8c\\x1a9\\xa3F\\xfd\\xd2\\xd0\\xa0=\"qP(z\\xf8\\xe1\\x87\\xdb\\xef\\xcf\\x13\\xdfh\\xb08tt\\xa3a\\'\\xdeN\\x83\\x89^\\xe1C\\x8f#\\x1a\\x92t\\xfdA_\\xa2L\\x8d\\x9cQ#g\\xd4\\xc8\\x195r\\x86+*qP\\xc9{T:\\xa3\\x98\\xce\\xa8\\x913j\\xd4\\x0f\\xbd\\xca&\\x1d*\\xd2\\xb3\\xc5v:\\xcd}Q\\xf1e\\xc6\\xa2\\xe1\\x86\\xae[\\xd4\\xe9,\\xb8yP\\xa9\\x175rF\\x8d\\x9cQ#g\\x9aA\\xf2\\x1e\\x95\\n(\\xa63j\\xe4\\x8c\\x1a\\xf5c\\xfe\\xbc\\xc3\\'\\r*E\\xda7\\xd2\\xeb\\xfdy\\xcaH\\xdf7\\xa8\\xdb~\\x98A\\xcf\\xa7B\\x8d\\x9cQ#g\\xd4\\xc8\\x195r\\x86+*y\\x8fJo\\x14\\xd3\\x195rF\\x8dz\\xd1\\x9b\\x12j\\x15C\\xab\\x1f\\xda\\'\\xa2wM\\xeegO\\x8a\\x06\\x8c\\xf8&\\x83\\x9d^\\xce\\xac\\xe1&^G\\xc3\\x0e\\xddO\\x916\\xd2jo\\x8c\\x86\\x19\\xdd\\x07=\\xe7~Q#g\\xd4\\xc8\\x195rF\\x8d\\x9c\\xa5\\x83J\\xde\\xa3R\\x02\\xc5tF\\x8d\\x9cQ\\xa3~\\x9c\\xf1\\xe1\\xc5SV=\\xe2\\x9e\\x94\\xa6_\\x05\\xa4\\x01F\\xc3\\x91\\x0e\\x15\\x15\\x9f\\x83\\x0e=\\xd1\\xf3\\xed\\x175rF\\x8d\\x9cQ#g\\xd4\\xc8\\x19\\xae\\xa8\\xc4A%\\xefQ\\xe9\\x8cb:\\xa3F\\xce\\xa8Q?t\\xde\\x12\\xed\\x0f\\xd1>\\x11\\xed\\x17)\\x0e\\x0c\\x12W8\\xe2\\x86\\xd8~WH\"\\r;\\xf1\\xb6\\xda\\x90\\xab!(}\\x95OJ\\x03\\x8a\\x1ek\\xe9\\xa2\\x93\\xf0\\xf9\\xf6\\x8b\\x1a9\\xa3F\\xce\\xa8\\x913j\\xe4L3H\\xde\\xa3R\\x01\\xc5tF\\x8d\\x9cQ\\xa3~\\xad\\xfc\\xe8\\x82\\xf0\\x967\\xbf\\xa95T\\xa4{Rh\\x90(\\xd2\\xeaK\\xdc@\\xab\\xc36:\\x84\\x14?\\xa6\\xeb\\x17i8*\\xeeY\\xf9\\xb7\\xefzG~yr\\xcd\\xa8\\x913j\\xe4\\x8c\\x1a9\\xc3\\x15\\x95\\xbcG\\xa57\\x8a\\xe9\\x8c\\x1a9\\xa3Fe\\x8d}\\xe1\\xdc\\xd6\\xd0\\xf2\\x81\\xa3\\xdf\\x15\\xf6\\xdf\\xef\\x97[C\\x83\\xf6\\x98h\\x90H\\xcf\\xb32\\x08\\r&\\x1a\\x82\\xd2W\\xf9\\x1cy\\xd8Aa\\xf1\\x89G\\x87?\\xbf\\xf0\\x0c|^UP#g\\xd4\\xc8\\x195rF\\x8d\\x9c\\xa5\\x83J\\xde\\xa3R\\x02\\xc5tF\\x8d\\x9cQ\\xa3A\\xdd\\xfc\\xb9\\xb3\\xc2\\x7fYvrXx\\xec\\x91\\xe1mo\\x1d\\x1f\\\\$\\xddL\\xab\\x81#n\\xa0\\xd5\\x00\\xa2\\xa1&~L\\x9bi\\xf7\\xde{\\xef\\xf0o\\xde\\xf5\\xf6\\xf0;\\xa7\\xce\\x0f_\\xfa\\x83\\x0f\\x87\\xbf\\xfe\\xf2\\n|\\xecAQ#g\\xd4\\xc8\\x195rF\\x8d\\x9c\\xe1\\x8aJ\\x1cT\\xf2\\x1e\\x95\\xce(\\xa63j\\xe4\\x8c\\x1a\\xd5m\\xd3\\xba\\xe5\\xe1\\xda?^\\x16\\xfe\\xf4\\xfc\\xc5\\xe1\\x93KO\\n\\xbf\\xfb\\xeb\\xc7\\x85_?\\xe1\\xdf\\x84\\xf9\\xf3\\x0e\\x0b\\x87\\x1d\\xfc\\xb6\\xd6 r\\xc0\\xac}\\xc3\\xd1\\xef~G\\xf8\\xd0\\xfb\\xe6\\x843\\x16\\xbc/\\\\\\xf0[\\xbf\\x16>\\xfb\\xbb\\xa7\\x85\\xf5+\\xcf\\x08\\xb7\\xfc\\xc9\\xd9x\\xbfM\\xa0F\\xce\\xa8\\x913j\\xe4\\x8c\\x1a9\\xd3\\x0c\\x92\\xf7\\xa8T@1\\x9dQ#g\\xd4\\xc8\\x195rF\\x8d\\x9cQ#g\\xd4\\xc8\\x19\\xae\\xa8\\xe4=*\\xbdQLg\\xd4\\xc8\\x195rF\\x8d\\x9cQ#g\\xd4\\xc8\\x195r\\x96\\x0e*y\\x8fJ\\t\\x14\\xd3\\x195rF\\x8d\\x9cQ#g\\xd4\\xc8\\x195rF\\x8d\\x9c\\xe1\\x8aJ\\x1cT\\xf2\\x1e\\x95\\xce(\\xa63j\\xe4\\x8c\\x1a9\\xa3F\\xce\\xa8\\x913j\\xe4\\x8c\\x1a9\\xd3\\x0c\\x92\\xf7\\xa8T@1\\x9dQ#g\\xd4\\xc8\\x195rF\\x8d\\x9cQ#g\\xd4\\xc8\\x19\\xae\\xa8\\xe4=*\\xbdQLg\\xd4\\xc8\\x195rF\\x8d\\x9cQ#g\\xd4\\xc8\\x195r\\x96\\x0e*]\\xf7\\xa8\\xd0\\x8d\\x9d\\xd1\\x0f\\x973j\\xe4\\x8c\\x1a9\\xa3F\\xce\\xa8\\x913j\\xe4\\x8c\\x1a9\\xc3\\x15\\x958\\xa8\\xa4{T(\\xa63\\x8a\\xe9\\x8c\\x1a9\\xa3F\\xce\\xa8\\x913j\\xe4\\x8c\\x1a9\\xa3F\\xce4\\x83\\xf4\\xb5G\\x85b:\\xa3\\x98\\xce\\xa8\\x913j\\xe4\\x8c\\x1a9\\xa3F\\xce\\xa8\\x913j\\xe4\\x0cWTh\\x8f\\n\\xc5tF1\\x9dQ#g\\xd4\\xc8\\x195rF\\x8d\\x9cQ#g\\xd4\\xc8Y:\\xa8\\xe4=*%PLg\\xd4\\xc8\\x195rF\\x8d\\x9cQ#g\\xd4\\xc8\\x195r\\x86+*qP\\xc9{T:\\xa3\\x98\\xce\\xa8\\x913j\\xe4\\x8c\\x1a9\\xa3F\\xce\\xa8\\x913j\\xe4L3H\\xde\\xa3R\\x01\\xc5tF\\x8d\\x9cQ#g\\xd4\\xc8\\x195rF\\x8d\\x9cQ\\xa3Q\\xf3\\xfc]k\\xc2\\xcdk\\xcf/X\\x13\\xb6\\xfdd\\xeauqE%\\xefQ\\xe9\\xad\\x18\\xd2\\x1d5rF\\x8d\\x9cQ#g\\xd4\\xc8\\x195rF\\x8d\\x86\\xe5\\xde\\xb1\\xf5a\\xf9o/\\x0e\\xa7|p~\\xcb\\xfa\\xb5+\\xc3\\xf3?\\xbd\\x13\\xaf;\\x88\\x9d\\x9b.\\x0c\\xd7]tf\\xc1\\x85\\xe1\\xbb?\\x9ez\\xddtP\\xc9{TJ(\\x86tG\\x8d\\x9cQ#g\\xd4\\xc8\\x195rF\\x8d\\x9cQ\\xa3aXu\\xfe\\xd2\\xb0\\xd7^{M1\\xe7]\\x87\\x86\\x1fl\\xd9\\x80\\xb7\\xa9\\xea\\xe9\\x8d\\xe7\\xb7\\x86\\x93[7~-\\xbc\\xb8}s\\xdb+OM\\xbd.\\xae\\xa8\\xc4A%\\xefQ\\xe9\\xac\\x18\\xd2\\x1d5rF\\x8d\\x9cQ#g\\xd4\\xc8\\x195rF\\x8d\\x9a\\xb6\\xe9\\xfau8\\xa4D\\xf3\\xdf7\\x0foW\\xd5C\\xd7\\x8e\\xaf\\xa2\\x8c\\xdd\\xb5\\x19\\xbf\\x9e\\xd2\\x0c\\x92\\xf7\\xa8T@1\\x9dQ#g\\xd4\\xc8\\x195rF\\x8d\\x9cQ#g\\xd4\\xa8i\\xc7\\xbe\\xf7(\\x1cPR\\x1af\\xe8\\xb6U\\xfc\\xc3_\\x8c\\x0f*7\\xaf\\xfdO\\xe3\\xfbS._\\x1d\\xee\\xddzG\\xf8W\\xb8.\\xae\\xa8\\xe4=*\\xbd\\x15C\\xba\\xa3F\\xce\\xa8\\x913j\\xe4\\x8c\\x1a9\\xa3F\\xce\\xa8Q\\xd3h0)\\xba\\xf4\\x8f\\x96\\xe3m\\xcb\\xbb+l\\xbb\\xf2\\xac\\x89})\\xa9\\xb3\\xc2\\xd8]wM\\xb9~:\\xa8\\xcc\\xd8=*\\xebW\\x9e\\x11>s\\xf6\\xa9\\xe1\\x13\\x8b?\\xd0\\xa2\\x8f7^r\\x0e^wX\\x8a!\\xddQ#g\\xd4\\xc8\\x195rF\\x8d\\x9cQ#g\\xd4\\xa8i4\\x98\\x14\\xd57\\xa8\\xec\\xf1\\xd4\\xd6\\xf0\\xd2c\\x13\\xff\\xfd\\xe4\\x1d\\xe1\\x87W\\x9f3>\\xac\\\\~U\\xd8Y\\xb8.\\xae\\xa8\\xc4Ae\\xba\\xf7\\xa8h\\x18\\x99?\\xefp\\x0c6k\\xbf}\\xc2\\xca\\x8f-\\xc0\\xdb\\rC\\x1a1\\xcb\\xbfh\\x8a\\xa8\\x913j\\xe4\\x8c\\x1a9\\xa3F\\xce\\xa8Q\\xd3\\x86}\\xe8g\\x8ao\\xaf\\x9dXUY\\x1b\\x1e*|M3\\xc8\\x8c\\xdc\\xa3\\xb2\\xee\\xbc\\xc5\\xada\\x84b\\xa54\\xc8\\xd0\\xed\\x9b\\x96F\\xcc\\xf2/\\x9a\"j\\xe4\\x8c\\x1a9\\xa3F\\xce\\xa8\\x913j\\xd4\\xb4^\\x9bi5\\xc8\\xd0\\xed\\xaa\\xd9\\x1c^\\xfc\\xc7\\xc9\\x9f{vl\\xe2\\xe5\\xca_\\xbe*<\\x9f|^pEe\\xba\\xf7\\xa8\\xdcy\\xd9y}\\r)\\xd1\\xf2\\xc5\\'\\xe0\\xfd4)\\x8d\\x98\\xe5_4E\\xd4\\xc8\\x195rF\\x8d\\x9cQ#g\\xd4h\\x18\\xfe\\xe0\\xdc%\\xf87\\xf6\\x90w\\x1cX\\xf3\\xcb\\x93o\\tw]tV\\xb8\\xf1\\xf3\\xe7\\x87\\xb1\\xab?\\x17\\xc6>?q\\xd8\\xe7\\x8d\\xb4Ge\\xd1\\x89Gc\\xacn6\\xac^\\x86\\xf7\\xd5\\x94bHw\\xd4\\xc8\\x195rF\\x8d\\x9cQ#g\\xd4\\xc8\\x195j\\x92N\\xe8v\\xe9\\x1f\\x7f\"\\xcc>`\\x16\\xfe}\\x15\\x9d\\xfcM\\'\\x83\\xa3\\xdb\\x97\\xf7\\xb5p\\xff\\xba8\\x9cL\\xf8\\xdc\\x85\\xe1\\xae\\xbb7\\xf5\\xff\\xaa\\x9f8\\xa8L\\xd7\\x1e\\x15\\x8a\\xd4\\xcb\\xb0WU\\x8a!\\xddQ#g\\xd4\\xc8\\x195rF\\x8d\\x9cQ#g\\xd4\\xa8):\\xf3l\\xb7\\x01\\xa5H\\x03\\xcbc\\xdf\\xdb\\x88\\xf7U\\x9a6\\xd4n\\xdf\\x1c^z\\x02\\xbe\\x96\\xd0\\x0c2\\xa3\\xf6\\xa8he\\x84\\xe2\\xf4\\xb2\\xe0\\xfds\\xf1\\xfe\\x9aB1\\x9dQ#g\\xd4\\xc8\\x195rF\\x8d\\x9cQ#g\\xd4\\xa8nZE\\xd1\\xa9\\xf2\\xe9\\xefi/\\x1al\\xea[]\\xe9\\rWT\\xa6s\\x8f\\xca\\xfa\\x95|\\x8c\\xac\\x97\\xf9\\xf3\\x0e\\xc3\\xfbk\\n\\xc5tF\\x8d\\x9cQ#g\\xd4\\xc8\\x195rF\\x8d\\x9cQ\\xa3:i\\xbf\\x89\\xce4K\\x7fK\\xcb\\xd0\\xe1\"\\xba\\xff\\xba\\xa5\\x83\\xca\\x8c\\xd8\\xa3\\x92\\x07\\x957&j\\xe4\\x8c\\x1a9\\xa3F\\xce\\xa8\\x913j\\xe4\\x8c\\x1a\\xd5ECJ\\x99C=\\xbd\\x9c\\xb1\\xf8$|\\x9c:\\xe1\\x8aJ\\x1cT\\xdeH{T\\x96.<\\x06\\xef\\xab)\\x14\\xd3\\x195rF\\x8d\\x9cQ#g\\xd4\\xc8\\x195rF\\x8d\\xea\\xa0\\xc3=z\\x83A\\xfa\\x1b:\\x88\\xaf|a%>^]4\\x83\\xcc\\xb8\\xf3\\xa8h\\xbf\\t\\xc5\\xe8&\\xbf\\xeagzQ#g\\xd4\\xc8\\x195rF\\x8d\\x9cQ#g\\xd4\\xa8\\x0eZ\\xfd\\xa0\\xbf\\x9fEs\\xe6\\xcc\\t\\xf7\\xdcsO\\xb8\\xf8\\xe2\\x8b\\xf1\\xeb\\xa4\\xeewWN\\xe1\\x8a\\xcat\\xeeQYv\\xca1\\x18\\xa1\\x97C\\x0f\\xda\\x7f\\xa8\\xc3\\n\\xc5tF\\x8d\\x9cQ#g\\xd4\\xc8\\x195rF\\x8d\\x9cQ\\xa3Ai\\xd5\\x83\\xfev\\x92\\x85\\x0b\\x17\\x86\\xdd\\xbbw\\x87\\xe7\\x9e{\\x0e\\xbfN\\xb4R\\xa3\\x15\\x1bz\\xecA\\xa5\\x83\\xca\\xb4\\xefQ\\xd1\\xe1\\x1b\\n\\xd0/\\x9d$nX\\xef\\x01D1\\x9dQ#g\\xd4\\xc8\\x195rF\\x8d\\x9cQ#g\\xd4h\\x10\\x1a \\xe8of\\'qP\\x11\\xfaz\\'\\xab\\xce_\\x8a\\x8f?(\\\\Q\\x89\\x83\\xca0\\xf7\\xa8\\xac9\\xfbT\\xfc\\xc6\\xcb\\x9aw\\xc4\\xdb[g\\xb6\\xa5\\xc7\\xa8\\x13\\xc5tF\\x8d\\x9cQ#g\\xd4\\xc8\\x195rF\\x8d\\x9cQ\\xa3A\\xdc\\xf0\\x955\\xf8\\xf7\\xb2\\x93\\xaa\\x83\\x8aVU\\xe8\\xf1\\x07\\xa5\\x19dF\\xecQ)s\\xca\\xfc^V~\\xb4\\xf97+\\xa4\\x98\\xce\\xa8\\x913j\\xe4\\x8c\\x1a9\\xa3F\\xce\\xa8\\x913j4\\x88%\\x8b\\x16\\xe0\\xdf\\xca\\xd4\\xce\\x9d;\\xdb\\xc3I\\'\\xabV\\xad\\xc2\\xdb\\xa6\\x9a\\xd8\\xab\\x82+*\\xc3\\xde\\xa3R\\xd7jJ\\xa4\\xfd*\\xf48u\\xa2\\x98\\xce\\xa8\\x913j\\xe4\\x8c\\x1a9\\xa3F\\xce\\xa8\\x913jTU\\xbf\\x87}\\xea\\x1aT\\x9a8\\xfc\\x93\\x0e*\\xd3\\xb6G\\xa5\\xca\\xab|zizc-\\xc5tF\\x8d\\x9cQ#g\\xd4\\xc8\\x195rF\\x8d\\x9cQ\\xa3\\xaa\\xca\\x1c\\xf6\\xd1!\\x1f\\xd1@\\x12\\x87\\x93\\xf89\\xbd\\x12\\x88nS\\xd4\\xc4\\xe1\\x1f\\\\Q\\x89\\x83\\xca\\xb0\\xf6\\xa8\\xd4y\\xd8\\'j\\xfa\\xf0\\x0f\\xc5tF\\x8d\\x9cQ#g\\xd4\\xc8\\x195rF\\x8d\\x9cQ\\xa3\\xaa.\\xfd\\xa3\\xe5\\xf87\\xb2\\x9b\\xaa{T\"z\\x1e\\x83\\xd0\\x0c2\\xed{T\\xe8\\x1b\\x1dT\\xd3oRH1\\x9dQ#g\\xd4\\xc8\\x195rF\\x8d\\x9cQ#g\\xd4\\xa8\\xaaA\\x06\\x15\\x1d\\x0e\\xa2\\xaf\\xf7B\\xcfc\\x10\\xb8\\xa22\\xec=*\\xf4\\x8d\\x0e*\\x0f*\\xc3E\\x8d\\x9cQ#g\\xd4\\xc8\\x195rF\\x8d\\x9cQ\\xa3\\xaa\\xaa\\x0c*:\\xcc\\xb3u\\xeb\\xd6R\\'|K\\xd1\\xf3\\x18D:\\xa8L\\xdb\\x1e\\x15\\xfaF\\x07\\x95\\x07\\x95\\xe1\\xa2F\\xce\\xa8\\x913j\\xe4\\x8c\\x1a9\\xa3F\\xce\\xa8QUeN\\xf4V\\x87\\x03\\xde6\\x0b\\x9f\\xc7 pE%\\x0e*\\xc3\\xda\\xa3B\\xdf\\xec\\xa0\\xf2\\xa02\\\\\\xd4\\xc8\\x195rF\\x8d\\x9cQ#g\\xd4\\xc8\\x195\\xaa\\xea\\xb1\\xefm\\xc4\\xbf\\x91M9\\xf7\\xccE\\xf8<\\x06\\xa1\\x19d\\xda\\xf7\\xa8\\xe4W\\xfd\\xbc\\xf1Q#g\\xd4\\xc8\\x195rF\\x8d\\x9cQ#g\\xd4h\\x10\\xc7\\xbe\\xf7(\\xfc;\\xd9\\x84M\\xd7\\xaf\\xc3\\xe70\\x08\\\\Qy\\xa3\\x9fG\\xe5\\x90|\\x1e\\x95\\xa1\\xa3F\\xce\\xa8\\x913j\\xe4\\x8c\\x1a9\\xa3F\\xce\\xa8\\xd1 \\x86u\\xf8\\xa7\\x89\\xc3>\\x92\\x0e*\\xd3\\xb6GE\\xa7\\xbc\\xd7pA\\xdfx\\x15\\xf9\\xcc\\xb4\\xc3G\\x8d\\x9cQ#g\\xd4\\xc8\\x195rF\\x8d\\x9cQ\\xa3A\\rcU\\xa5\\x89\\xd5\\x14\\xc1\\x15\\x958\\xa8\\x0c\\xf3\\xbd~\\xd6\\xaf\\\\\\x82\\xdfxY\\xf3\\xe7\\x1d\\x86\\xf7_7\\x8a\\xe9\\x8c\\x1a9\\xa3F\\xce\\xa8\\x913j\\xe4\\x8c\\x1a9\\xa3F\\x83\\xd2\\x19j\\xb5\\xe2A\\x7f7\\xeb\\xa0W\\x17\\xd1\\xe3\\xd6A3\\xc8\\x8cx\\xaf\\x1f\\xd1\\x90A\\x01\\xca\\xd0\\xc0C\\xf7]7\\x8a\\xe9\\x8c\\x1a9\\xa3F\\xce\\xa8\\x913j\\xe4\\x8c\\x1a9\\xa3Fu\\xd0\\xfb\\xf0\\xbc\\xe7\\x88CZ\\x7f+\\xc7\\xc6\\xc6\\xda\\'u\\xab\\xea\\xd8c\\x8fm\\xddWS\\xef\\x9a\\x1c\\xe1\\x8a\\xca\\xb0\\xf7\\xa8\\xe8\\xd0\\xcf\\xb2S\\x8e\\x994pT\\xa5\\xf7\\xf9\\x19\\xc6\\xb0B1\\x9dQ#g\\xd4\\xc8\\x195rF\\x8d\\x9cQ#g\\xd4\\xa8.\\xf7\\x8e\\xado\\xfd\\xad\\xackP9\\xe5\\x83\\xf3\\xf1q\\xea\\x94\\x0e*\\xd3\\xb2GEC\\xca\\xbc#\\xde>e\\xe0\\x18\\x946\\xe8\\xd2\\xe3\\xd5\\x85b:\\xa3F\\xce\\xa8\\x913j\\xe4\\x8c\\x1a9\\xa3F\\xce\\xa8Q\\x1d\\xb4\\xa22\\xfb\\x80\\xd7\\x0f\\xffh\\xd0\\x88\\xef\\xe5S\\xd6\\xec\\xd9\\xb3\\xdb\\xf7\\xb3\\xfc\\xb7\\x17\\xe3\\xe3\\xd5\\x05WT\\xe2\\xa0\\xd2\\xf4\\x1e\\x95\\xa6\\x86\\x94\\xa8\\xc9a\\x85b:\\xa3F\\xce\\xa8\\x913j\\xe4\\x8c\\x1a9\\xa3F\\xce\\xa8Q\\x1d\\xb4\\xfaA\\x7f+\\xeb\\xa0\\x95\\x1az\\xcc:h\\x06\\x99\\x96=*M\\x0f)QS\\xc3\\n\\xc5tF\\x8d\\x9cQ#g\\xd4\\xc8\\x195rF\\x8d\\x9cQ\\xa3A5}\\xe2\\xb7&N\\xf4\\x16\\xe1\\x8a\\xca0\\xf6\\xa8\\x9ctL\\xfd\\'y\\xeb\\xa4\\x89\\x93\\xbfQLg\\xd4\\xc8\\x195rF\\x8d\\x9cQ#g\\xd4\\xc8\\x195\\x1aT\\x95\\xf7\\xfc)\\x8b\\x1e\\xb7\\x0e\\xe9\\xa02\\xb4=*:\\xcf\\t}\\x93M\\xd1\\x06[\\xad\\xe0\\xd0s\\xa9\\x8ab:\\xa3F\\xce\\xa8\\x913j\\xe4\\x8c\\x1a9\\xa3F\\xce\\xa8\\xd1\\xa0\\xfe\\xea/o\\xc6\\r\\xb1uy\\xee\\xb9\\xe7\\xf0q\\xeb\\x80+*qPib\\x8f\\x8a\\x06\\x86Y\\xfb\\xed\\x83\\x03E\\x93\\xea~\\xef\\x1f\\x8a\\xe9\\x8c\\x1a9\\xa3F\\xce\\xa8\\x913j\\xe4\\x8c\\x1a9\\xa3F\\x83\\xfa\\xfc%\\x7f\\x82\\x03F]v\\xee\\xdc\\x19n\\xf8\\xca\\x1a|\\xecAi\\x06\\x19\\xea\\x1e\\x95\\xa5\\x0b\\xeby\\x19rY\\x1a\\x8e6^r\\x0e>\\xa7*(\\xa63j\\xe4\\x8c\\x1a9\\xa3F\\xce\\xa8\\x913j\\xe4\\x8c\\x1a\\rJ\\xe7O\\x993g\\x0e\\xbe\\x82\\xa7\\x0e\\xfa;\\xdb\\xe4\\xa02eE\\xa5\\xa9=*\\x1a\\x14\\x8a\\x03\\xc40-:\\xf1h|^UPLg\\xd4\\xc8\\x195rF\\x8d\\x9cQ#g\\xd4\\xc8\\x195\\x1a\\xd4\\xc2\\x06_\\xf1\\x135\\xf5\\xca\\x9ftPi|\\x8f\\xcat\\xad\\xa6\\xa4\\xea\\xda\\xabB1\\x9dQ#g\\xd4\\xc8\\x195rF\\x8d\\x9cQ#g\\xd4hPM\\xbf1aSoH(\\xb8\\xa2\\x12\\x07\\x95\\xba\\xf7\\xa8L\\xc7\\xde\\x94\\xa2\\xba\\xde\\xb0\\x90b:\\xa3F\\xce\\xa8\\x913j\\xe4\\x8c\\x1a9\\xa3F\\xce\\xa8Q\\x1dth\\xa6\\x89\\xf7\\xfb\\xd1j\\x8d\\xdeK\\x88\\x1e\\xb3\\x0e\\x9aA\\x86\\xb2Ge\\xddy\\x8b\\xf1\\x1b\\x1c6\\x9d\\xbb\\x85\\x9e_Y\\x14\\xd3\\x195rF\\x8d\\x9cQ#g\\xd4\\xc8\\x195rF\\x8d\\xea\\xa2\\xf3\\xa9\\xe8\\xa5\\xca\\xf1=\\x7f\\x06\\xb1d\\xd1\\x82\\xc6\\xde19\\x85+*M\\xecQ\\xd1\\xfe\\x10\\xfaF\\xa7C\\x1d\\x9bj)\\xa63j\\xe4\\x8c\\x1a9\\xa3F\\xce\\xa8\\x913j\\xe4\\x8c\\x1a5\\xe1\\xdb\\x9b\\xfe<\\xacYyv\\xf8\\x9d3N\\rG\\x1c\\xf6\\x8e0\\xeb\\xad\\xfb\\xe1\\xdf\\xcc\\xb7\\xbc\\xf9\\xcd\\xe1\\xed\\x07\\x1d\\x10N\\xfcw\\xbf\\xd2:]\\xfe\\xb5W\\xacnt\\x05\\xa5(\\x1dT\\x1a\\xdd\\xa32\\x8c\\xb3\\xd0\\xf6K\\xab;\\xf4\\x1c\\xcb\\xa0\\x98\\xce\\xa8\\x913j\\xe4\\x8c\\x1a9\\xa3F\\xce\\xa8\\x913j\\xd4\\x8bVJ\\xbe~\\xc3\\x9f\\x86K\\xff\\xf8\\x13-\\x1a(t\\xca|B\\x7f\\x17\\xab\\x9a\\xf3\\xaeC\\xf11$>\\x97\\xf5kW\\x86\\xfb\\x06\\xd8h\\x8b+*qP\\xa9s\\x8f\\n}\\x83\\xd3\\xa5\\x8es\\xaaPLg\\xd4\\xc8\\x195rF\\x8d\\x9cQ#g\\xd4\\xc8\\x195\"\\x1aN4\\x04\\xcc\\x7f\\xdf<\\xfc[7\\xd3\\xe8\\r\\x115\\xb8\\x94]\\x8d\\xd1\\x0c\\xd2\\xf8\\x1e\\x95\\xf5+\\x97\\xe0\\x93\\x9e.\\xf3\\xe7\\x1d\\x86\\xcf\\xb3\\x0c\\x8a\\xe9\\x8c\\x1a9\\xa3F\\xce\\xa8\\x913j\\xe4\\x8c\\x1a9\\xa3FE\\xc5wB~#\\xd1\\xf3.s\\xce\\x15\\\\Q\\xa9{\\x8f\\xca\\xb0O\\x99\\xdf\\x8b^}D\\xcf\\xb3\\x0c\\x8a\\xe9\\x8c\\x1a9\\xa3F\\xce\\xa8\\x913j\\xe4\\x8c\\x1a9\\xa3F\\xa97\\xf2\\x90\\x92\\xd2j\\x10}\\x7fE\\xe9\\xa0\\xd2\\xd8\\x1e\\x15\\x1dj\\xa1\\'9\\x9d\\xe8y\\x96A1\\x9dQ#g\\xd4\\xc8\\x195rF\\x8d\\x9cQ#g\\xd4(5\\nCJ\\xa4W \\xd1\\xf7\\x98\\xc2\\x15\\x958\\xa8\\xd4\\xb5G%\\x0f*\\xa3\\x8f\\x1a9\\xa3F\\xce\\xa8\\x913j\\xe4\\x8c\\x1a9\\xa3F\\xa9&\\xce\\x85\\x92\\xd2yQV\\x9d\\xbf\\xb4\\xf5\\xf2\\xe3:^\\xc6\\xdc\\x8dNDG\\xdfcJ3H\\xe3{T\\xf2\\xa02\\xfa\\xa8\\x913j\\xe4\\x8c\\x1a9\\xa3F\\xce\\xa8\\x913j\\x94\\xd2&\\xdac\\xdf{\\xd4\\xa4\\xbfi\\x1a^\\xe2\\x80\\xa1U\\x8aH\\xe79\\xd1\\xa9\\xed%\\xfd|\\xf1k\\xa2\\xfb\\xa5\\xc7\\x93\\xf4z\\xa2\\x01#\\xbd/\\xed9\\xe9\\xf45\\r<\\xc5\\xe7+\\xfd\\x0c)\\x82+*u\\xefQ\\x99\\x89\\x83\\xca\\x86\\xd5\\xcb\\xf0\\xb9\\xf6\\x8bb:\\xa3F\\xce\\xa8\\x913j\\xe4\\x8c\\x1a9\\xa3F\\xce\\xa8\\x11\\xd1`\\xa1\\xc1@{V\\xe8\\xeb3\\x8d^\\xed\\x13\\x87\\x19\\xfaz\\'\\xe9\\xa0\\xd2\\xd8\\x1e\\x15\\xbd\\xeaG\\xc3\\xcaL2\\xe8I\\xdf(\\xa63j\\xe4\\x8c\\x1a9\\xa3F\\xce\\xa8\\x913j\\xe4\\x8c\\x1a9\\xc3\\x15\\x958\\xa8\\xd4\\xfd^?\\xa3\\x84b:\\xa3F\\xce\\xa8\\x913j\\xe4\\x8c\\x1a9\\xa3F\\xce\\xa8\\x913\\xcd Cy\\xaf\\x9fQC1\\x9dQ#g\\xd4\\xc8\\x195rF\\x8d\\x9cQ#g\\xd4\\xc8\\x19\\xae\\xa84\\xf1^?\\xa3\\x86b:\\xa3F\\xce\\xa8\\x913j\\xe4\\x8c\\x1a9\\xa3F\\xce\\xa8\\x91\\xb3tPi\\xf4\\xbd~F\\r\\xc5tF\\x8d\\x9cQ#g\\xd4\\xc8\\x195rF\\x8d\\x9cQ#g\\xb8\\xa2\\x12\\x07\\x95\\xbcG\\xa53\\x8a\\xe9\\x8c\\x1a9\\xa3F\\xce\\xa8\\x913j\\xe4\\x8c\\x1a9\\xa3F\\xce4\\x83\\xe4=*\\x15PLg\\xd4\\xc8\\x195rF\\x8d\\x9cQ#g\\xd4\\xc8\\x195r\\x86+*y\\x8fJo\\x14\\xd3\\x195rF\\x8d\\x9cQ#g\\xd4\\xc8\\x195rF\\x8d\\x9c\\xa5\\x83J\\xd7=*tcg\\xf4\\xc3\\xe5\\x8c\\x1a9\\xa3F\\xce\\xa8\\x913j\\xe4\\x8c\\x1a9\\xa3F\\xcepE%\\x0e*\\xe9\\x1e\\x15\\x8a\\xe9\\x8cb:\\xa3F\\xce\\xa8\\x913j\\xe4\\x8c\\x1a9\\xa3F\\xce\\xa8\\x913\\xcd }\\xedQ\\xa1\\x98\\xce(\\xa63j\\xe4\\x8c\\x1a9\\xa3F\\xce\\xa8\\x913j\\xe4\\x8c\\x1a9\\xc3\\x15\\x15\\xda\\xa3B1\\x9dQLg\\xd4\\xc8\\x195rF\\x8d\\x9cQ#g\\xd4\\xc8\\x195r\\x96\\x0e*y\\x8fJ\\t\\x14\\xd3\\x195rF\\x8d\\x9cQ#g\\xd4\\xc8\\x195rF\\x8d\\x9c\\xe1\\x8aJ\\x1cT\\xf2\\x1e\\x95\\xce(\\xa63j\\xe4\\x8c\\x1a9\\xa3F\\xce\\xa8\\x913j\\xe4\\x8c\\x1a9\\xd3\\x0c\\x92\\xf7\\xa8T@1\\x9dQ#g\\xd4\\xc8\\x195rF\\x8d\\x9cQ#g\\xd4h\\x94=p\\xd7M\\xe1\\x95\\x1d[\\xc2\\xab;n\\rO\\xc1\\xd7qE%\\xefQ\\xe9\\xad\\x18r\\x98\\xd6\\xaf\\\\\\x12\\x16\\x9fxt\\x98?\\xef\\xf0\\x96\\x95\\x1f[\\x10\\xee\\xbc\\xec<\\xbc\\xee\\xb0P#g\\xd4\\xc8\\x195rF\\x8d\\x9cQ#g\\xd4hd]\\xbd6<\\xffx\\xfc\\xde\\xc7\\xc23p\\x9dtP\\xc9{TJ(\\x86\\x1c\\x96\\xa5\\x0b\\x8f\\t{\\xed\\xb5\\xd7\\x14\\x87\\x1d\\xfc\\xb6\\xb0a\\xf52\\xbc\\xcd0P#g\\xd4\\xc8\\x195rF\\x8d\\x9cQ#g\\xd4h4\\xad\\x0c\\x8f\\xfc\\xdd\\xdd\\xc9\\xf7\\xde{P\\x99r\\xe8\\'\\xefQ\\xe9\\xac\\x18r\\x18\\xd6\\x9d\\xb7\\xb8=\\x98\\xacX\\xb1\"\\\\v\\xd9e\\xe1\\xa2\\x8b.\\n\\xb3g\\xcfn}n\\xde\\x11o\\xc7\\xdb\\r\\x035rF\\x8d\\x9cQ#g\\xd4\\xc8\\x195\\x1a\\xc4c\\xdf\\xdb\\x18\\x9e\\xff\\xe9\\x9d\\xf8\\xb5\\xd4\\x0f\\xb6l\\x08\\x97\\xfe\\xf1\\'\\xc2\\xa6\\xeb\\xd7\\xe1\\xd7\\xa7\\x0b5\\x1aE\\x0f|\\xe3\\xa6\\xb0{\\xcf\\xf7\\xfb\\xea\\xc3w\\xb4\\xfe\\xb7\\xdb\\xa0\\x92\\xf7\\xa8TP\\x0c9\\x0cG\\x1d~pk \\xd1\\x80\\x92^\\xb6o\\xdf\\xde\\x1e`4\\xcc\\xd0m\\x9bF\\x8d\\x9cQ#g\\xd4\\xc8\\x195rF\\x8d\\xaa\\xba\\xf4\\x8f\\x96\\xb7\\x7f\\x1fj\\x08\\xa1\\xeb\\xc8\\xbdc\\xeb\\xc3\\xec\\x03f\\xb5\\xaf\\xab\\x8f\\xe9z\\xd3\\x81\\x1a\\x8d\\x9cx\\xc8\\xe7\\xc9M\\xe1\\xd9\\xbb\\xc7\\x07\\x96R+*y\\x8fJo\\xc5\\x90\\xc3\\x10\\xffA=\\xf8\\xe0\\x83\\x13#\\xca\\xeb\\x97\\xd3N;\\xad\\xf5\\xb5\\xe5\\x8bO\\xc0\\xdb6\\x8d\\x1a9\\xa3F\\xce\\xa8\\x913j\\xe4\\x8c\\x1aU\\x95\\x0e\\x1f\\xad\\xdf\\x89\\xbf\\xbdx\\xcaun\\xf8\\xca\\x9aI\\xd7\\x91%\\x8b\\x16L\\xb9\\xdet\\xa1F\\xa3%\\x1e\\xf2\\xd9\\x1a^\\xfe\\xd6\\xeap\\xdf\\xd7\\xfb\\x1fT\\xf2\\x1e\\x95\\x12\\x8a!\\x87!\\xfe\\x83\\xca\\x83\\xca\\xccG\\x8d\\x9cQ#g\\xd4\\xc8\\x195\\xaa\\xea=G\\x1c\\xd2\\xfe]\\x19}\\xe5\\x0b+\\xdb_\\xd7a\\xa1\\xe20#\\xfa\\\\z?\\xd3\\x89\\x1a\\x8d\\x92x\\xc8\\xe7\\xff\\xfe\\xf4\\xaa\\xf0#}\\xae\\xc4\\xa02\\xe5\\xd0O\\xde\\xa3\\xd2Y1\\xe40t:\\xf4\\xf3\\xdak\\xaf\\x85\\x03\\x0f<\\xb0\\xf5\\xb5|\\xe8gf\\xa0F\\xce\\xa8\\x913j\\xe4\\x8c\\x1aU\\xb5\\xf0\\x83\\xf3\\'\\r \\x91\\x06\\x14}\\xfd\\x8c\\xc5\\'\\xe1\\xd7\\xa5x_\\xd3\\x85\\x1a\\x8d\\x92g~\\xcc\\xdfw\\xf4\\xd2}\\x93\\xaf\\xaf\\x19$\\xefQ\\xa9 \\x8d8,\\xe9f\\xda\\x0b.\\xb8 \\\\~\\xf9\\xe5-G\\x1eyd\\xebs\\x1ad\\xe8v\\xc3@\\x8d\\x9cQ#g\\xd4\\xc8\\x195rF\\x8d\\xaa\\xd2!\\x9c\\xf8{\\xb2\\xac9\\xef:\\xb45\\xc8ho\\xcb}c\\xeb\\xfb\\xda\\x90\\xdb\\x04j4J\\x9e\\xfa\\x91\\xce\\x99\\x92\\xda\\xda\\xfe\\xde\\xf5\\xf1\\xcf\\xfff\\xf2\\xf5qE%\\xefQ\\xe9-\\x8d8LK>\\xf4^\\xfc\\x07v\\xd0\\xdb\\xde\\x9a_\\x9e<\\x83P#g\\xd4\\xc8\\x195rF\\x8d\\xaa\\xd2+x\\xe8wd\\x19s\\xe6\\xcc\\t\\'\\x9f|r\\xeb\\x15\\x95\\x1a^n\\\\\\xff\\x99\\xa1\\x0e-\\xd4h\\xa4\\xe5=*\\xcd(\\x86l\\x9aN\\xe8\\xf6\\x89\\xc5\\x1f\\x08\\xb3\\xf6\\xdb\\x07\\xffa\\x89N\\xfe\\xa6\\x93\\xc1\\xd1\\xed\\x9bF\\x8d\\x9cQ#g\\xd4\\xc8\\x195rF\\x8d\\xaa\\xa2\\x8d\\xb2\\xfd8\\xe4\\x1d\\xe3\\x87\\xcfe\\xd5\\xaaUa\\xf7\\xee\\xdd-\\xdb\\xb6m\\x0b\\x17_|qx\\xff\\xfb~5|r\\xc5\\xb2\\xf6!\\xa4&Q\\xa3\\x91\\x96\\xf7\\xa84\\xa3\\x18\\xb2I:\\xf3l:\\xa0h\\xca\\xd7\\xf9Sv\\xed\\xda\\x15n\\xbb\\xed\\xb6\\xf6F\\xdaH\\x03\\xcb\\xc6K\\xce\\xc1\\xfbj\\n5rF\\x8d\\x9cQ#g\\xd4\\xc8\\x195\\xaaj\\xfe\\xfb\\xe6M\\xfa}\\xd8\\xafw\\x1f\\xf1\\xce\\xf6\\x7f\\x8f\\x8d\\x8d\\xb5\\x07\\x95\\xd4\\x86\\r\\x1bZ\\xab-z%Q\\x93+,\\xd4\\xc8\\x99f\\x90\\xbcG\\xa5\\x02\\x8aY7\\xad\\xa2\\xe8T\\xf9\\xf1\\x1f\\x8f\\x06\\x14m\\xa4\\xd5\\xe6\\xd9\\xe2E\\xaf\\x04J\\x07\\x16\\r6\\xc3\\\\]\\xa1F\\xce\\xa8\\x913j\\xe4\\x8c\\x1a9\\xa3FU\\xe8\\xd5=\\xf1w`Yo\\xdb\\xff\\xad\\x93>>\\xf6\\xd8c\\xc3\\x95W^\\x19v\\xee\\xdc9e`\\xd1\\n\\x8b\\x06\"\\x9d0\\x8e\\x9e\\xc7\\xa0\\xa8\\x913\\\\Q\\xc9{Tz\\xa3\\x98u\\xd2~\\x13\\x9di6\\xfe\\xa3\\xd1\\x99hi@)^4\\xb0\\xc43\\xd5\\x8a\\x0e\\x17\\xd1\\xfd\\xd7\\x8d\\x1a9\\xa3F\\xce\\xa8\\x913j\\xe4\\x8c\\x1a\\x95\\xa5\\x13\\xb6\\xc5\\xdf{u\\xd2\\xefS\\x1d\\n*\\x0e,\\xf7\\xdcsOx\\xcf\\xbb\\x8fh\\x1dj\\xa2\\xe73\\x08j\\xe4,\\x1dT\\xf2\\x1e\\x95\\x12(f]4\\xa4\\xa4\\x87ztx\\xa7\\xccE\\x03\\xcdq\\xc7\\x1d\\xd7\\xbe\\xfdI\\xc7\\xcc\\xc5\\xc7\\xa9\\x135rF\\x8d\\x9cQ#g\\xd4\\xc8\\x195*C\\x87a\\x8a\\xe7FY\\xb2dIk\\x98\\xb8\\xe2\\x8a+&}\\xbe*\\r,\\xc5CB\\xda\\xbf\\xa2\\xcf\\xd3I\\xe5\\x06A\\x8d\\x9c\\xe1\\x8aJ\\x1cT\\xf2\\x1e\\x95\\xce(f\\x1dt\\xb8\\xe7\\xd0\\x83\\xf6o\\xfd\\xc3\\x98;wn\\xeb\\xf4\\xf8U/\\xda\\xc7\\x12\\xff\\x91\\xad\\xfc\\xe8\\x02|\\xbc\\xbaP#g\\xd4\\xc8\\x195rF\\x8d\\x9cQ\\xa32\\xce=sQ\\xfbw\\x9dhHI\\x07\\x8a\\xf4k\\x83:\\xf7\\xdcs\\'\\xddw\\x1cV\\xd2\\x93\\xca\\r\\x8a\\x1a9\\xd3\\x0c\\x92\\xf7\\xa8T@1\\xeb\\xa0\\xd5\\x0f\\xfdc\\xd0\\x0f~\\xb7!E\\x1biO?\\xfd\\xf4)\\'\\x7f+^t\\xc8(\\xfe\\x03k\\xf2\\xe5\\xcb\\xd4\\xc8\\x195rF\\x8d\\x9cQ#g\\xd4\\xa8_\\xda\\'\\x12\\x7f\\xc7\\xc5\\xdf\\x9d\\xcf=\\xf7\\xdc\\xa4a\"\\xfdz\\x1d\\x8a\\xc3\\x8aVn\\xf4\\xf9\\xba\\xde/\\x88\\x1a9\\xc3\\x15\\x95\\xbcG\\xa57\\x8a9(\\xadz\\xc4\\x7f\\x08\\xbd\\x0e\\xf7h/\\x8a\\xae\\xa73\\xd2v\\xbb\\xa4\\x87\\x81\\xb4R\\xa3\\x15\\x1bz\\xecAQ#g\\xd4\\xc8\\x195rF\\x8d\\x9cQ\\xa3~\\x9dR8\\x13m\\xfa\\xd2b\\xd1\\xe1\\x9a\\xf4\\xebu)\\x0e+\\xda`\\xab\\xc3Ou\\xbc|\\x99\\x1a9K\\x07\\x95\\xbcG\\xa5\\x04\\x8a9\\x08\\r\\x10\\xf1\\x1f\\x80VAz]\\xe2\\xa0\"\\xbd.Z\\x99\\xd1\\xff\\xcb\\xd0u\\x97.<\\x06\\x1f\\x7fP\\xd4\\xc8\\x195rF\\x8d\\x9cQ#g\\xd4\\xa8\\x1ft\\xce\\x14\\r\\x0c\\xe9\\x00\\xa1W\\xef\\x14\\xafS\\x17\\xbd*\\xa8\\xf8Xz5\\x10=\\xd72\\xa8\\x913\\\\Q\\x89\\x83J\\xde\\xa3\\xd2\\x19\\xc5\\x1c\\xc4\\x9a\\xb3Om\\xff\\xf0\\xf7\\xfb\\xea\\x9ex\\xfd~.q\\xbf\\x8aVU\\xe8\\xf1\\x07E\\x8d\\x9cQ#g\\xd4\\xc8\\x195rF\\x8dz\\xd1\\x06Z\\x9d56\\xfe\\x1e\\x8c\\xd2\\x15\\x15\\xadz\\x14\\xbf^7\\xedQ\\x89\\x8f\\x17\\x0f\\x01]\\xfaG\\xcb\\xf19\\xf7\\x8b\\x1a9\\xd3\\x0c\\x92\\xf7\\xa8T@1\\x07\\xb1\\xe0\\xfd\\xe3{S\\x96.]:1ZL\\xbd\\xc4U\\x91n\\xae\\xb9\\xe6\\x9a\\x89kO\\xbehU%^\\xa7\\x89\\xbd*\\xd4\\xc8\\x195rF\\x8d\\x9cQ#g\\xd4\\xa8\\x17\\r\\x03\\xe9\\xef\\xbe\\xd4\\xc2\\x85\\x0b[\\'f\\xa3\\xaf\\xd5M\\xab(qP\\x89\\xc3\\x91\\x0e\\x01\\rrB8j\\xe4\\x0cWT\\xf2\\x1e\\x95\\xde(fU\\xe9a\\x9f\\xcd\\x9b7O\\x8c\\x16S/\\x83\\x0c*\\xba\\xc4\\xbd*M\\x1c\\xfe\\xa1F\\xce\\xa8\\x913j\\xe4\\x8c\\x1a9\\xa3F\\xddh\\x1fH\\xf1\\xe5\\xc8\\xd3\\xe9\\xba\\xeb\\xaek\\x0f*\\x0f?\\xfcp\\xebs\\x83\\xac\\xaaP#g\\xe9\\xa0\\x92\\xf7\\xa8\\x94@1\\xab\\x8a\\x87}4\\x88\\xf4\\xba\\xe8\\x90\\x8fh \\x89\\xffH\\xe2\\xe7\\xf4J\\xa0n\\x97x\\x9b&\\x0e\\xffP#g\\xd4\\xc8\\x195rF\\x8d\\x9cQ\\xa3n\\x8a/G\\x9enZ\\xbd\\xa1U\\x15z\\xee\\xfd\\xa0F\\xcepE%\\x0e*y\\x8fJg\\x14\\xb3\\xaa\\xe5\\x8bOh\\xfd\\xb0\\xeb\\x14\\xf8\\xfd^\\xca\\xeeQ\\xd1%\\xbd\\r=\\x8fAP#g\\xd4\\xc8\\x195rF\\x8d\\x9cQ\\xa3N\\x8a/G\\x9e)\\xd2U\\x95\\xb8W\\xa5\\xeaYk\\xa9\\x913\\xcd y\\x8fJ\\x05\\x14\\xb3\\xaaA\\x06\\x95~Va\\xe2%\\x0f*\\xc3C\\x8d\\x9cQ#g\\xd4\\xc8\\x195\\xea\\xa4\\xf8r\\xe4\\x99\\xa2\\xb8\\xaa\\xa2\\x8f\\xf5\\\\\\xe9{\\xe8\\x85\\x1a9\\xc3\\x15\\x95\\xbcG\\xa57\\x8aYU\\x95AE\\x87yt\\xfd^\\'|K/yP\\x19\\x1ej\\xe4\\x8c\\x1a9\\xa3F\\xce\\xa8\\x11i\\xea\\xfd|\\xea\\x92\\xbe\\x02H\\xaf>\\xd2\\xe7\\xaa\\x9cW\\x85\\x1a9K\\x07\\x95\\xbcG\\xa5\\x04\\x8aYU<\\xd1\\xdb\\x91G\\x1e91R4s\\xd1I\\xe4\\xf48\\xb3\\xf6\\xdd\\x07\\x9f\\xc7 \\xa8\\x913j\\xe4\\x8c\\x1a9\\xa3F\\xce\\xa8\\x11\\x99\\xa9\\xab)Qz\\x128\\r-\\xfa\\\\\\x95S\\xebS#g\\xb8\\xa2\\x12\\x07\\x95\\xbcG\\xa53\\x8aY\\xd5\\xc6K\\xcei\\xff\\xa0\\x0f\\xf2\\xde>\\xbd.z\\xe9\\xb3\\x1ec\\xd1\\x89G\\xe3\\xf3\\x18\\x045rF\\x8d\\x9cQ#g\\xd4\\xc8\\x195*jz5\\xe5\\xad\\xfb\\xed\\x8b\\x9f/C\\x87\\xe2\\xe3\\xa0\":\\xfc\\xb3d\\xd1\\x02\\xfc~\\xba\\xa1F\\xce4\\x83\\xe4=*\\x15P\\xccA\\x1cu\\xf8\\xc1\\xad\\x1ft\\x9d\\x98\\xad\\x89\\x8bN\"\\x17\\xff1\\xad;o1>\\x87AP#g\\xd4\\xc8\\x195rF\\x8d\\x9cQ\\xa3\"\\xfd\\xc1\\x8f\\xbf\\xc3\\xeav\\xc0\\xdbf\\x85\\xff\\xfa\\xf9\\xff\\x8c_++=\\xfc\\x13O8G\\xdfO7\\xd4\\xc8\\x19\\xae\\xa8\\xe4=*\\xbdQ\\xccA\\xa4\\xef\\xf3\\xa3\\xbd$u_\\xf4\\x06\\x86\\xba\\xef&\\x0e\\xfb\\x085rF\\x8d\\x9cQ#g\\xd4\\xc8\\x195Ji\\x9fG\\xfc\\xfdX7\\r)z%Q\\xb7\\x13\\xc8\\x95\\x91\\x9eV_\\xaf\\x04\\xd2\\xe7\\xca\\xbeY!5r\\x96\\x0e*y\\x8fJ\\t\\x14sPqUEo4X\\xe7!\\xa0\\x0b.\\xb8\\xa0\\xfd\\x8f\\xa8\\x89\\xd5\\x14\\xa1F\\xce\\xa8\\x913j\\xe4\\x8c\\x1a9\\xa3F\\xa9\\xe2\\x10\\xb1d\\xc9\\x92\\xd6{\\xfa\\xe8\\x7f\\xd3\\xcf\\xf7k\\xef\\xbd\\xf7n\\xfdo\\x1cR\\xf4\\x18u\\x9d\\x9bE\\xcf)\\x0e*\\xf1\\xe4oe\\xf7\\xa9P#g\\xb8\\xa2\\x12\\x07\\x95\\xbcG\\xa53\\x8a9(\\x9d\\xa1V+\\x1e\\xf1\\x07^\\x03F\\xaf\\x93\\xb8u\\xbb\\xdc~\\xfb\\xed\\xad\\r\\xba\\xf1\\xfe\\xf4\\xea\"z\\xdc:P#g\\xd4\\xc8\\x195rF\\x8d\\x9cQ\\xa3T\\xfa\\x9e>\\xc5\\x97\\x01W}\\xd3\\xc1c\\xdf{T{H\\x11\\xbd\\x99 ]\\xaf\\xac\\xe2>\\x15}\\\\v\\x9f\\n5r\\xa6\\x19$\\xefQ\\xa9\\x80b\\xd6A\\xef\\xc3s\\xc8A\\xfb\\xe3?\\x80A4\\xf5\\xae\\xc9\\x115rF\\x8d\\x9cQ#g\\xd4\\xc8\\x195J\\xa5\\xbf\\xcb\\xf4>>\\xe9 \\xa0\\x8f\\xd3\\xaf\\xf7c\\xd5\\xf9K\\'\\xbd\\x17O\\xdd\\x87\\x96v\\xee\\xdc9\\xe9\\xf9i\\xd0J\\xbf\\x9f^\\xa8\\x913\\\\Q\\xc9{Tz\\xa3\\x98uY\\xbf\\xb2\\xdarf\\'\\xf3\\xe7\\x1d\\x8e\\x8fS\\'j\\xe4\\x8c\\x1a9\\xa3F\\xce\\xa8\\x913j\\x94*\\xfeN\\x8b\\x1bV\\xf5\\xbfZ\\xb1(~\\xbd\\x13\\x1d\\xea\\xd9t\\xfd\\xba)\\xf7\\xafC3t\\xfd\\xaa\\xb6n\\xdd\\xda\\x1eTt\\x88J\\x9f+>f7\\xd4\\xc8Y:\\xa8\\xe4=*%P\\xcc:hEe\\xd6~\\xe3\\x87\\x7f\\xe6\\xce\\x9d\\x1b\\xee\\xb8\\xe3\\x8e\\xd6\\xe6\\xda*\\xe2\\t\\x87dq\\x03/INQ#g\\xd4\\xc8\\x195rF\\x8d\\x9cQ\\xa3T\\xfc=6\\x08\\x1d\\xea\\xa1\\x93\\xafie%=\\xb4T\\x87tC\\xad\\xfe[\\x9fK\\x0f3\\xf5B\\x8d\\x9c\\xe1\\x8aJ\\x1cT\\xf2\\x1e\\x95\\xce(f\\x1d\\xb4\\xfa\\xa1\\x1fj\\xfd\\xbf\\x04\\xbd\\xa4x\\xd0\\x8b\\xce\\\\\\x1b\\xff\\xf1h\\xa5\\x86\\x1e\\xb3\\x0e\\xd4\\xc8\\x195rF\\x8d\\x9cQ#g\\xd4(\\xa5\\x95\\x90\\xf8{\\xac\\n\\x1d\\xea\\xa1\\xfb\\x95\\xba^\\xed\\x93\\xd2*J\\x1cT\\xb4\\xba\\xa2\\xcf\\xd1JN\\'\\xd4\\xc8\\x99f\\x90\\xbcG\\xa5\\x02\\x8a9\\xa8\\xf4\\xc4oZ\\x11\\xa9\\xeb\\xa2S\\xed\\xeb>\\x9b8\\xd1[D\\x8d\\x9cQ#g\\xd4\\xc8\\x195rF\\x8dR\\x83\\x9cC\\xa5\\xdb\\x1b\\x036\\xf5\\x06\\x87t\\x86Z\\rD\\xf4\\x1c\\x085r\\x86+*y\\x8fJo\\x14sP\\xf1=\\x7ft\\xc8\\xa7\\xceK<u\\xbe\\xd0\\xe3\\xd6\\x81\\x1a9\\xa3F\\xce\\xa8\\x913j\\xe4\\x8c\\x1a\\xa5\\xaa\\x9e\\x95\\xb6\\xdb\\x90\\xa2C>u\\xbd\\xd2\\xa7\\xa8\\xb8\\xe1W\\x9f\\xcb\\x83Ju\\xe9\\xa0\\x92\\xf7\\xa8\\x94@1\\x07\\xf5\\x81_y\\xf7\\x94\\x1f\\xf8\\xba\\xd1\\xe3\\xd6\\x81\\x1a9\\xa3F\\xce\\xa8\\x913j\\xe4\\x8c\\x1a\\x15\\x95=\\xcfI\\xb7\\xc1\\xa0\\xc9!EhPYX\\xe2\\x9d\\x94\\xa9\\x913\\\\Q\\x89\\x83J\\xde\\xa3\\xd2\\x19\\xc5\\x1c\\xd4\\xdb\\xde\\xfa\\xcbS~\\xe0\\xeb\\xb6\\xe6\\xecS\\xf1\\xb1\\x07E\\x8d\\x9cQ#g\\xd4\\xc8\\x195rF\\x8d\\x88\\x86\\x8f~\\xf6\\xabh\\xa8\\xa1\\xdbGg,>\\toW\\x97\\xe2\\xb9^\\xf4q\\x1eT\\xaa\\xd3\\x0c\\x92\\xf7\\xa8T@1\\x07\\x15\\xcf\\x9f\\xf2\\xe5/\\x7fy\\xca+x\\x06u\\xdcq\\xc7\\xb5\\xee;\\x0f*\\xc3A\\x8d\\x9cQ#g\\xd4\\xc8\\x195\\xeaF{Kt8H\\x8a+-\\xbd\\x86\\x94\\xe5\\xbf\\xbdx\\xd2\\xf5\\x9b\\x92\\x0e*Za\\xd1\\n\\x0e=\\x1fB\\x8d\\x9c\\xe1\\x8aJ\\xde\\xa3\\xd2\\x1b\\xc5\\x1c\\xd4\\xfcy\\x87\\xb5~\\xc0\\xf5\\xbe<u\\xbc\\xe2\\'^6o\\xde\\xdc\\xfe\\xc7\\xd3\\xd4+\\x7f\\xa8\\x913j\\xe4\\x8c\\x1a9\\xa3F\\xce\\xa8Q\\xbf\\xf4\\x92c\\r\\':\\x17J\\xaf\\x97\\x00\\x0fkH\\x91\\xe2\\xa0\\xa2\\xcf\\xd1s\"\\xd4\\xc8Y:\\xa8\\xe4=*%P\\xccA\\xa5oL\\xa8\\xf7\\xfb\\xf9\\xeaW\\xbf:\\xd0)\\xf4\\xb7l\\xd9\\x12\\x96-[\\xd6\\xbe\\xcf\\xa6\\xde\\x90P\\xa8\\x913j\\xe4\\x8c\\x1a9\\xa3F\\xce\\xa8Q\\xdd\\x869\\xa4H\\x1eT\\xea\\x83+*qP\\xc9{T:\\xa3\\x98u\\xd0\\xa1\\x99\\xf4\\xfd~D\\xef\\xd7\\xa3U\\x96\\xcb/\\xbf\\xbcM/y\\x8b\\xf4\\x9e>\\xf1\\xf3z\\x7f\\xa0\\xf8N\\xc9)\\xad\\xd6\\xe8\\xbd\\x84\\xe81\\xeb@\\x8d\\x9cQ#g\\xd4\\xc8\\x195rF\\x8d\\xeaT\\xf7\\x99g\\xfb\\x91\\x07\\x95\\xfah\\x06\\xc9{T*\\xa0\\x98u\\xd1\\xf9T\\xf4R\\xe5:\\xde\\xf3g\\xc1\\xfb\\xe76\\xf6\\x8e\\xc9)j\\xe4\\x8c\\x1a9\\xa3F\\xce\\xa8\\x913jT\\x97\\xa6\\xce\\x95\\xd2K\\x1eT\\xea\\x83+*y\\x8fJo\\x14\\xb3\\t\\x7f~\\xe1\\x19\\xe1\\xec\\xd3\\x8f\\x0b\\xa7\\x1e7/\\xbcc\\xf6\\xac\\xb0\\xdf>\\xbf4\\xe5\\x1f\\x84\\xbc\\xf9Mo\\n\\x07\\xcc\\xda7\\xfc\\xca{\\xde\\xd9:]\\xfe\\xea\\xdf9\\xa5\\xd1\\x15\\x94\"j\\xe4\\x8c\\x1a9\\xa3F\\xce\\xa8\\x913jT\\x97\\xbaO\\x8f\\xdf\\xaftP\\xd1\\t\\xe0\\xf49z~\\x84\\x1a9K\\x07\\x95\\xbcG\\xa5\\x04\\x8a\\xd9\\x8bVJ\\xfe\\xf4\\xfc\\xc5\\xe1\\x13\\x8b?\\xd0\\xa2\\x81B\\xa7\\xcc\\'\\xc5\\x1f\\xfa\"\\x9d\\x14N\\'r[\\xb1b\\x05~=u\\xe8A\\xfb\\xe3cH|.+?\\xb6 \\xac_y\\x06>\\xef~P#g\\xd4\\xc8\\x195rF\\x8d\\x9cQ\\xa3:T=Q\\\\\\x1d\\xd2A%\\xbe1a\\xbf\\xef\\xf7C\\x8d\\x9c\\xe1\\x8aJ\\x1cT\\xf2\\x1e\\x95\\xce(&\\xd1p\\xa2!`\\xde\\x11o\\x9f\\xf2\\x83\\\\\\x86\\xde\\xfbG\\xa7\\xc2\\xd7{\\xf7l\\xdf\\xbe}b\\xbb\\xec\\xf8E\\xaf\\x10\\x8aCK|\\x19rUzCD\\r.eWc\\xa8\\x913j\\xe4\\x8c\\x1a9\\xa3F\\xce\\xa8Q\\x1d\\x069\\xf5\\xfe\\xa0hP\\xd1\\xe0D\\xcf\\xb3\\x88\\x1a9\\xd3\\x0c\\x92\\xf7\\xa8T@1\\x8b\\xd2wB\\x8e\\xe2\\xc0!\\x1a,4x\\x14]s\\xcd5\\xed\\xf3\\x9f\\x14\\x87\\x92~/\\x1a^\\xe2}\\xe8\\xe5\\xc9\\xf48\\x12\\x9fKq\\xc0\\xd1\\xf3.s\\xce\\x15j\\xe4\\x8c\\x1a9\\xa3F\\xce\\xa8\\x913j4(\\xbdl9\\xfd\\x9d6l\\xe9\\xa0\\xb2d\\xc9\\x92\\xd6\\xe7\\xf2\\xa0R\\r\\xae\\xa8\\xe4=*\\xbdQ\\xccT:\\xa4\\xe80\\x8d\\x86\\x82A^j\\x1c/\\xba\\x0f\\xbd\\xd2\\xe7\\xd3\\x9f\\xfet\\xeb\\xd5=z\\xf9\\xb1^\\xf5\\xa3\\xcf\\rz\\xd1p\\xa3\\xe7\\xa9a*\\xfec\\xd3j\\x10}\\x7fE\\xd4\\xc8\\x195rF\\x8d\\x9cQ#g\\xd4hP\\xd3y\\xd8G\\xd2A%n\\xa6\\xcd\\x83J5\\xe9\\xa0\\x92\\xf7\\xa8\\x94@1SqH\\xd1\\x1f}\\r\\x17\\x12_F\\xac\\x01#\\xa5\\x97\\x1f\\xc7\\x1f\\xee\\xe3\\x8f?~\\xd2\\xd7\\xf4q\\xfcZ\\x19:\\x0fKz?\\xa2\\xcf\\xc5\\xaf\\x17\\xbf\\xa6\\x975\\xc7\\x97=k`\\xd1*K\\xbc\\xae^\\x81D\\xdfc\\x8a\\x1a9\\xa3F\\xce\\xa8\\x913j\\xe4\\x8c\\x1a\\rJoH\\x18\\x7f\\x87M\\x87<\\xa8\\xd4\\x07WT\\xe2\\xa0\\x92\\xf7\\xa8tF1S\\xc5s\\xa1\\xd4M\\xe7EY\\xba\\xf0\\x98\\xd6\\xcb\\x8f\\xebx\\x19s7:\\x11\\x1d}\\x8f)j\\xe4\\x8c\\x1a9\\xa3F\\xce\\xa8\\x913j4(\\xbd/\\x10\\xfd>\\x1b\\x96<\\xa8\\xd4G3H\\xde\\xa3R\\x01\\xc5Li\\x13\\xedQ\\x87\\x1f<\\xe9\\x07W\\xc3K\\x1c0\\xb4J\\x11\\xe9<\\':\\xb5\\xbd\\xa4\\x9f/~Mt\\xbf\\xf4x\\x92^O4`\\xa4\\xf7\\xa5=\\'\\x9d\\xbe\\xa6\\x81\\xa7\\xf8|\\xa5\\x9f!E\\xa8\\x913j\\xe4\\x8c\\x1a9\\xa3F\\xce\\xa8\\xd1\\xa0\\xa6sP)\\xbe)a\\x1cT\\xb4o\\x86\\x9ek\\x115r\\x86+*y\\x8fJo\\x14\\x93h\\xb0\\xd0`\\xa0=+\\xf4\\xf5\\x99F\\xaf\\xf6\\x89\\xc3\\x0c}\\xbd\\x13j\\xe4\\x8c\\x1a9\\xa3F\\xce\\xa8\\x913j4(\\xbd\\x14X\\xef\\x01\\xa4w-\\x1e\\xb6\\x0f\\xff\\xfaI\\xe1\\xc2?\\xfc\\xbd6}\\xac\\xb3\\xe3\\xd2\\xf3$\\xd4\\xc8Y:\\xa8\\xe4=*%PLg\\xd4\\xc8\\x195rF\\x8d\\x9cQ#g\\xd4\\xc8\\x195r\\x86+*qP\\xc9{T:\\xa3\\x98\\xce\\xa8\\x913j\\xe4\\x8c\\x1a9\\xa3F\\xce\\xa8\\x913j\\xe4L3H\\xde\\xa3R\\x01\\xc5tF\\x8d\\x9cQ#g\\xd4\\xc8\\x195rF\\x8d\\x9cQ#g\\xb8\\xa2\\x92\\xf7\\xa8\\xf4F1\\x9dQ#g\\xd4\\xc8\\x195rF\\x8d\\x9cQ#g\\xd4\\xc8Y:\\xa8\\xe4=*%PLg\\xd4\\xc8\\x195rF\\x8d\\x9cQ#g\\xd4\\xc8\\x195r\\x86+*qP\\xc9{T:\\xa3\\x98\\xce\\xa8\\x913j\\xe4\\x8c\\x1a9\\xa3F\\xce\\xa8\\x913j\\xe4L3H\\xde\\xa3R\\x01\\xc5tF\\x8d\\x9cQ#g\\xd4\\xc8\\x195rF\\x8d\\x9cQ#g\\xb8\\xa2\\x92\\xf7\\xa8\\xf4F1\\x9dQ#g\\xd4\\xc8\\x195rF\\x8d\\x9cQ#g\\xd4\\xc8Y:\\xa8t\\xdd\\xa3B7vF?\\\\\\xce\\xa8\\x913j\\xe4\\x8c\\x1a9\\xa3F\\xce\\xa8\\x913j\\xe4\\x0cWT\\xe2\\xa0\\x92\\xeeQ\\xa1\\x98\\xce(\\xa63j\\xe4\\x8c\\x1a9\\xa3F\\xce\\xa8\\x913j\\xe4\\x8c\\x1a9\\xd3\\x0c\\xd2\\xd7\\x1e\\x15\\x8a\\xe9\\x8cb:\\xa3F\\xce\\xa8\\x913j\\xe4\\x8c\\x1a9\\xa3F\\xce\\xa8\\x913\\\\Q\\xa1=*\\x14\\xd3\\x19\\xc5tF\\x8d\\x9cQ#g\\xd4\\xc8\\x195rF\\x8d\\x9cQ#g\\xe9\\xa0\\x92\\xf7\\xa8\\x94@1\\x9dQ#g\\xd4\\xc8\\x195rF\\x8d\\x9cQ#g\\xd4\\xc8\\x19\\xae\\xa8\\xc4A%\\xefQ\\xe9\\x8cb:\\xa3F\\xce\\xa8\\x913j\\xe4\\x8c\\x1a9\\xa3F\\xce\\xa8\\x913\\xcd y\\x8fJ\\x05\\x14\\xd3\\x195rF\\x8d\\x9cQ#g\\xd4\\xc8\\x195rF\\x8dF\\xcd\\x8b?\\xb86\\xdc\\x7f\\xf5\\xa7\\xc2\\xcdk\\xcfo\\xb9u\\xfd\\x17\\xc3\\xb6\\xefm\\xc6\\xeb\\xe6\\x15\\x95\\x8a(\\xa63j\\xe4\\x8c\\x1a9\\xa3F\\xce\\xa8\\x913j\\xe4\\x8c\\x1a\\x8d\\x94\\'n\\t\\x9b/93\\\\wQ\\xd1\\xf2\\xb0\\xf9;[\\xa7\\\\?\\xaf\\xa8TT\\x0c\\xe9\\x8e\\x1a9\\xa3F\\xce\\xa8\\x913j\\xe4\\x8c\\x1a9\\xa3F#\\xe7\\xefo\\n\\xdb\\xbe}Gx\\xe5\\xa9=\\xff\\xfd\\xd4\\xe6\\xf0\\xc3\\xab\\xcf\\x1a\\x1fV\\xae\\xbde\\xcauqE%\\xbf\\xea\\xa7\\xb7bHw\\xd4h\\x10\\x1b/9\\'\\xdcy\\xd9y\\xf8\\xb5\\xd4\\x86\\xd5\\xcb\\xc2\\'\\x16\\x7f \\xac;o1~}\\xbaP#g\\xd4\\xc8\\x195rF\\x8d\\x9cQ\\xa3Q\\xf7\\xf4\\xc6\\xf3[\\x83\\xca\\x8d\\xff\\xe3\\xb6)_K\\x07\\x95\\xfc\\xaa\\x9f\\x12\\x8a!\\xddQ\\xa3\\xaa\\x96/>!\\xec\\xb5\\xd7^-\\x1aB\\xe8:\\xb2~\\xe5\\x920k\\xbf}\\xda\\xd7\\xd5\\xc7t\\xbd\\xe9@\\x8d\\x9cQ#g\\xd4\\xc8\\x195rF\\x8dF\\xd1\\xbf>\\xb69\\xbc\\xf8\\xbfn\\x0b?\\xdcti\\xb8u\\xcd\\x99\\xe1\\xba\\xcf\\xaf\\r\\x0f=6\\xf5z\\xb8\\xa2\\x12\\x07\\x95\\xbcG\\xa5\\xb3bHw\\xd4\\xa8\\xaat\\xf8\\x90\\xc5\\'\\x1e=\\xe5:k\\xce>u\\xd2ud\\xc1\\xfb\\xe7N\\xb9\\xdet\\xa1F\\xce\\xa8\\x913j\\xe4\\x8c\\x1a9\\xa3F\\xa3\\xe8\\xa1k\\x93\\xfd)\\x97|.l\\xdbvW\\xf8W\\xb8\\x9ef\\x90\\xbcG\\xa5\\x82b\\xc82~\\xb0eC\\xb8\\xf4\\x8f?\\xd1\\x91\\xbeN\\xb7[\\xbfv%^?U\\xe5\\xb6\\xfa\\x1a\\xdd\\xa6\\x0cjT\\xd5!\\x07\\xed?e\\x08Y\\xf9\\xd1\\x05\\xed\\xaf\\xeb\\xb0Pq\\x98\\x11}.\\xbd\\x9f\\xe9D\\x8d\\x9cQ#g\\xd4hX\\xee\\x1b[\\x1fn\\\\\\xff\\x99\\xf6\\xbf\\x7f}\\xfc\\xd8\\xf76\\xe2u\\x87\\x85\\x1a9\\xa3F\\xa3\\xe8\\xc5\\xbf\\xbb)\\xfc\\xc3\\xbd{\\xdc\\xf9ga\\xec\\xf3\\xda\\xa3rV\\xb8\\xf9\\x96\\xee\\x87~\\xda\\x83J\\xde\\xa3\\xd2[1d\\x19\\x97\\xfe\\xd1\\xf2)\\x7fdS\\xe7\\x9e\\xb9\\x08oG\\xd7-\\xaaz\\xdbA\\x7fQQ\\xa3\\xaa\\xe6\\xcf;\\x0c\\x9f\\xa3\\x06\\x14}\\xfd\\xa4c\\xe6\\xe2\\xd7\\xa5x_\\xd3\\x85\\x1a9\\xa3F\\xce\\xa8Q\\xd3\\xf4o\\xfc\\x94\\x0f\\xce\\xc7\\x7f7\\xb3\\x0f\\x98U\\xcb\\xffa\\xa9\\x8a\\x1a9\\xa3F#\\xef\\xdeK\\xc7WV\\xd6\\xac\\r\\x8f\\x14\\xbe\\x96\\x0e*y\\x8fJ\\ti\\xc4\\xb2\\xe2\\xa02{\\xf6\\xecp\\xdai\\xa7\\xb5\\xcd\\x9d;\\xfe\\x07x\\xe1\\x9e_&t\\xbb\\xf8K\\xe5\\xb8\\xe3\\x8e\\x9bt\\xbbAn\\x1b?\\x7f\\xef\\x9e\\xffWE\\xb7\\xeb\\x175\\xaaJ\\x87p\\xe2\\xf3*\\xeb\\xd0\\x83\\xf6o\\r2\\xda\\xdb\\xb2~\\xe5\\x19}m\\xc8m\\x025rF\\x8d\\x9cQ\\xa3&m\\xba~]k\\x18\\xa1\\x7f3)\\r2t\\xfb\\xa6Q#g\\xd4h\\xa4<\\xb55\\xbc\\xf2\\xe4\\xe4\\xcf\\xbd\\xb4yM_\\x83\\xca\\x94C?y\\x8fJgi\\xc4\\xb2\\xe2\\xa0\\xa2A!\\xbd\\\\v\\xd9e\\xad\\xcf\\xcfy\\xd7\\xa1\\x93\\x0e\\xcdD\\xf1\\x97\\xc9\\x83\\x0f>8q\\x8b\\xd7/Uo\\x1b??\\x93\\x06\\x15\\xbd\\x82\\'>\\xaf\\xaa\\xe6\\xcc\\x99\\x13N>\\xf9\\xe4\\xd60\\xa8\\xe1\\xe53g\\x9f:\\xd4\\xa1\\x85\\x1a9\\xa3F\\xce\\xa8QS\\x9e\\xff\\xe9\\x9d}\\r)\\x91~?\\xd1\\xfd4\\x89\\x1a9\\xa3F#\\xe5\\xc7W\\x85\\xdb/:+\\xdcx\\xf9\\xeap\\xd7\\rk\\xc37\\xaf\\\\\\xde\\xde\\xabrs\\x87W\\xfd\\xe4=*\\x15\\x14C\\x96\\xd1kP\\xe9e\\xd7\\xae]\\x13\\xb7x\\xfdR\\xf5\\xb6\\xf1\\xf33iP\\xa1\\x8d\\xb2\\xfd8p\\xff\\xfd\\xda\\xff\\xbdj\\xd5\\xaa\\xb0{\\xf7\\xee\\x96m\\xdb\\xb6\\x85\\x8b/\\xbe8\\xfc\\xea\\xd1\\xff&,;\\xe5\\x98\\xf6!\\xa4&Q#g\\xd4\\xc8\\x195j\\x8a\\x0e\\x07\\xa7\\xffN\\xfa\\xd1i\\xaf[S\\xa8\\x913j4R\\xb6\\xdf\\x146\\xaf\\x9d8oJ\\xf4\\x99\\xdf\\x0f_\\xbf\\xfd\\x96\\xf0\\xa2\\xce\\xabR\\xb8>\\xae\\xa8\\xe4=*\\xbd\\x15C\\x96\\xd1iP\\xd9\\xbe}{X\\xb1bE\\xfb\\xb0\\x0c\\xb9\\xe6\\x9ak&\\xae=\\xf9R\\xf5\\xb6\\xf1\\x17\\xd3L\\x1aT\\xe6\\x1d\\xf1\\xf6\\xf6\\xf3*\\xe3\\x9d\\x07\\xbe\\xbe\\twll\\xac=\\xa8\\xa46l\\xd8\\xd0Zm\\xd1+\\x89\\x9a\\\\a\\xa1F\\xce\\xa8\\x913j\\xd4\\x94\\xf4\\xdfH\\xbf\\x86\\xbd\\xaaB\\x8d\\x9cQ\\xa3\\x91\\xf4\\xd4\\xd6\\xf0\\xd2\\xf6\\xcd\\xe1ExIr*\\x1dT\\xf2\\x1e\\x95\\x12(f\\xbf:\\r*\\xd3q\\x89\\xbf\\x98f\\xca\\xa0\\xa2W\\xf7\\xc4\\xe7T\\xd6[\\x7f\\xf9\\x97&}|\\xec\\xb1\\xc7\\x86+\\xaf\\xbc2\\xec\\xdc\\xb9s\\xca\\xc0\\xa2\\x15\\x16\\rD:a\\x1c=\\x8fAQ#g\\xd4\\xc8\\x195j\\x82VF\\xd2\\x7f\\x13\\xfdZ\\xb2h\\x01\\xde_S\\xa8\\x913j\\xe4\\x0cWT\\xe2\\xa0\\x92\\xf7\\xa8tF1\\xfb\\x15\\x07\\x95\\x0f}\\xe8C\\xe1g?\\xfb\\xd9\\xb4\\x8a\\xbf\\x98f\\xc2\\xa0\\xa2\\x13\\xb6\\xc5\\xe7S\\'\\xedS\\xd1\\xa1\\xa0\\xe2\\xc0r\\xcf=\\xf7\\x84#\\x0e}g\\xebP\\x13=\\x9fAP#g\\xd4\\xc8\\x195j\\x82\\xfe]\\xd3\\xbf\\x89^:m\\xcao\\n5rF\\x8d\\x9ci\\x06\\xc9{T*\\xa0\\x98\\xfdz\\xcf\\x11\\x87\\xe0/\\x87\\xe9t\\xfb_|\\x1e\\x9fk\\xbf\\xa8Q\\x19:\\x0cS<7\\xca\\x92%KZ\\xc3\\xc4\\x15W\\\\1\\xe9\\xf3Ui`)\\x1e\\x12\\xd2\\xfe\\x15}\\x9eN*7\\x08j\\xe4\\x8c\\x1a9\\xa3FM\\xc8\\x83\\xca\\x1b\\x135r\\x86+*y\\x8fJo\\x14\\xb3_\\xfa%@\\xbf\\x1c\\xa6\\xcb\\xde{\\xef\\x1dvl\\xbb\\x1d\\x9fk\\xbf\\xa8Q\\x19\\x8b\\xf6\\x0c\\n\\xe9s\\xd2\\x90\\x92\\x0e\\x14\\xe9\\xd7\\x06u\\xee\\xb9\\xe7N\\xba\\xef8\\xac\\xa4\\'\\x95\\x1b\\x145rF\\x8d\\x9cQ\\xa3\\xa6\\xd0\\xbf\\x81^V\\x9d\\xbf\\x14\\xef\\xab)\\xd4\\xc8\\x195r\\x96\\x0e*y\\x8fJ\\t\\x14\\xb3\\x8c\\xff\\xf8\\xe1\\x85\\xed_\\ng\\x9duV\\xeb\\xb0\\xc4\\xb0\\xdc{\\xef\\xbd\\xe1\\x80\\x03\\x0eh=\\xf6\\xfe\\xb3\\xf6\\x0b\\xdf\\xb9\\xe3\\xbf\\xe1s,\\x83\\x1a\\xf5K\\xfbDb\\x0b\\xd1\\xd0\\xf0\\xdcs\\xcfM\\x1a&\\xd2\\xaf\\xd7\\xa18\\xach\\xe5F\\x9f\\xaf\\xeb\\xfd\\x82\\xa8\\x913j\\xe4\\x8c\\x1a5E\\xfbM\\x8a?\\xff\\xbd\\xe4W\\xfdL/j\\xe4\\x0cWT\\xe2\\xa0\\x92\\xf7\\xa8tF1\\xcbJ_6x\\xc1\\x05\\x17Llom\\xf6\\xa2W\\x07\\x1dx\\xe0\\x81\\xad\\xc7<\\xe0m\\xb3j\\xfb\\x85D\\x8d\\xfa5\\x7f\\xde\\xe1\\xed\\x0e\\x92\\xbe\\xb4Xt\\xb8&\\xfdz]\\x8a\\xc3\\x8a6\\xd8\\xea\\xf0S\\x1d/_\\xa6F\\xce\\xa8\\x913j\\xd4\\x84O\\xae\\x98\\xfc\\x7f\\x02\\xfa\\xa5\\xf31\\rsX\\xa1F\\xce\\xa8\\x913\\xcd y\\x8fJ\\x05\\x14\\xb3\\x8atXY\\xb6lY\\xb8\\xfc\\xf2\\xcb\\x1b\\xd5\\xc4\\x90\"\\xd4\\xa8\\x1ft\\xce\\x14\\r\\x0c\\xe9\\x00\\xa1W\\xef\\x14\\xafS\\x17\\xbd*\\xa8\\xf8Xz5\\x10=\\xd72\\xa8\\x913j\\xe4\\x8c\\x1a\\xd5M\\x87o\\xe8g\\xbe_:I\\xdc\\xb0\\xde\\x03\\x88\\x1a9\\xa3F\\xcepE%\\xefQ\\xe9\\x8dbV\\x15\\x87\\x95\\xd3O?=\\\\t\\xd1E\\xad\\x93\\xb75A\\xe7Y\\xd1c\\xec\\xbb\\xef>\\xb5\\xff\\xbf%j\\xd4\\x8b6\\xd0\\xea\\xac\\xb1\\xc5_\\x90\\xe9\\x8a\\x8aV=\\x8a_\\xaf\\x9b\\xf6\\xa8\\xc4\\xc7\\x8b\\x87\\x80\\x96/>\\x01\\x9fs\\xbf\\xa8\\x913j\\xe4\\x8c\\x1a\\xd5\\xe9\\x86\\xaf\\xac\\x99\\xf2s^\\xc5\\xfc\\xf7\\xcdk\\x9d\\xd9\\x96\\x1e\\xa3N\\xd4\\xc8\\x195r\\x96\\x0e*y\\x8fJ\\t\\x14s\\x10\\xf1\\x17\\x03\\x9d\\x1e\\xbf\\xae\\x8b\\x86\\x15=\\xc6\\xf1\\xc7\\xfc[|\\x0e\\x83\\xa0F\\xbdh\\x18\\x88\\xdfw\\xd1\\xc2\\x85\\x0b[\\'f\\xa3\\xaf\\xd5M\\xab(qP\\x89\\xc3\\x91\\x0e\\x01\\rrB8j\\xe4\\x8c\\x1a9\\xa3Fu*s\\xca\\xfc^\\xbe\\xf2\\x85\\xe6\\xdf\\xac\\x90\\x1a9\\xa3F\\xcepE%\\x0e*y\\x8fJg\\x14s\\x10\\xf1\\x97\\xc20\\x06\\x95&^zH\\x8d\\xba\\xd1>\\x90\\xe2\\xcb\\x91\\xa7\\xd3u\\xd7]\\xd7\\x1eT\\x1e~\\xf8\\xe1\\xd6\\xe7\\x06YU\\xa1F\\xce\\xa8\\x913jT\\x97\\xbaVS\"\\xedW\\xa1\\xc7\\xa9\\x135rF\\x8d\\x9ci\\x06\\xc9{T*\\xa0\\x98\\x83\\x88\\xbf\\x14\\\\\\x06\\x95\\xe2\\xcb\\x91\\xa7\\x9bVohU\\x85\\x9e{?\\xa8\\x913j\\xe4\\x8c\\x1a\\xd5\\xa5\\xca\\xab|zizc-5rF\\x8d\\x9c\\xe1\\x8aJ\\xde\\xa3\\xd2\\x1b\\xc5\\x1cD\\xfc\\x85\\xe00\\xa8\\x14_\\x8e<S\\xa4\\xab*q\\xafJ\\xd5\\xb3\\xd6R#g\\xd4\\xc8\\x195\\xaaK\\x9d\\x87}\\xa2\\xa6\\x0f\\xffP#g\\xd4\\xc8Y:\\xa8\\xe4=*%P\\xccA\\xc4_\\x08\\x0e\\x83J\\xf1\\xe5\\xc83EqUE\\x1f\\xeb\\xb9\\xd2\\xf7\\xd0\\x0b5rF\\x8d\\x9cQ\\xa3\\xba\\xd0\\xcf\\xf6\\xa0\\x9a~\\x93Bj\\xe4\\x8c\\x1a9\\xc3\\x15\\x958\\xa8\\xe4=*\\x9dQ\\xccA\\xc4_\\x08\\xa3>\\xa84\\xf5~>uI_\\x01\\xa4W\\x1f\\xe9sU\\xce\\xabB\\x8d\\x9cQ#g\\xd4\\xa8.\\xc5\\x9f\\xe9:\\xe4Ae\\xb8\\xa8\\x913\\xcd y\\x8fJ\\x05\\x14s\\x10\\xf1\\x17\\xc2\\xa8\\x0f*3u5%JO\\x02\\xa7\\xa1E\\x9f\\xabrj}j\\xe4\\x8c\\x1a9\\xa3Fu)\\xfeL\\xd7!\\x0f*\\xc3E\\x8d\\x9c\\xe1\\x8aJ\\xde\\xa3\\xd2\\x1b\\xc5\\x1cD\\xfc\\x850\\xca\\x83J\\xd3\\xab)\\xfb\\xee\\xf3\\x16\\xfc|\\x19:}\\x7f\\x1cTD\\x87\\x7f\\x16\\xbc\\x7f.~?\\xddP#g\\xd4\\xc8\\x195\\xaa\\x0b\\xfd\\\\\\x0f*\\x0f*\\xc3E\\x8d\\x9c\\xa5\\x83J\\xde\\xa3R\\x02\\xc5\\x1cD\\xfc\\x850\\xca\\x83\\x8a\\xfe\\xe0\\xc7\\xef\\xb3n\\xb3\\xf6\\xdd\\'\\xfc\\xe7\\x8f~\\x08\\xbfVVz\\xf8\\'\\x9ep\\x8e\\xbe\\x9fn\\xa8\\x913j\\xe4\\x8c\\x1a\\xd5%\\xbf\\xea\\xe7\\x8d\\x8f\\x1a9\\xc3\\x15\\x958\\xa8\\xe4=*\\x9dQ\\xccA\\xc4_\\x08\\xa3:\\xa8h\\x9fG\\xfc\\x1e\\xeb\\xa6!E\\xaf$\\xeav\\x02\\xb92\\xd2\\xd3\\xea\\xeb\\x95@\\xfa\\\\\\xd97+\\xa4F\\xce\\xa8\\x913jT\\x97\\xba\\xcf\\xa3\\xf2\\x9e#\\x0e\\xc1\\xc7\\xa9\\x135rF\\x8d\\x9ci\\x06\\xc9{T*\\xa0\\x98\\x83\\x88\\xbf\\x14FuP)\\x0e\\x11K\\x96,i\\xbd\\xa7\\x8f\\xfe7\\xfd|\\xbf\\xf6\\xde{\\xfc\\x7f\\xe3\\x90\\xa2\\xc7\\xa8\\xeb\\xdc,zNqP\\x89\\'\\x7f+\\xbbO\\x85\\x1a9\\xa3F\\xce\\xa8Q]t\\xca{\\r\\x17\\xc5\\x9f\\xeb\\xaa\\xf2\\x99i\\x87\\x8f\\x1a9\\xc3\\x15\\x95\\xbcG\\xa57\\x8a9\\x88\\xf8KaT\\x07\\x95\\xf4=}\\x8a/\\x03\\xae\\xfa\\xa6\\x83G\\x1d~p{H\\x11\\xbd\\x99 ]\\xaf\\xac\\xe2>\\x15}\\\\v\\x9f\\n5rF\\x8d\\x9cQ\\xa3:\\xdd;\\xb6\\x1e\\x7f\\xb6\\xcbj\\xe2w\\x05\\xa1F\\xce\\xa8\\x91\\xb3tP\\xc9{TJ\\xa0\\x98\\x83\\x88\\xbf\\x18FuP\\x89\\xdf_\\xeb\\xf1\\x17.\\x9c4\\x08\\xe8\\xe3\\xf4\\xeb\\xfdX\\xba\\xf0\\x98I\\xef\\xc5S\\xf7\\xa1\\xa5\\x9d;wNz~\\x1a\\xb4\\xd2\\xef\\xa7\\x17j\\xe4\\x8c\\x1a9\\xa3Fu\\xd3\\xbfs\\xfa\\xd9.C\\x03\\x0f\\xddw\\xdd\\xa8\\x913j\\xe4\\x0cWT\\xe2\\xa0\\x92\\xf7\\xa8tF1\\x07\\x11\\x7f18\\x0c*\\x127\\xac\\xea\\x7f\\xb5bQ\\xfcz\\':\\xd4\\xb3\\xee\\xbc\\xc5S\\xee_\\x87f\\xe8\\xfaUm\\xdd\\xba\\xb5=\\xa8\\xe8\\x10\\x95>W|\\xccn\\xa8\\x913j\\xe4\\x8c\\x1a\\xd5E\\x87~>\\xb9\\xa2\\x9e\\xb3?\\xeb}~\\x861\\xacP#g\\xd4\\xc8\\x99f\\x90\\xbcG\\xa5\\x02\\x8a9\\x88\\xf8\\x8b\\xc1eP\\xa9B\\x87z\\xe8\\xe4kZYI\\x0f-\\xd5!\\xddP\\xab\\xff\\xd6\\xe7\\xd2\\xc3L\\xbdP#g\\xd4\\xc8\\x195\\xaa\\x83\\x86\\x94\\xf9\\xef\\x9b7\\xe5\\xe7yP\\xda\\xa0K\\x8fW\\x17j\\xe4\\x8c\\x1a9\\xc3\\x15\\x95\\xbcG\\xa57\\x8a9\\x88\\xf8\\x0baT\\x07\\x15\\xad\\x84\\xc4\\xef\\xb1\\n\\x1d\\xea\\xa1\\xfb\\x95\\xba^\\xed\\x93\\xd2*J\\x1cT\\xb4\\xba\\xa2\\xcf\\xd1JN\\'\\xd4\\xc8\\x195rF\\x8d\\x06\\xd5\\xd4\\x90\\x1259\\xacP#g\\xd4\\xc8Y:\\xa8\\xe4=*%P\\xccA\\xc4_\\x06\\xa3:\\xa8\\x0cr\\x0e\\x95no\\x0c\\xd8\\xd4\\x1b\\x1c\\xd2\\x19j5\\x10\\xd1s \\xd4\\xc8\\x195rF\\x8d\\x06\\xd1\\xf4\\x90\\x1255\\xacP#g\\xd4\\xc8\\x19\\xae\\xa8\\xc4A%\\xefQ\\xe9\\x8cb\\x0e\"\\xfe\"8\\xfe\\xf8\\xe3\\xc3\\xe9\\xa7\\x9f\\xde\\x88\\xc3\\x0e;\\xac\\xf5\\x18\\xef=z.>\\x87AP\\xa3T\\xd5\\xb3\\xd2v\\x1bRt\\xc8\\xa7\\xaeW\\xfa\\x14\\x157\\xfc\\xeasyP\\xa9\\x8e\\x1a9\\xa3F\\x838c\\xf1IS~\\x86\\x9b\\xd2\\xc4\\xc9\\xdf\\xa8\\x913j\\xe4L3H\\xde\\xa3R\\x01\\xc5\\xacJ\\xa7\\xa7\\x8e\\xbf\\x04ty\\xe0\\x81\\x07\\x1a\\x11WT\\xde\\xf2\\xe67\\xb7\\xfe\\x1f\\x18=\\x97\\xaa\\xa8QQ\\xd9\\xf3\\x9ct\\x1b\\x0c\\x9a\\x1cR\\x84\\x06\\x95\\xf9\\xf3\\x0e\\xc3\\xe7B\\xa8\\x913j\\xe4\\x8c\\x1aU\\xa5\\xf3\\x9c\\x14\\x7f~\\x9b\\xa4\\r\\xb6\\xd3\\xf1\\xfb\\xc3\\t5r\\x86+*y\\x8fJo\\x14\\xb3\\x8a\\xc7\\xbe\\xb71\\xcc>`V\\xeb\\x17\\xc0E\\x17]\\xd4\\x1aT\\x9a\\xba\\xec\\xda\\xb5\\xab\\xfd\\n\\x9bU\\xe7/\\xc5\\xe7S\\x155\"\\x1a>\\xfa\\xd9\\xaf\\xa2\\xa1\\x86n\\x1f\\x9dtLs\\xa7\\xe3\\x97\\xe2\\xb9^\\xf4q\\x1eT\\xaa\\xa3F\\xce\\xa8Q\\x15\\x1a\\x18\\xe2\\xef\\x8fa\\xaa\\xfb\\xbd\\x7f\\xa8\\x913j\\xe4,\\x1dT\\xf2\\x1e\\x95\\x12(f\\x15q\\xc9V\\x03\\xc4k\\xaf\\xbd61R4w\\x89\\xab*R\\xe7\\x12.5\\xeaF{Kt8H\\x8a+-\\xbd\\x86\\x94\\xc55\\x9d\\x81\\xb6\\x97tP\\xd1\\n\\x8bVp\\xe8\\xf9\\x10j\\xe4\\x8c\\x1a9\\xa3FU\\xe8\\xffp\\xd0\\xcfn\\xd34\\x1c\\xe9\\xffd\\xd1s\\xaa\\x82\\x1a9\\xa3F\\xcepE%\\x0e*y\\x8fJg\\x14\\xb3\\xac\\xfdg\\xed\\x87\\xbf\\x04\\x86\\xa9\\xae\\xd3cS\\xa3~\\xe9%\\xc7\\x1aNt.\\x94^/\\x01\\x1e\\xd6\\x90\"\\xc5AE\\x9f\\xa3\\xe7D\\xa8\\x913j\\xe4\\x8c\\x1a\\x95\\xa5A\\xa1\\xf83;L\\xe7\\x9e\\xb9\\x08\\x9fW\\x15\\xd4\\xc8\\x195r\\xa6\\x19$\\xefQ\\xa9\\x80b\\x96E\\xff\\xf8\\x87\\xad\\xaeW\\x00Q\\xa3\\xba\\rsH\\x91<\\xa8\\xd4\\x87\\x1a9\\xa3FeM\\xd7jJ\\xaa\\xae\\xbd*\\xd4\\xc8\\x195r\\x86+*y\\x8fJo\\x14\\xb3\\xac\\xf8\\x8f\\xfdS\\x9f\\xfaT\\xb8\\xe6\\x9ak\\x86\\xeac\\x1f\\xfbX\\xeb\\xb1\\xdf(\\x83J\\xddg\\x9e\\xedG\\x1eT\\xeaC\\x8d\\x9cQ\\xa3\\xb2\\xa6coJ\\xd1LX\\x91\\x1dE\\xd4\\xc8Y:\\xa8\\xe4=*%P\\xcc\\xb2\\xe2?\\xf6&\\xcf\\x9d\\xd2\\xe9R\\xf79U\\xa8Q]\\x9a:WJ/yP\\xa9\\x0f5rF\\x8d\\xca\\xd8t\\xfd\\xba)?\\xaf\\xd3A\\xe7n\\xa1\\xe7W\\x165rF\\x8d\\x9c\\xe1\\x8aJ\\x1cT\\xf2\\x1e\\x95\\xce(fY\\xf1\\x1f{\\x1eT\\xba\\xab\\xfb\\xf4\\xf8\\xfdJ\\x07\\x15\\x9d\\x00N\\x9f\\xa3\\xe7G\\xa8\\x913j\\xe4\\x8c\\x1a\\x95\\xa1\\xfd!\\xc5\\x9f\\xd7\\xe9R\\xc7\\xa6Zj\\xe4\\x8c\\x1a9\\xd3\\x0c\\x92\\xf7\\xa8T@1\\xcb\\x8a\\xff\\xd0\\xf3\\xa0\\xd2Y\\xd5\\x13\\xc5\\xd5!\\x1dT\\xe2\\x1b\\x13\\xf6\\xfb~?\\xd4\\xc8\\x195rF\\x8d\\xca\\x18\\xc6Yh\\xfb\\xa5\\xd5\\x1dz\\x8eeP#g\\xd4\\xc8\\x19\\xae\\xa8\\xe4=*\\xbdQ\\xccn\\x86}R\\xa6\\xaat\\xdc\\x9b\\x9e\\x7f/\\xd4\\xa8\\x0e\\x83\\x9cz\\x7fP4\\xa8hp\\xa2\\xe7YD\\x8d\\x9cQ#g\\xd4\\xa8\\x8c\\xe2\\xcf\\xeat\\xaa\\xe3\\x9c*\\xd4\\xc8\\x195r\\x96\\x0e*y\\x8fJ\\t\\x14\\xb3\\x9b\\xf4\\xec\\xb33]\\x95\\xb7u\\xa7F\\x83\\xd2\\xcb\\x96\\xe9\\xf9\\rK:\\xa8,Y2\\xbe\\xb2\\x93\\x07\\x95j\\xa8\\x913j\\xd4/\\xfd\\xfb,\\xfe\\xacN\\xa7:Ve\\xa9\\x913j\\xe4\\x0cWT\\xe2\\xa0\\x92\\xf7\\xa8tF1\\xbb\\x89\\x83\\xcaq\\xc7\\x1d\\xd7:\\xd43\\x13\\xc5_<3eP\\x99\\xce\\xc3>\\x92\\x0e*q3m\\x1eT\\xaa\\xa1F\\xce\\xa8Q\\xbff\\xda\\xeal\\xd5U\\xd8\\x145rF\\x8d\\x9ci\\x06\\xc9{T*\\xa0\\x98\\xdd\\xc4A\\xe5\\xb4\\xd3N\\x9b\\xd8%2\\xf3.\\xf1\\x17\\xcfL\\x19T\\xf4\\x86\\x84\\xf19M\\x87<\\xa8\\xd4\\x87\\x1a9\\xa3F\\xfd\\x9a\\x89\\xab\\xb3\\xf4<\\xcb\\xa0F\\xce\\xa8\\x913\\\\Q\\xc9{Tz\\xa3\\x98\\xdd\\xc4_.G\\x1eyd\\xb8\\xfc\\xf2\\xcbg\\xa4\\xf8Kg\\xa6\\x0c*z_\\xa0\\xf8\\x9c\\xa6C\\x1eT\\xeaC\\x8d\\x9cQ\\xa3~\\xe5Ae\\xf4Q#g\\xe9\\xa0\\x92\\xf7\\xa8\\x94@1\\xbb\\x99\\x89\\xbf\\\\:\\xa9\\xf2rCj4\\xa8\\xe9\\x1cT\\x8aoJ\\x18\\x07\\x15\\xed\\x9b\\xa1\\xe7ZD\\x8d\\x9cQ#g\\xd4\\xa8_yP\\x19}\\xd4\\xc8\\x19\\xae\\xa8\\xc4A%\\xefQ\\xe9\\x8cbv\\xa37\\x00\\xd4\\xb9\\x0f\\xb4\\xf1l&\\xabz\\xa6Ij4(\\xbd\\x14X\\xef\\x01\\xa4w-\\x1e\\xb6\\x93\\xfe\\xdd\\xaf\\x84\\xdf;\\xebcm\\xfaXg\\xc7\\xa5\\xe7I\\xa8\\x913j\\xe4\\x8c\\x1a\\xf5k&\\x0e*\\x83\\xbe\\xc1)5rF\\x8d\\x9ci\\x06\\xc9{T*\\xa0\\x98\\xce\\xa8\\x913j\\xe4\\x8c\\x1a9\\xa3F\\xfd\\xd2\\xa1Y\\r+3\\xc9\\xa0\\'}\\xa3F\\xce\\xa8\\x913\\\\Q\\xc9{Tz\\xa3\\x98\\xce\\xa8\\x913j\\xe4\\x8c\\x1a9\\xa3F\\xce\\xa8\\x913j\\xe4,\\x1dT\\xf2\\x1e\\x95\\x12(\\xa63j\\xe4\\x8c\\x1a9\\xa3F\\xce\\xa8\\x913j\\xe4\\x8c\\x1a9\\xc3\\x15\\x958\\xa8\\xe4=*\\x9dQLg\\xd4\\xc8\\x195rF\\x8d\\x9cQ#g\\xd4\\xc8\\x195r\\xa6\\x19$\\xefQ\\xa9\\x80b:\\xa3F\\xce\\xa8\\x913j\\xe4\\x8c\\x1a9\\xa3F\\xce\\xa8\\x913\\\\Q\\xc9{Tz\\xa3\\x98\\xce\\xa8\\x913j\\xe4\\x8c\\x1a9\\xa3F\\xce\\xa8\\x913j\\xe4,\\x1dT\\xf2\\x1e\\x95\\x12(\\xa63j\\xe4\\x8c\\x1a9\\xa3F\\xce\\xa8\\x913j\\xe4\\x8c\\x1a9\\xc3\\x15\\x958\\xa8\\xe4=*\\x9dQLg\\xd4\\xc8\\x195rF\\x8d\\x9cQ#g\\xd4\\xc8\\x195r\\xa6\\x19\\xa4\\xaf=*tcg\\xf4\\xc3\\xe5\\x8c\\x1a9\\xa3F\\xce\\xa8\\x913j\\xe4\\x8c\\x1a9\\xa3F\\xcepE\\x85\\xf6\\xa8PLg\\x14\\xd3\\x195rF\\x8d\\x9cQ#g\\xd4\\xc8\\x195rF\\x8d\\x9c\\xa5\\x83J\\xd7=*\\x14\\xd3\\x19\\xc5tF\\x8d\\x9cQ#g\\xd4\\xc8\\x195rF\\x8d\\x9cQ#g\\xb8\\xa2\\x12\\x07\\x95t\\x8f\\n\\xc5tF1\\x9dQ#g\\xd4\\xc8\\x195rF\\x8d\\x9cQ#g\\xd4\\xc8\\x99f\\x90\\xbcG\\xa5\\x02\\x8a\\xe9\\x8c\\x1a9\\xa3F\\xce\\xa8\\x913j\\xe4\\x8c\\x1a9\\xa3F\\xcepE%\\xefQ\\xe9\\x8db:\\xa3F\\xce\\xa8\\x913j\\xe4\\x8c\\x1a9\\xa3F\\xce\\xa8\\x91\\xb3tP\\xc9{TJ\\xa0\\x98\\xce\\xa8\\x913j\\xe4\\x8c\\x1a9\\xa3F\\xce\\xa8\\x913j4r\\xae\\xfetx\\xe2oo\\r\\xaf<\\xbe%\\xbc\\xbac\\x8fG\\xc7\\xc2\\xf3\\x7f\\xf3\\'\\xe1\\x01\\xb8.\\xae\\xa8\\xc4A%\\xefQ\\xe9\\xac\\x18\\xd2\\x1d5rF\\x8d\\x9cQ#g\\xd4\\xc8\\x195rF\\x8dF\\xcb\\xa5a\\xd7#\\xf4\\xbdo\\r/\\xdd\\xb7z\\xca\\xf55\\x83\\xe4=*\\x15\\x14C\\xba\\xa3F\\xce\\xa8\\x913j\\xe4\\x8c\\x1a9\\xa3F\\xce\\xa8\\xd1\\xa8\\xf9\\xd1}c\\xe1\\xd5\\xc7o\\x0f\\xcf~\\xe3S\\xe1\\x81\\xab?\\x1d\\x9e\\xfd\\xe9\\xd6\\xf1\\xef\\x7f\\xfb\\x86\\xf0\\x93\\xc2uqE%\\xefQ\\xe9-\\x8d\\x98\\xe5_4E\\xd4\\xc8\\x195rF\\x8d\\x9cQ#g\\xd4h\\xd4=\\xf2\\xfd\\xbb\\xc7\\xbf\\xffG\\xaf\\x0f\\x0f\\x17\\xbe\\x96\\x0e*y\\x8fJ\\ti\\xc4,\\xff\\xa2)\\xa2F\\xce\\xa8\\x913j\\xe4\\x8c\\x1a9\\xa3F\\xa3\\xed\\xb3\\xedCA\\xaf\\xfe\\xe0O\\xa7|\\x1dWT\\xe2\\xa0\\x92\\xf7\\xa8tV\\x0c\\xe9\\x8e\\x1a9\\xa3F\\xce\\xa8\\x913j\\xe4\\x8c\\x1a9\\xa3F\\xa3k\\xe5\\xeb\\xab)O\\x8e\\x85gn\\x98z\\x1d\\xcd y\\x8fJ\\x05\\xc5\\x90\\xee\\xa8\\x913j\\xe4\\x8c\\x1a9\\xa3F\\xce\\xa8\\x913j4\\xaaZ{UZ\\xdf\\xf7\\xdd\\xe1\\xf9o\\xac\\xc4\\xeb\\xe0\\x8aJ\\xde\\xa3\\xd2\\x1b\\xc5tF\\x8d\\x9cQ#g\\xd4\\xc8\\x195rF\\x8d\\x9cQ\\xa3Q\\x94\\x0e)/\\xdc=\\xf5\\xd5>Q:\\xa8\\xe4=*%PLg\\xd4\\xc8\\x195rF\\x8d\\x9cQ#g\\xd4\\xc8\\x195\\x1a5\\xdb\\xbeyS\\xd8\\xdd\\xfa~\\xbb\\x0f)\\x82+*qP\\xc9{T:\\xa3\\x98\\xce\\xa8\\x913j\\xe4\\x8c\\x1a9\\xa3F\\xce\\xa8\\x913j4Z\\xd6\\x87\\x97\\xe0\\xfb\\x1ewwx\\xfe\\xeb\\x93\\xaf\\xaf\\x19$\\xefQ\\xa9 \\x8d\\x98\\xe5_4E\\xd4\\xc8\\x195rF\\x8d\\x9cQ#g\\xd4h\\xb4\\\\UzP\\x99\\xb2\\xa2\\x92\\xf7\\xa8\\xf4\\x96F\\xcc\\xf2/\\x9a\"j\\xe4\\x8c\\x1a9\\xa3F\\xce\\xa8\\x913j\\xe4,\\x1dT\\xf2\\x1e\\x95\\x12(\\xa63j\\xe4\\x8c\\x1a9\\xa3F\\xce\\xa8\\x913j\\xe4\\x8c\\x1a9\\xc3\\x15\\x958\\xa8\\xe4=*\\x9dQLg\\xd4\\xc8\\x195rF\\x8d\\x9cQ#g\\xd4\\xc8\\x195r\\xa6\\x19$\\xefQ\\xa9\\x80b:\\xa3F\\xce\\xa8\\x913j\\xe4\\x8c\\x1a9\\xa3F\\xce\\xa8\\x913\\\\Q\\xc9{Tz\\xa3\\x98\\xce\\xa8\\x913j\\xe4\\x8c\\x1a9\\xa3F\\xce\\xa8\\x913j\\xe4,\\x1dT\\xf2\\x1e\\x95\\x12(\\xa63j\\xe4\\x8c\\x1a9\\xa3F\\xce\\xa8\\x913j\\xe4\\x8c\\x1a9\\xc3\\x15\\x958\\xa8\\xe4=*\\x9dQLg\\xd4\\xc8\\x195rF\\x8d\\x9cQ#g\\xd4\\xc8\\x195r\\xa6\\x19$\\xefQ\\xa9\\x80b:\\xa3F\\xce\\xa8\\x913j\\xe4\\x8c\\x1a9\\xa3F\\xce\\xa8\\x913\\\\Q\\xc9{Tz\\xa3\\x98\\xce\\xa8\\x913j\\xe4\\x8c\\x1a9\\xa3F\\xce\\xa8\\x913j\\xe4,\\x1dT\\xf2\\x1e\\x95\\x12(\\xa63j\\xe4\\x8c\\x1a9\\xa3F\\xce\\xa8\\x913j\\xe4\\x8c\\x1a9\\xc3\\x15\\x958\\xa8\\xe4=*\\x9dQLg\\xd4\\xc8\\x195rF\\x8d\\x9cQ#g\\xd4\\xc8\\x195r\\xa6\\x19$\\xefQ\\xa9\\x80b:\\xa3F\\xce\\xa8\\x913j\\xe4\\x8c\\x1a9\\xa3F\\xce\\xa8\\x913\\\\Q\\xc9{Tz\\xa3\\x98\\xce\\xa8\\x913j\\xe4\\x8c\\x1a9\\xa3F\\xce\\xa8\\x913j\\xe4,\\x1dT\\xf2\\x1e\\x95\\x12(\\xa63j\\xe4\\x8c\\x1a9\\xa3F\\xce\\xa8\\x913j\\xe4\\x8c\\x1a9\\xc3\\x15\\x958\\xa8\\xe4=*\\x9dQLg\\xd4\\xc8\\x195rF\\x8d\\x9cQ#g\\xd4\\xc8\\x195r\\xa6\\x19$\\xefQ\\xa9\\x80b:\\xa3F\\xce\\xa8\\x913j\\xe4\\x8c\\x1a9\\xa3F\\xce\\xa8\\x913\\\\Q\\xc9{Tz\\xa3\\x98\\xce\\xa8\\x913j\\xe4\\x8c\\x1a9\\xa3F\\xce\\xa8\\x913j\\xe4,\\x1dT\\xf2\\x1e\\x95\\x12(\\xa63j\\xe4\\x8c\\x1a9\\xa3F\\xce\\xa8\\x913j\\xe4\\x8c\\x1a9\\xc3\\x15\\x958\\xa8\\xe4=*\\x9dQLg\\xd4\\xc8\\x195rF\\x8d\\x9cQ#g\\xd4\\xc8\\x195r\\xa6\\x19$\\xefQ\\xa9\\x80b:\\xa3F\\xce\\xa8\\x913j\\xe4\\x8c\\x1a9\\xa3F\\xce\\xa8\\x913\\\\Q\\xc9{Tz\\xa3\\x98\\xce\\xa8\\x913j\\xe4\\x8c\\x1a9\\xa3F\\xce\\xa8\\x913j\\xe4,\\x1dT\\xf2\\x1e\\x95\\x12(\\xa63j\\xe4\\x8c\\x1a9\\xa3F\\xce\\xa8\\x913j\\xe4\\x8c\\x1a9\\xc3\\x15\\x958\\xa8\\xe4=*\\x9dQLg\\xd4\\xc8\\x195rF\\x8d\\x9cQ#g\\xd4\\xc8\\x195r\\xa6\\x19$\\xefQ\\xa9\\x80b:\\xa3F\\xce\\xa8\\x913j\\xe4\\x8c\\x1a9\\xa3F\\xce\\xa8\\x913\\\\Q\\xc9{Tz\\xa3\\x98\\xce\\xa8\\x913j\\xe4\\x8c\\x1a9\\xa3F\\xce\\xa8\\x913j\\xe4,\\x1dT\\xf2\\x1e\\x95\\x12(\\xa63j\\xe4\\x8c\\x1a9\\xa3F\\xce\\xa8\\x913j\\xe4\\x8c\\x1a9\\xc3\\x15\\x958\\xa8\\xe4=*\\x9dQLg\\xd4\\xc8\\x195rF\\x8d\\x9cQ#g\\xd4\\xc8\\x195r\\xa6\\x19$\\xefQ\\xa9\\x80b:\\xa3F\\xce\\xa8\\x913j\\xe4\\x8c\\x1a9\\xa3F\\xce\\xa8\\x913\\\\Q\\xc9{Tz\\xa3\\x98\\xce\\xa8\\x913j\\xe4\\x8c\\x1a9\\xa3F\\xce\\xa8\\x913j\\xe4,\\x1dT\\xf2\\x1e\\x95\\x12(\\xa63j\\xe4\\x8c\\x1a9\\xa3F\\xce\\xa8\\x913j\\xe4\\x8c\\x1a9\\xc3\\x15\\x958\\xa8\\xe4=*\\x9dQLg\\xd4\\xc8\\x195rF\\x8d\\x9cQ#g\\xd4\\xc8\\x195r\\xa6\\x19$\\xefQ\\xa9\\x80b:\\xa3F\\xce\\xa8\\x913j\\xe4\\x8c\\x1a9\\xa3F\\xce\\xa8\\x913\\\\Q\\xc9{Tz\\xa3\\x98\\xce\\xa8\\x913j\\xe4\\x8c\\x1a9\\xa3F\\xce\\xa8\\x913j\\xe4,\\x1dT\\xf2\\x1e\\x95\\x12(\\xa63j\\xe4\\x8c\\x1a9\\xa3F\\xce\\xa8\\x913j\\xe4\\x8c\\x1a9\\xc3\\x15\\x958\\xa8\\xe4=*\\x9dQLg\\xd4\\xc8\\x195rF\\x8d\\x9cQ#g\\xd4\\xc8\\x195r\\xa6\\x19$\\xefQ\\xa9\\x80b:\\xa3F\\xce\\xa8\\x913j\\xe4\\x8c\\x1a9\\xa3F\\xce\\xa8\\x913\\\\Q\\xc9{Tz\\xa3\\x98\\xce\\xa8\\x913j\\xe4\\x8c\\x1a9\\xa3F\\xce\\xa8\\x913j\\xe4,\\x1dT\\xf2\\x1e\\x95\\x12(\\xa63j\\xe4\\x8c\\x1a9\\xa3F\\xce\\xa8\\x913j\\xe4\\x8c\\x1a9\\xc3\\x15\\x958\\xa8\\xe4=*\\x9dQLg\\xd4\\xc8\\x195rF\\x8d\\x9cQ#g\\xd4\\xc8\\x195r\\xa6\\x19$\\xefQ\\xa9\\x80b:\\xa3F\\xce\\xa8\\x913j\\xe4\\x8c\\x1a9\\xa3F\\xce\\xa8\\x913\\\\Q\\xc9{Tz\\xa3\\x98\\xce\\xa8\\x913j\\xe4\\x8c\\x1a9\\xa3F\\xce\\xa8\\x913j\\xe4,\\x1dT\\xf2\\x1e\\x95\\x12(\\xa63j\\xe4\\x8c\\x1a9\\xa3F\\xce\\xa8\\x913j\\xe4\\x8c\\x1a9\\xc3\\x15\\x958\\xa8\\xe4=*\\x9dQLg\\xd4\\xc8\\x195rF\\x8d\\x9cQ#g\\xd4\\xc8\\x195r\\xa6\\x19$\\xefQ\\xa9\\x80b:\\xa3F\\xce\\xa8\\x913j\\xe4\\x8c\\x1a9\\xa3F\\xce\\xa8\\x913\\\\Q\\xc9{Tz\\xa3\\x98\\xce\\xa8\\x913j\\xe4\\x8c\\x1a9\\xa3F\\xce\\xa8\\x913j\\xe4,\\x1dT\\xf2\\x1e\\x95\\x12(\\xa63j\\xe4\\x8c\\x1a9\\xa3F\\xce\\xa8\\x913j\\xe4\\x8c\\x1a9\\xc3\\x15\\x958\\xa8\\xe4=*\\x9dQLg\\xd4\\xc8\\x195rF\\x8d\\x9cQ#g\\xd4\\xc8\\x195r\\xa6\\x19$\\xefQ\\xa9\\x80b:\\xa3F\\xce\\xa8\\x913j\\xe4\\x8c\\x1a9\\xa3F\\xce\\xa8\\x913\\\\Q\\xc9{Tz\\xa3\\x98\\xce\\xa8\\x913j\\xe4\\x8c\\x1a9\\xa3F\\xce\\xa8\\x913j\\xe4,\\x1dT\\xf2\\x1e\\x95\\x12(\\xa63j\\xe4\\x8c\\x1a9\\xa3F\\xce\\xa8\\x913j\\xe4\\x8c\\x1a9\\xc3\\x15\\x958\\xa8\\xe4=*\\x9dQLg\\xd4\\xc8\\x195rF\\x8d\\x9cQ#g\\xd4\\xc8\\x195r\\xa6\\x19\\xa4\\xaf=*tcg\\xf4\\xc3\\xe5\\x8c\\x1a9\\xa3F\\xce\\xa8\\x913j\\xe4\\x8c\\x1a9\\xa3F\\xcepE\\x85\\xf6\\xa8PLg\\x14\\xd3\\x195rF\\x8d\\x9cQ#g\\xd4\\xc8\\x195rF\\x8d\\x9c\\xa5\\x83J\\xd7=*\\x14\\xd3\\x19\\xc5tF\\x8d\\x9cQ#g\\xd4\\xc8\\x195rF\\x8d\\x9cQ#g\\xb8\\xa2\\x12\\x07\\x95t\\x8f\\n\\xc5tF1\\x9dQ#g\\xd4\\xc8\\x195rF\\x8d\\x9cQ#g\\xd4\\xc8\\x99f\\x90\\xbcG\\xa5\\x02\\x8a\\xe9\\x8c\\x1a9\\xa3F\\xce\\xa8\\x913j\\xe4\\x8c\\x1a9\\xa3F\\xcepE%\\xefQ\\xe9\\x8db:\\xa3F\\xce\\xa8\\x913j\\xe4\\x8c\\x1a9\\xa3F\\xce\\xa8\\x91\\xb3tP\\xc9{TJ\\xa0\\x98\\xce\\xa8\\x913j\\xe4\\x8c\\x1a9\\xa3F\\xce\\xa8\\x913j4\\xb2\\x9e\\xdc\\x14\\xb6]\\xfd\\x9f\\xc2\\xcdk\\xcf\\x0f\\xf7~\\x17\\xbe\\xbe\\x07\\xae\\xa8\\xc4A%\\xefQ\\xe9\\x8cb:\\xa3F\\xce\\xa8\\x913j\\xe4\\x8c\\x1a9\\xa3F\\xce\\xa8\\xd1Hz\\xe8\\xfap\\xd7\\xe7\\xcf\\n\\xd7]tf\\xcb]\\xdf\\x86\\xeb\\xec\\xa1\\x19$\\xefQ\\xa9\\x80b:\\xa3F\\xce\\xa8\\x913j4L\\x1bV/\\x0b{\\xed\\xb5WX\\xf0\\xfe\\xb9\\xf8\\xf5a\\xa3F\\xce\\xa8\\x913j4j^\\xfc\\xce\\x17\\xc3\\xadk\\xf6\\x0c(k\\xf6\\x0c*\\xfa\\xdf\\x1e\\x83\\xca\\x94\\x15\\x95\\xbcG\\xa57\\x8a\\xe9\\x8c\\x1a9\\xa3F\\xce\\xa8\\xd10\\xad_\\xb9\\xa45\\xa8\\x08}}\\xd8\\xa8\\x913j\\xe4\\x8c\\x1a\\x8d\\x96\\xcd\\xe1\\xa1k\\x97\\x87\\xeb>\\xf3\\xa9p\\xff\\xb6[\\xc2\\xfdk\\xfb\\x1fT\\xf2\\x1e\\x95\\x12(\\xa63j\\xe4\\x8c\\x1a9\\xa3F\\xc3\\x94\\x07\\x95\\x99\\x8d\\x1a9\\xa3F#\\xe7\\xa9\\xcd\\xe1\\xc5\\xed\\xfa\\xef[\\xc2]}\\x1c\\xfa\\x99\\xb2\\xa2\\x12\\x07\\x95\\xbcG\\xa53\\x8a\\xe9\\x8c\\x1a9\\xa3F\\xce\\xa8Q\\xd3f\\xed\\xbbO{8\\xe9d\\xe5G\\x17\\xe0m\\x9bF\\x8d\\x9cQ#g\\xd4ht\\xf57\\xa8\\xe4=*\\x15PLg\\xd4\\xc8\\x195rF\\x8d\\x9a\\x96\\x07\\x957\\x0ej\\xe4\\x8c\\x1a\\x8d\\xae\\x8a+*y\\x8fJo\\x14\\xd3\\x195rF\\x8d\\x9cQ\\xa3a\\xd0!\\x1f\\xd1@\\x12\\x87\\x93\\xf8\\xb9\\x8d\\x97\\x9c\\x83\\xb7\\x19\\x06j\\xe4\\x8c\\x1a9\\xa3F\\xa3\\xab\\xdc\\xa0\\x92\\xf7\\xa8\\x94@1\\x9dQ#g\\xd4\\xc8\\x195\\x1a\\xa6\\xbcGef\\xa3F\\xce\\xa8\\xd1\\xe8\\xca{T\\x1aC1\\x9dQ#g\\xd4\\xc8\\x195\\x1a\\xa6<\\xa8\\xccl\\xd4\\xc8\\x195\\x1a]y\\x8fJc(\\xa63j\\xe4\\x8c\\x1a9\\xa3F\\xc3\\x94\\x07\\x95\\x99\\x8d\\x1a9\\xa3F\\xa3+\\xefQi\\x0c\\xc5tF\\x8d\\x9cQ#g\\xd4h\\x18\\xee\\xbc\\xec\\xbc\\xb0\\xec\\x94c\\xc2~\\xfb\\xfcR{P\\x99w\\xc4\\xdb[\\x83\\x0b]\\x7fX\\xa8\\x913j\\xe4\\x8c\\x1a9K\\x07\\x95\\xbcG\\xa5\\x04\\x8a\\xe9\\x8c\\x1a9\\xa3F\\xce\\xa8Q\\xd34\\xa4\\x1cz\\xd0\\xfe\\xed\\x01\\xa5h\\xba^\\xf1#\\xd4\\xc8\\x195rF\\x8d\\x9c\\xe1\\x8aJ\\x1cT\\xf2\\x1e\\x95\\xce(\\xa63j\\xe4\\x8c\\x1a9\\xa3FM;\\xea\\xf0\\x83[\\x03\\xc9\\xec\\xd9\\xb3\\xc3\\x8a\\x15+\\xc2\\x83\\x0f>\\x18n\\xbb\\xed\\xb6p\\xdcq\\xc7\\xb5\\x87\\x95u\\xe7-\\xc6\\xdb6\\x8d\\x1a9\\xa3F\\xce\\xa8\\x913\\xcd y\\x8fJ\\x05\\x14\\xd3\\x195rF\\x8d\\x9cQ\\xa3&\\xad9\\xfb\\xd4\\xf60\\xa2\\xe1\\xa4x\\x89\\xc3\\x8aV\\\\\\xe8\\xf6M\\xa3F\\xce\\xa8\\x913j\\xe4\\x0cWT\\xf2\\x1e\\x95\\xde(\\xa63j\\xe4\\x8c\\x1a9\\xa3FM\\x8a\\xab)\\xa7\\x9dv\\xda\\xc4h2\\xf9\\xa2\\xd5\\x958\\xc8L\\xc7\\xaa\\n5rF\\x8d\\x9cQ#g\\xe9\\xa0\\x92\\xf7\\xa8\\x94@1\\x9dQ#g\\xd4\\xc8\\x195*c\\xfd\\xca3\\xda\\xf4N\\xc8t\\x9dT\\x1cB\\xb6o\\xdf>1\\x9aL\\xbd,]\\xba\\xb4u\\x9d\\xa5\\x0b\\x8f\\xc1\\xfb\\x10\\x9d\\x14.}\\xec\\xbaN\\x12G\\x8d\\x9cQ#g\\xd4\\xc8\\x19\\xae\\xa8\\xc4A%\\xefQ\\xe9\\x8cb:\\xa3F\\xce\\xa8\\x913j\\xd4\\xcbg\\xce>\\xb5\\xebf\\xd8\\xf9\\xf3\\x0eo]G\\x9bf\\xd3\\xdb\\xa5/E\\xeev\\xb9\\xec\\xb2\\xcb&\\xee\\xe7\\xb0)\\xb7_|\\xe2\\xd1]\\x1f[_\\xefg`\\xea\\x84\\x1a9\\xa3F\\xce\\xa8\\x913\\xcd y\\x8fJ\\x05\\x14\\xd3\\x195rF\\x8d\\x9cQ\\xa3N4x\\xe8%\\xc44 t\\xa2\\xc1!\\xbe\\xe48\\xdd\\x9f\\xd2\\xed\\x12\\x07\\x95C\\xf6\\x0c$z\\xcc\\x95\\x1f[\\xd0u8!\\x1a\\x96\\x8a\\x83R?\\xa8\\x913j\\xe4\\x8c\\x1a9\\xc3\\x15\\x95\\xbcG\\xa57\\x8a\\xe9\\x8c\\x1a9\\xa3F\\xce\\xa8\\x11\\xd1*\\xc5\\xac\\xfd^\\x7f3A\\xed1\\xd9\\xbcys\\xd8\\xb5k\\xd7\\xc4x\\x11Z\\xff\\xad\\xcf\\xe9\\x95<zEO:8\\x9ct\\xcc\\xdcp\\xd9\\x8a\\xdfl\\x7f\\xdc\\xed\\x12\\x07\\x95\\xb9\\x87\\x1e4\\xe91E\\x8f\\xabM\\xb8\\xc5CG\\xf1\\x95Cs\\xe7\\xcem_W\\xc3M\\xd9\\xd5\\x15j\\xe4\\x8c\\x1a9\\xa3F\\xce\\xd2A%\\xefQ)\\x81b:\\xa3F\\xce\\xa8\\x913jT\\x94\\x9e\\xf7d\\xf6\\xec\\x03Z\\xc3H\\xaf\\xcbk\\xaf\\xbd6\\xe5%\\xc7\\xef<\\xf0\\xf5U\\x11\\r\\x16\\x9d.\\x1aF\\xe2\\xf5DC\\xcfE\\x17]4i(\\xeav\\xd1\\xe3\\xeay\\xea\\xb6\\x1at\\xca\\xec_\\xa1F\\xce\\xa8\\x913j\\xe4\\x0cWT\\xe2\\xa0\\x92\\xf7\\xa8tF1\\x9dQ#g\\xd4\\xc8\\x195*Z\\xbe\\xf8\\x84\\xf6\\xd0\\xd0m\\x13l\\xa7\\xcb5\\xd7\\\\3e\\x85E\\xab&t\\xd1\\x80\\x93^OC\\x8b>W\\xf6\\xa2\\xe7\\x19\\x1fS\\x87\\xab\\xe8\\xfb\"\\xd4\\xc8\\x195rF\\x8d\\x9ci\\x06\\xc9{T*\\xa0\\x98\\xce\\xa8\\x913j\\xe4\\x8c\\x1a\\xa5\\xb4\\x1a\\x11\\x87\\x86N\\xc3E?\\x17\\xad\\x86\\xa4+%s\\xe6\\xcc\\x99\\xf8\\xca\\xe4\\xcbo\\xfc\\xc6o\\xd4\\xf2x\\xba\\xa4/u\\xee\\xf6\\n\\xa2\\x145rF\\x8d\\x9cQ#g\\xb8\\xa2\\x92\\xf7\\xa8\\xf4F1\\x9dQ#g\\xd4\\xc8\\x195J\\xe9\\x0f\\xbc\\xfe\\xd0k\\xefG\\x95\\x95\\x8d\\xe2E\\xfbW\\xe2\\xf0\\xf0g\\x7f\\xf6g\\x13\\x9f\\x1d\\xbfh\\xe5%~\\x8dN\\x06W\\xe5\\x92\\xde\\'}\\x7fE\\xd4\\xc8\\x195rF\\x8d\\x9c\\xa5\\x83J\\xde\\xa3R\\x02\\xc5tF\\x8d\\x9cQ#g\\xd4(\\x15\\xf7\\xa6h\\x8fH\\x1d\\x17\\r;\\xe9\\xbe\\x95x()]\\xfd\\xd00S\\xd7%=\\x94\\xd4\\xcf\\t\\xe4\\xa8\\x913j\\xe4\\x8c\\x1a9\\xc3\\x15\\x958\\xa8\\xe4=*\\x9dQLg\\xd4\\xc8\\x195rF\\x8d\"\\xbdb&\\xfe\\x91\\xaf\\xb27\\xa5\\xd3%\\x1dV\\xe2!\\xa0\\xd3O?\\xbd\\xf5\\xb1>_\\xc7\\xcaMz\\x89\\'\\x90[t\\xe2\\xd1\\xf8}\\xa6\\xa8\\x913j\\xe4\\x8c\\x1a9\\xd3\\x0c\\x92\\xf7\\xa8T@1\\x9dQ#g\\xd4\\xc8\\x195\\x8a\\xfa=A[\\x95\\x8b\\xf6\\xac\\xc4\\xfb\\xbe\\xe0\\x82\\x0b\\xda\\xff\\xdd\\xed\\xd5@U/\\xf1\\xe5\\xce\\xc5\\x13\\xc8\\x11j\\xe4\\x8c\\x1a9\\xa3F\\xcepE%\\xefQ\\xe9\\x8db:\\xa3F\\xce\\xa8\\x913j\\x1459\\xa8\\xe8\\xa2\\xc3I\\xf1\\xfeE\\x9bm\\x9b\\xb8\\xe4A\\xa5:j\\xe4\\x8c\\x1a9K\\x07\\x95\\xbcG\\xa5\\x04\\x8a\\xe9\\x8c\\x1a9\\xa3F\\xce\\xa8Q\\xd4\\xf4\\xa0\\xa2C<\\xe9\\xcb\\x96\\xeb\\xda@[\\xbc\\xc4W\\x1b\\xe5C?\\xe5Q#g\\xd4\\xc8\\x19\\xae\\xa8\\xc4A%\\xefQ\\xe9\\x8cb:\\xa3F\\xce\\xa8\\x913j\\x14\\xe9Doq\\x88\\xe8\\xe7$oU.\\x1aN\\xe2c4q\\xd10t\\xe0\\x81\\x07\\xb6\\xee_\\xa7\\xf0\\xa7\\xef3E\\x8d\\x9cQ#g\\xd4\\xc8\\x99f\\x90\\xbcG\\xa5\\x02\\x8a\\xe9\\x8c\\x1a9\\xa3F\\xce\\xa8Qj\\xc1\\xfb\\xc7OI\\xaf\\r\\xa9M\\\\\\xd2W\\xfb4q\\x89\\x87}f\\xed\\xbbO_\\xef\\xfdC\\x8d\\x9cQ#g\\xd4\\xc8\\x19\\xae\\xa8\\xe4=*\\xbdQLg\\xd4\\xc8\\x195rF\\x8dR\\xe9\\x1b\\t6\\xb1\\xd1\\xb5\\xc9AE\\x1bv\\xe3jJ>\\xe1[5\\xd4\\xc8\\x195r\\x96\\x0e*y\\x8fJ\\t\\x14\\xd3\\x195rF\\x8d\\x9cQ\\xa3\"mB\\xd5\\x1f{\\xfd\\xd1\\xaf\\xfb\\xa5\\xc3M\\r*z\\x9e\\xc7\\x1f\\x7f|\\xeb~\\xfb]M\\x11j\\xe4\\x8c\\x1a9\\xa3F\\xcepE%\\x0e*y\\x8fJg\\x14\\xd3\\x195rF\\x8d\\x9cQ\\xa3\"\\x9dF_\\x7f\\xec\\xf5G_\\x7f\\xfc\\xeb\\x1cV\\x9a\\x1aT\\x96-{\\xfd\\x1c0e\\xdeA\\x99\\x1a9\\xa3F\\xce\\xa8\\x913\\xcd y\\x8fJ\\x05\\x14\\xd3\\x195rF\\x8d\\x9cQ#\\xa2\\xb3\\xba\\xc6?\\xfcU\\x87\\x15\\x9d4n\\xdb\\xb6m-\\xb7\\xdf~{\\xb8\\xfc\\xf2\\xcb\\xdb\\xe7P\\xd1j\\x8d>\\x17\\xbf^\\xf5\\x04sz^\\xf1\\xe4q\\xd2\\xcf\\x06\\xda\\x145rF\\x8d\\x9cQ#g\\xb8\\xa2\\x92\\xf7\\xa8\\xf4F1\\x9dQ#g\\xd4\\xc8\\x195\\xea$\\xdd\\xaf\\xa2a\\xa5\\xdb0\\xa1\\xaf}\\xf5\\xab_m\\r\\r\\xf1\\x10L\\x15\\xba\\xad\\xeeC\\xf7\\xd5kx\\xd1\\x9e\\x94\\xf4\\xb1\\xf4\\xae\\xcf\\xf4}tC\\x8d\\x9cQ#g\\xd4\\xc8Y:\\xa8\\xe4=*%PLg\\xd4\\xc8\\x195rF\\x8d\\xba\\xd1\\xcaJ<\\x0c$Z\\x15\\x89\\xab+:\\x8c\\xa3\\x15\\x92#\\x8f<\\xb2\\xfd\\xf5Nt\\xaa|\\x9d\\xdf$\\x95\\xbe\\x07P\\'\\xbao=Fqc\\xafVc\\xe2\\xc6Y)\\xbb\\x92\\x12Q#g\\xd4\\xc8\\x195r\\x86+*qP\\xc9{T:\\xa3\\x98\\xce\\xa8\\x913j\\xe4\\x8c\\x1a\\xf5\\xa2=\\x1f\\x87L\\xbcY\\xa1\\xbc\\xe3\\x1d\\xef\\x08\\x0b\\x16,h\\x7f\\x1c\\xe9\\x1d\\x97u\\xf6Y\\xbd\\x83\\xb1\\x06\\x0b\\xadx\\xf4{\\xd1uu\\x1b\\xddV\\xf7\\xa1\\xfb*\\xde\\xbfVZ\\xbe\\xf4\\xa5/M:\\xd4\\xa3!\\xaa\\xcc\\x9e\\x94\"j\\xe4\\x8c\\x1a9\\xa3F\\xce4\\x83\\xe4=*\\x15PLg\\xd4\\xc8\\x195rF\\x8d\\xfa\\xa5C+\\xe9\\xe0 Z\\x19\\xd1pQf(\\xe9\\xf7\\xa2\\xfb\\xd4}\\xeb1\\x8a\\x8f+:\\xe7K\\xbf\\xaf\\xee\\xe9\\x84\\x1a9\\xa3F\\xce\\xa8\\x913\\\\Q\\xc9{Tz\\xa3\\x98\\xce\\xa8\\x913j\\xe4\\x8c\\x1a\\x95q\\xc0\\xac}[C\\x82\\x0e\\xdb\\x14\\x0f\\xc7t\\xbbh\\xe8\\x88\\x1bg\\xa32\\xc3\\x8d\\x1e\\xeb\\xc3\\x1f\\xfep{H\\xd1\\xe9\\xfe\\xe9\\xf9\\x95E\\x8d\\x9cQ#g\\xd4\\xc8Y:\\xa8\\xe4=*%PLg\\xd4\\xc8\\x195rF\\x8d\\xca\\x88\\xe7X\\xd1\\x19`\\x8b\\x17m~\\xd5\\x1e\\x96O\\x7f\\xfa\\xd3\\xad\\xc33\\xe9\\x1e\\x92^t]\\xddF\\xb7\\xd5}\\xd0FZ\\r+\\xf1\\xfa\\xf4\\xdc\\xaa\\xa0F\\xce\\xa8\\x913j\\xe4\\x0cWT\\xe2\\xa0\\x92\\xf7\\xa8tF1\\x9dQ#g\\xd4\\xc8\\x195*#\\x1dT\\xb4\\xa9V\\x9bZ\\xb5\\xd9\\xb5\\xccP\\xd2/\\xdd\\xa7\\xee[\\x8f\\xa1\\xc7\\xca\\x83J\\xf3\\xa8\\x913j\\xe4L3H\\xde\\xa3R\\x01\\xc5tF\\x8d\\x9cQ#g\\xd4\\xa8\\x8c8\\xa8tZ1\\xd1!!\\xbdO\\x90\\x06\\x19\\xbd\\x01\\xa1\\x86\\x0b\\xa1\\xc3<\\xfa\\\\\\xfc\\xba\\xae\\xab\\xdb\\xe8\\xb6\\xf4j\\xa08\\xb4\\xc4\\x8f\\xe9\\xb9UA\\x8d\\x9cQ#g\\xd4\\xc8\\x19\\xae\\xa8\\xe4=*\\xbdQLg\\xd4\\xc8\\x195rF\\x8d\\xcaH_\\xfd#\\xb3g\\xcfn\\r\\x17\\x1a4\\xca\\xec9\\xe9u\\xd1}\\xe9>u\\xdfz\\x8c\\xf41\\x85\\x9e[\\x15\\xd4\\xc8\\x195rF\\x8d\\x9c\\xa5\\x83J\\xde\\xa3R\\x02\\xc5tF\\x8d\\x9cQ#g\\xd4\\xa8\\x8cY\\xfb\\x8d\\x9fSE\\xc3C<\\xfc\\xd3\\xf4E\\x8f\\xa1\\xc7:\\xf4\\xd0C\\xf3\\xa0\\xd20j\\xe4\\x8c\\x1a9\\xc3\\x15\\x958\\xa8\\xe4=*\\x9dQ\\xcc\\x96o\\xaf\\r\\xd7]tf\\xb8\\xee\\xf2\\xab\\xc2N\\xfa\\xfa\\x88\\xa2F\\xce\\xa8Q\\';7]8\\xfe3s\\xed-\\xf8\\xf5Q@\\x8d\\xca\\xf8\\xd5\\xf7\\xbc\\xb35(hp\\xa0\\x8b^\\xcd\\xb3e\\xcb\\x96\\xd6\\x86X\\xbd\\xff\\x8e\\x0e\\x11\\t\\x9d\\x14N\\x9f\\x8b_\\xd7uu\\x1b\\xddV\\xf7A\\x97i\\xd9\\xa3\\xf2\\xf7\\xd7\\x86o\\xae;g\\xfc\\xe7\\xe2\\xa2\\xb3\\xc2\\x8d7\\xdc\\x14\\xfe\\x95\\xae7\"\\xa8\\x91\\xb3\\xa9\\x8d\\xee\\x08\\xdf\\xbd\\\\?\\x0bg\\x86\\xbb\\xbe]\\xfc\\xda\\xe8\\xd3\\x0c\\x92\\xf7\\xa8T@1[\\xf2\\xa0\\x92\\xedA\\x8d:\\xc9\\x83Jo\\xc5W\\xfd\\xe8\\x10\\x8d6\\xbbj\\xd0\\xa8sC\\xad\\xeeK\\xf7\\xa9\\xfb\\x8e\\x87\\x94\\x86?\\xa8l\\n\\xf7\\xaf\\x1b\\xff\\xa3t\\xdd\\xe7\\xce\\x0f7\\xaf]\\x1e\\xee\\xbag+\\\\otP#gS\\x1b\\xe5Ae\\xca\\x8aJ\\xde\\xa3\\xd2\\x1b\\xc5l\\xc9\\x83J\\xb6\\x075\\xea$\\x0f*\\xbd\\xc5Ae\\xc5\\x8a\\x15\\xad\\x95\\x9088\\xa4tXH\\'i\\xd3u4\\xd0H\\xba\\xb16\\x8a\\x1bhE\\xd7\\xd5mh?\\x8a\\xe8\\xb1t\\xf2\\xb7\\xf81=\\xb7*\\xa8Q\\xdb\\xf6k\\xc3\\x98~\\x1e.:?\\xdc\\xffw\\xf0\\xf5\\x11D\\x8d\\x9cMm\\x94\\x07\\x958\\xa8\\xe4=*%P\\xcc\\x96<\\xa8d{P\\xa3N\\xf2\\xa0\\xd2\\xdb\\xdcC\\x0f\\x9a4@\\x88\\x86\\x0b\\r\\x1a\\x1a<\\xea\\xd8\\xb3\\xa2\\xfb\\xd0}\\xe9>;\\r.\\xf4\\xdc\\xaa\\xa0Fm?\\xbe*\\xdc\\xde\\x1aT.\\x0c\\xdf\\xfd1|}\\x04Q#gS\\x1b\\xe5Ae\\xca\\x8aJ\\x1cT\\xfa\\xda\\xa3r\\xc3\\xe5a\\xd7\\x8f\\xef\\x08\\xbb\\x9f|\\xfdN_}t,<\\xf7\\xcdU|\\xfd\\x11\\x91F\\x9c\\xa4=\\xa8\\xac\\x0f\\xffp\\xd7\\xe7\\xc2\\xad\\x9f\\xd1\\x0f\\xd7Y\\xe1\\xd6\\xab\\xaf\\n;\\x1e\\x83\\xeb\\x8f\\x08j\\xf4\\xba\\x95\\xe1\\'\\x7f}Sx\\xf9\\xf1d\\xf9z\\xc7\\x9d\\xe1\\xe7\\xf7~\\x16\\xae;\\x1a\\xd26\\x93m\\x0e;6M\\xfe\\xb9\\xf8\\xe1\\xff4\\x1fT\\xae\\xfet\\xd8\\xf1\\xfdMa\\xf7\\xd3\\x13\\xd7\\x7fzk\\xd8\\xbd\\xe7\\x8f\\xf5\\xc3W\\xbf~\\x9d\\xb8\\x99V\\x0e;\\xec\\xb0\\xf0\\x8do|cb\\xbch\\xee\\xa2\\xc7\\xd0c\\xc5\\xc7\\xdd\\xe7-o\\x9e\\xfc\\xbc\\x07P\\xec\\xd3\\xf6\\xe3k\\xc37\\xd7\\x9e5\\xfe\\xf3\\xd0\\xb66<D\\xd7\\x1d!S\\x1b\\xadn\\xfdL\\xbc:\\xf13\\xf1\\xeaC7\\x85\\x1d\\xdf\\x19\\x1b\\xbf\\xfeO\\xae\\x82\\xeb\\x8f\\x96\\xb4\\xcd\\xb8dP\\xd9|[\\xb8\\xf7\\xcf&\\xf6/\\xad9\\'\\xdc~\\xe3M\\xe1\\xf9\\xa7\\x8a\\xd7\\x1f-\\x9aA\\x06\\xdb\\xa3r\\xf5\\xe5\\xe1\\x85\\'\\xf6\\xdc\\xd9\\x93w\\x87W~\\xba)\\xbc\\xa2\\xffn\\xdd\\xf9\\xa6\\xf0\\xec\\rp\\xfd\\x11Q\\x0c\\xd9\\x16\\x07\\x955{~\\xd9\\xec\\xf9!\\xbay\\xed\\xf9\\xe1\\xc65\\x13\\xbfp\\xd6_\\x1b\\x9e\\xa7\\xdb\\x8c\\x00j\\x14\\xfd\\xf0\\xde\\xb1\\xf0j\\xbc\\xee\\x93[\\xc2\\xab;4\\xb0l\\t/\\xdc\\xc5\\xd7\\x1f\\x05\\xc5>\\xd1\\xf3w\\xad\\x1e\\xffY\\x90K\\xce\\x0f7\\x7fN?\\'\\x13\\x7f\\x98,\\x07\\x95O\\x85g~<1\\xc0\\xee\\x19^_\\xfaq\\xf2;\\xe4\\xe1\\xaf\\x86\\x1fM\\\\\\xef\\xec\\xd3\\x8f\\x0b\\xfb\\xed\\xf3K\\xed\\xa1!\\x9e\\xdfD\\x9b`\\xeb\\xbe\\xe8>\\x8b\\'\\x93\\xd3c\\xeb9L}\\xfe\\xd5\\xa4m&\\xf9\\xc1\\xb5a\\xf35\\x17\\x86\\x1b[?#{\\xfe\\x08]\\xb36l\\xbe\\xe1\\xda\\xf04]w\\x84\\x14\\xfb<\\xf4\\xc0\\x9d\\xaf\\x7f]\\xbf3\\xe2\\x10+\\xe6\\x83J\\xeb\\xf7\\x85\\xf6.}>n\\xb6>3\\x8c\\xddy\\x17\\xdcft\\xe0\\x8aJ\\xd9=*\\xdb\\xae\\xffTx ~\\xbc\\xe7\\xff!\\xbe\\xdc\\xba\\xf3\\xad\\xe1\\xe7[&_o\\x94P\\xcc\\x968\\xa8h\\xd9\\xf6\\xef\\'>\\xf7\\xdd/N\\xfc\\xe2\\xb90<\\xf0\\x93\\xe4\\xba#\\x84\\x1a\\x8d\\xfbl\\xd8\\xb5}\\xe2z?\\xbd\\xaa\\xfd\\x87\\xe7\\x81=?3\\xdb&]o\\xb4\\x14\\xfb\\x8c\\xbb+<\\xf0\\xe5\\xf1_,7\\xdep\\xcb\\xc4\\xab86\\x87\\xbf\\xbf\\xdaxP\\xd9\\xb8!\\xbc\\xd2\\xba\\xce\\x9da\\xd7\\xed\\x13\\x9f\\xbb\\xfa\\xca\\xf0\\xf3\\xd6\\n\\xed\\x9e\\xcfmL\\xae\\xbb\\xc7\\x9a\\xb3Om\\xbdsq\\x1c \\xd2\\xa1E\\xaf\\xde)\\xfb^>\\xba\\xaen\\xa3\\xdb\\x16\\x87\\x13\\xd1c\\xe91\\xd3\\xe7P\\x07j\\xd4f\\x7f\\xe8\\xe7\\xd2\\xf0\\xfc\\xa3\\x13_\\xfb\\xf1\\xfa\\x89\\xdf\\x13\\xab\\xc3s\\x0fO|\\xce}P\\xb9\\xfa\\xda\\xf0bk\\x05\\xc5\\xe3w\\x87\\xa4\\x83J\\xb5=*7\\x7fy\\xfc\\xd0O\\xeb\\xff%O\\xbe\\xf3\\x97\\xee\\x83\\xeb\\x8f\\x88\\xe2\\xf7\\xda\\x16\\x07\\x95\\xb5W&\\xff/\\xe8\\x96pW\\xeb\\x17\\xcf\\xe8\\x1e_\\xa4F\\xe3\\xae\\n/M\\\\g\\x94\\x7f\\x1e\\x8a\\x8a}\\xc6\\xf1\\xcf\\x81\\xf5\\x1e\\x95\\xfb&\\x96\\xf3\\xd1\\xdd\\xe1\\xf9\\xafO\\xbd\\x8d\\xde\\xb9X\\xc3\\x83\\xde\\xc58\\x1d*\\x8a\\xd2\\x97!\\x17\\xd1\\xcb\\x96S\\xbao=\\xc6\\xa0\\xef\\x92\\xdc\\t\\x7f\\xbf\\x13\\xec\\x07\\x15\\xfe\\x9d\\xf1\\xc8\\xf7\\xef\\x1e\\xbf\\xbe\\xf9\\xa0r\\xfb\\xa6;\\xda\\x9fw\\xf8\\xdd!\\xb8\\xa2\\x12\\x07\\x95\\xde{T\\xf6L\\xbe\\x8fO\\xdc\\xd9\\x13ca\\xd7\\xb7\\xae\\x0e\\xcf~\\xeb\\xd6\\x89\\xff\\x87d>\\xa8\\\\\\xfc\\xc5\\xf0X\\xfb\\xf3yP\\xd1u\\xf2\\xa0\\x92\\x07\\x95)\\xda\\x83\\xca\\x9d\\xe1\\x85\\xd6\\xef\\x8f\\xd4\\xfa\\xf0H\\x8f\\xc3\\xc7qhYt\\xe2\\xd1\\xe1\\xa8\\xc3\\x0f\\xc6\\xa1\\xa3\\x1f\\xba\\xad\\xee\\xa3\\xc9\\xe1$U\\xec3I\\x1eT\\xf2\\xa02\\xf1\\xfd\\xbf\\x8e7\\xd3:\\r*\\x03\\xecQ\\x81\\x1f\\xa8\\x9b\\xbf\\x9a\\x07\\x95\\xd6/\\x99\\xdfo\\xbf\\xb4\\xf0\\xa5{/5>\\xf4\\x93,\\xe3N:\\xf4\\xb36<|[\\xf1\\xba\\xa3\\xa3\\xd8g\\xdc\\xeb\\x87~n\\xdd\\xb8i\\xe2s\\xf9\\xd0\\xcf\\xf8\\xef\\x0b\\xedYZ9\\xe9k\\x93\\x0e)\\x97\\xb0a\\xf5\\xb2\\xb0~\\xe5\\x92\\xd6\\xd0\\xb1|\\xf1\\tH_\\xd3ut]\\xba\\x8f\\xa6Q\\xa3\\xb6|\\xe8\\xa7\\xfd;\\xe3\\xd5\\x1f^>\\xf13\\xb0*<\\x15\\xf72\\xe5A\\xa5\\xfdy\\xeb\\x15\\x95){Tvt\\xda\\xa3\\xf2\\xa7\\xe3\\x1biug\\xda\\x08\\xf7\\xd3;&mz\\xf2\\x1eT\\xe4\\xacp\\xe3\\xda\\xe5\\xaf\\x7fl\\xba\\x99v\\xca\\xc6\\xb8\\x89\\xc3\\x84\\x8e?\\x1f\\xafo\\xa6\\xdd\\xf3\\xb3\\xf1\\xf9\\xf3\\xc3\\xcd\\x97\\xec\\x19R\\xf2f\\xda\\x89\\xebm\\r\\xbb\\xb7o\\n/=tgxU{T\\x1e\\xbf)<\\x82\\xb7y\\xe3+\\xf6\\x99\\xc4~P)\\xfc\\xce\\xd8\\xf1\\xfa\\xef\\x8c\\x96<\\xa8\\xb4?\\xef2\\xa8<\\x99\\x0c*\\x1d\\xf7\\xa8\\xe8J\\x14S~t\\xf7M\\xe1\\xe58\\xac<\\xbd%\\xbc\\xfc\\xfd/\\x87G\\xbf7\\xfeC\\xe6<\\xa8\\xdcz\\xfbmS^\\x86\\xea\\xfb\\xf2\\xe4U\\xe1\\xe1\\xfbo\\x9f\\xf4\\x12\\xf6\\xff\\xfb\\xc4\\xa6\\xf0\\x1c\\xec?\\x18\\x15i\\x9b\\xc96\\x87Gn\\xf9T\\xb8\\xb1\\xfdsqmx\\xf6\\xef\\xd6\\x87[m\\x07\\x15Y\\x1dv|ol\\xf2\\xcf\\x87^E\\xf8wW\\x86\\x1f\\xe2\\xf5\\xdf\\xf8\\xd26S\\xe4Ae\\x8f\\xd5\\xe1\\xa9\\x1f\\xed\\x19X\\xdb/O\\xde\\xb0\\xe7\\xdfI>\\xf4\\x93\\x07\\x95.{T\\xba\\r*\\xae(\\xa63j\\xe4\\x8c\\x1a9\\xa3F\\xce\\xa8\\x913jT\\xf4\\xc4\\x0f\\xb7\\x8c_\\xdfrP\\xf1\\xa6\\x19\\xa4\\xc3\\x1e\\x95_\\xb4>\\xa9/\\xe6Ae*\\x8a\\xe9\\x8c\\x1a9\\xa3F\\xce\\xa8\\x913j\\xe4\\xac\\xd8g\\xea\\xe9\\x0b>\\x1bv=2~]\\xed[I\\xaf;\\x8a\\x8a}\\xdcM\\x1eT&\\x0e\\xfdh\\x8f\\x8a\\x8e\\x03iEE_|\\xfa\\xc9\\'0\\xa63\\x8a\\xe9\\x8c\\x1a9\\xa3F\\xce\\xa8\\x913j\\xe4\\xac\\xd8\\xa7\\xf5\\n\\x9f\\xa7\\xb7\\x86W\\x1f\\xdd4\\xf9$\\x80\\xe9\\xf9vFX\\xb1\\x8f\\xbb\\xa7v<\\xde\\x9aE4\\x93hHi\\xaf\\xa8\\xc4A\\xe5\\x9f\\x7f\\xb63\\x0f*\\x80b:\\xa3F\\xce\\xa8\\x913j\\xe4\\x8c\\x1a9+\\xf6\\xf9\\xc9\\xbd\\xb7\\x17\\xce\\xcd\\xa5\\x8d\\xd6\\xb7\\x86g\\xffr\\xb4\\xdf\\x9a%J\\xdbd\\xf7\\xb5f\\x10\\xcd\"\\x9aI&m\\xa6\\xd5\\x07:\\x16\\xf4\\xc2\\xf3\\xbb\\xc23O\\xed\\xc0\\x98\\xce(\\xa63j\\xe4\\x8c\\x1a9\\xa3F\\xce\\xa8\\x913j\\xe4\\x8c\\x1a9\\xd3\\x0c\\xf2\\xc2?\\xff,\\xbc\\xfc\\x8b\\x17_\\x1fTt\\xe8G\\xff\\xa1O\\xbe\\xf8\\xcf\\xcf\\x87g\\x9fy:l\\xff\\xc7\\x87\\xc2\\xff\\xfa\\xc1\\xf7\\xc3\\x96-\\x9b\\xc3\\xed\\xb7\\xdd\\x1a6\\xfe\\xcf[Zn\\xbd\\xe5\\xe6,\\xcb\\xb2,\\xcb\\xb2\\x81\\xc4\\xb9B3\\x86f\\r\\xcd\\x1c\\x9a=4\\x83h\\x16\\xd1L\\xa2\\xd9D3\\xca^\\xff\\xfa\\x7f\\xfe\\xa5\\xf5A|\\x89\\xf2\\xae\\xe7\\x9e\\rO<\\xfeX\\xf8\\xc7\\x9f\\xfeC\\xf8\\xbb\\xefo\\x0b\\xff\\xdf\\xdf\\xde\\x1f\\xfe\\xf6;\\xdf\\x0e\\x7f{\\xff\\xb7\\xc6\\xa5\\xff\\x9d?\\xce\\x1f\\xe7\\x8f\\xf3\\xc7\\xf9\\xe3\\xfcq\\xfe8\\x7f\\\\\\xe5\\xe3=\\xf3\\xc5w\\xbfs\\x7fk\\xd6\\xd0\\xcc\\xb1c\\xcf\\xec\\xb1\\xf3\\x9f\\xfew\\xfb\\x15?\\x1aRZ\\x83J\\xfc\\x8f\\xb8\\xaa\\xa2\\xc3?\\xff\\xf4\\xbf\\x9fi\\x1d\\'z\\xe2\\xb1G\\xc3\\xe3\\x8f>\\xb2\\xc7\\xf6\\xf0\\x98<\\xf2p\\x96eY\\x96e\\xd9`\\xf6\\xcc\\x14\\x9a-4ch\\xd6\\xd0\\xcc\\xa1\\xd9C3H\\xba\\x9a2iP\\xd1\\xca\\x8a\\x8e\\x07\\xc5C@\\xba\\xb2v\\xde\\xea\\xdc*\\xa2\\xff\\xd6jK\\xa4\\xcf\\xe5\\x8f\\xf3\\xc7\\xf9\\xe3\\xfcq\\xfe8\\x7f\\x9c?\\xce\\x1f\\x97\\xfd8\\xa5\\xcd\\xb3R<\\xe4\\xd3\\x1eT4\\xa0\\xa4\\x9f\\xd0\\xb0\\x12\\x07\\x16\\xd1\\xce\\xdb,\\xcb\\xb2,\\xcb\\xb2&\\xc4y#\\xce\\x1f\\xe9L\\xa2\\x19e\\xafWw\\xbf\\xd2\\xfa\\x8f\\xf4\\x93\\xfa_M4q\\xaa\\x89\\xff\\x9d?\\xce\\x1f\\xe7\\x8f\\xf3\\xc7\\xf9\\xe3\\xfcq\\xfe8\\x7f\\xdc\\xc4\\xc7\\xc5\\x85\\x93\\xf1\\xf9\\xe4_\\xc2\\xff\\x0f\\xb6c\\xec\\x8d\\x90:\\x87\\xf5\\x00\\x00\\x00\\x00IEND\\xaeB`\\x82'}"
            ]
          },
          "metadata": {},
          "execution_count": 50
        }
      ]
    },
    {
      "cell_type": "code",
      "source": [
        "from PIL import Image\n",
        "\n",
        "img = Image.open(\"/content/test3.png\").convert(\"RGB\")\n",
        "img = img.resize((400, 400))\n",
        "img.save(\"/content/test3_400x400.png\")\n"
      ],
      "metadata": {
        "id": "qZAwypWAjt7U"
      },
      "execution_count": 52,
      "outputs": []
    },
    {
      "cell_type": "code",
      "source": [
        "fen = reconstruir_fen_con_empty(\"/content/test3_400x400.png\", model, train_gen.class_indices)\n",
        "print(\"FEN reconstruida:\", fen)\n"
      ],
      "metadata": {
        "colab": {
          "base_uri": "https://localhost:8080/"
        },
        "id": "2cE1VUtojSJZ",
        "outputId": "d3aa2ebd-15be-4fdf-b701-f957840baf54"
      },
      "execution_count": 54,
      "outputs": [
        {
          "output_type": "stream",
          "name": "stdout",
          "text": [
            "\u001b[1m1/1\u001b[0m \u001b[32m━━━━━━━━━━━━━━━━━━━━\u001b[0m\u001b[37m\u001b[0m \u001b[1m0s\u001b[0m 37ms/step\n",
            "\u001b[1m1/1\u001b[0m \u001b[32m━━━━━━━━━━━━━━━━━━━━\u001b[0m\u001b[37m\u001b[0m \u001b[1m0s\u001b[0m 34ms/step\n",
            "\u001b[1m1/1\u001b[0m \u001b[32m━━━━━━━━━━━━━━━━━━━━\u001b[0m\u001b[37m\u001b[0m \u001b[1m0s\u001b[0m 37ms/step\n",
            "\u001b[1m1/1\u001b[0m \u001b[32m━━━━━━━━━━━━━━━━━━━━\u001b[0m\u001b[37m\u001b[0m \u001b[1m0s\u001b[0m 33ms/step\n",
            "\u001b[1m1/1\u001b[0m \u001b[32m━━━━━━━━━━━━━━━━━━━━\u001b[0m\u001b[37m\u001b[0m \u001b[1m0s\u001b[0m 31ms/step\n",
            "\u001b[1m1/1\u001b[0m \u001b[32m━━━━━━━━━━━━━━━━━━━━\u001b[0m\u001b[37m\u001b[0m \u001b[1m0s\u001b[0m 31ms/step\n",
            "\u001b[1m1/1\u001b[0m \u001b[32m━━━━━━━━━━━━━━━━━━━━\u001b[0m\u001b[37m\u001b[0m \u001b[1m0s\u001b[0m 44ms/step\n",
            "\u001b[1m1/1\u001b[0m \u001b[32m━━━━━━━━━━━━━━━━━━━━\u001b[0m\u001b[37m\u001b[0m \u001b[1m0s\u001b[0m 47ms/step\n",
            "\u001b[1m1/1\u001b[0m \u001b[32m━━━━━━━━━━━━━━━━━━━━\u001b[0m\u001b[37m\u001b[0m \u001b[1m0s\u001b[0m 63ms/step\n",
            "\u001b[1m1/1\u001b[0m \u001b[32m━━━━━━━━━━━━━━━━━━━━\u001b[0m\u001b[37m\u001b[0m \u001b[1m0s\u001b[0m 32ms/step\n",
            "\u001b[1m1/1\u001b[0m \u001b[32m━━━━━━━━━━━━━━━━━━━━\u001b[0m\u001b[37m\u001b[0m \u001b[1m0s\u001b[0m 54ms/step\n",
            "\u001b[1m1/1\u001b[0m \u001b[32m━━━━━━━━━━━━━━━━━━━━\u001b[0m\u001b[37m\u001b[0m \u001b[1m0s\u001b[0m 35ms/step\n",
            "\u001b[1m1/1\u001b[0m \u001b[32m━━━━━━━━━━━━━━━━━━━━\u001b[0m\u001b[37m\u001b[0m \u001b[1m0s\u001b[0m 32ms/step\n",
            "\u001b[1m1/1\u001b[0m \u001b[32m━━━━━━━━━━━━━━━━━━━━\u001b[0m\u001b[37m\u001b[0m \u001b[1m0s\u001b[0m 46ms/step\n",
            "\u001b[1m1/1\u001b[0m \u001b[32m━━━━━━━━━━━━━━━━━━━━\u001b[0m\u001b[37m\u001b[0m \u001b[1m0s\u001b[0m 41ms/step\n",
            "\u001b[1m1/1\u001b[0m \u001b[32m━━━━━━━━━━━━━━━━━━━━\u001b[0m\u001b[37m\u001b[0m \u001b[1m0s\u001b[0m 49ms/step\n",
            "\u001b[1m1/1\u001b[0m \u001b[32m━━━━━━━━━━━━━━━━━━━━\u001b[0m\u001b[37m\u001b[0m \u001b[1m0s\u001b[0m 69ms/step\n",
            "\u001b[1m1/1\u001b[0m \u001b[32m━━━━━━━━━━━━━━━━━━━━\u001b[0m\u001b[37m\u001b[0m \u001b[1m0s\u001b[0m 56ms/step\n",
            "\u001b[1m1/1\u001b[0m \u001b[32m━━━━━━━━━━━━━━━━━━━━\u001b[0m\u001b[37m\u001b[0m \u001b[1m0s\u001b[0m 47ms/step\n",
            "\u001b[1m1/1\u001b[0m \u001b[32m━━━━━━━━━━━━━━━━━━━━\u001b[0m\u001b[37m\u001b[0m \u001b[1m0s\u001b[0m 51ms/step\n",
            "\u001b[1m1/1\u001b[0m \u001b[32m━━━━━━━━━━━━━━━━━━━━\u001b[0m\u001b[37m\u001b[0m \u001b[1m0s\u001b[0m 68ms/step\n",
            "\u001b[1m1/1\u001b[0m \u001b[32m━━━━━━━━━━━━━━━━━━━━\u001b[0m\u001b[37m\u001b[0m \u001b[1m0s\u001b[0m 56ms/step\n",
            "\u001b[1m1/1\u001b[0m \u001b[32m━━━━━━━━━━━━━━━━━━━━\u001b[0m\u001b[37m\u001b[0m \u001b[1m0s\u001b[0m 51ms/step\n",
            "\u001b[1m1/1\u001b[0m \u001b[32m━━━━━━━━━━━━━━━━━━━━\u001b[0m\u001b[37m\u001b[0m \u001b[1m0s\u001b[0m 69ms/step\n",
            "\u001b[1m1/1\u001b[0m \u001b[32m━━━━━━━━━━━━━━━━━━━━\u001b[0m\u001b[37m\u001b[0m \u001b[1m0s\u001b[0m 55ms/step\n",
            "\u001b[1m1/1\u001b[0m \u001b[32m━━━━━━━━━━━━━━━━━━━━\u001b[0m\u001b[37m\u001b[0m \u001b[1m0s\u001b[0m 60ms/step\n",
            "\u001b[1m1/1\u001b[0m \u001b[32m━━━━━━━━━━━━━━━━━━━━\u001b[0m\u001b[37m\u001b[0m \u001b[1m0s\u001b[0m 64ms/step\n",
            "\u001b[1m1/1\u001b[0m \u001b[32m━━━━━━━━━━━━━━━━━━━━\u001b[0m\u001b[37m\u001b[0m \u001b[1m0s\u001b[0m 64ms/step\n",
            "\u001b[1m1/1\u001b[0m \u001b[32m━━━━━━━━━━━━━━━━━━━━\u001b[0m\u001b[37m\u001b[0m \u001b[1m0s\u001b[0m 97ms/step\n",
            "\u001b[1m1/1\u001b[0m \u001b[32m━━━━━━━━━━━━━━━━━━━━\u001b[0m\u001b[37m\u001b[0m \u001b[1m0s\u001b[0m 55ms/step\n",
            "\u001b[1m1/1\u001b[0m \u001b[32m━━━━━━━━━━━━━━━━━━━━\u001b[0m\u001b[37m\u001b[0m \u001b[1m0s\u001b[0m 59ms/step\n",
            "\u001b[1m1/1\u001b[0m \u001b[32m━━━━━━━━━━━━━━━━━━━━\u001b[0m\u001b[37m\u001b[0m \u001b[1m0s\u001b[0m 58ms/step\n",
            "\u001b[1m1/1\u001b[0m \u001b[32m━━━━━━━━━━━━━━━━━━━━\u001b[0m\u001b[37m\u001b[0m \u001b[1m0s\u001b[0m 114ms/step\n",
            "\u001b[1m1/1\u001b[0m \u001b[32m━━━━━━━━━━━━━━━━━━━━\u001b[0m\u001b[37m\u001b[0m \u001b[1m0s\u001b[0m 53ms/step\n",
            "\u001b[1m1/1\u001b[0m \u001b[32m━━━━━━━━━━━━━━━━━━━━\u001b[0m\u001b[37m\u001b[0m \u001b[1m0s\u001b[0m 174ms/step\n",
            "\u001b[1m1/1\u001b[0m \u001b[32m━━━━━━━━━━━━━━━━━━━━\u001b[0m\u001b[37m\u001b[0m \u001b[1m0s\u001b[0m 57ms/step\n",
            "\u001b[1m1/1\u001b[0m \u001b[32m━━━━━━━━━━━━━━━━━━━━\u001b[0m\u001b[37m\u001b[0m \u001b[1m0s\u001b[0m 65ms/step\n",
            "\u001b[1m1/1\u001b[0m \u001b[32m━━━━━━━━━━━━━━━━━━━━\u001b[0m\u001b[37m\u001b[0m \u001b[1m0s\u001b[0m 76ms/step\n",
            "\u001b[1m1/1\u001b[0m \u001b[32m━━━━━━━━━━━━━━━━━━━━\u001b[0m\u001b[37m\u001b[0m \u001b[1m0s\u001b[0m 57ms/step\n",
            "\u001b[1m1/1\u001b[0m \u001b[32m━━━━━━━━━━━━━━━━━━━━\u001b[0m\u001b[37m\u001b[0m \u001b[1m0s\u001b[0m 58ms/step\n",
            "\u001b[1m1/1\u001b[0m \u001b[32m━━━━━━━━━━━━━━━━━━━━\u001b[0m\u001b[37m\u001b[0m \u001b[1m0s\u001b[0m 42ms/step\n",
            "\u001b[1m1/1\u001b[0m \u001b[32m━━━━━━━━━━━━━━━━━━━━\u001b[0m\u001b[37m\u001b[0m \u001b[1m0s\u001b[0m 99ms/step\n",
            "\u001b[1m1/1\u001b[0m \u001b[32m━━━━━━━━━━━━━━━━━━━━\u001b[0m\u001b[37m\u001b[0m \u001b[1m0s\u001b[0m 74ms/step\n",
            "\u001b[1m1/1\u001b[0m \u001b[32m━━━━━━━━━━━━━━━━━━━━\u001b[0m\u001b[37m\u001b[0m \u001b[1m0s\u001b[0m 45ms/step\n",
            "\u001b[1m1/1\u001b[0m \u001b[32m━━━━━━━━━━━━━━━━━━━━\u001b[0m\u001b[37m\u001b[0m \u001b[1m0s\u001b[0m 87ms/step\n",
            "\u001b[1m1/1\u001b[0m \u001b[32m━━━━━━━━━━━━━━━━━━━━\u001b[0m\u001b[37m\u001b[0m \u001b[1m0s\u001b[0m 105ms/step\n",
            "\u001b[1m1/1\u001b[0m \u001b[32m━━━━━━━━━━━━━━━━━━━━\u001b[0m\u001b[37m\u001b[0m \u001b[1m0s\u001b[0m 74ms/step\n",
            "\u001b[1m1/1\u001b[0m \u001b[32m━━━━━━━━━━━━━━━━━━━━\u001b[0m\u001b[37m\u001b[0m \u001b[1m0s\u001b[0m 45ms/step\n",
            "\u001b[1m1/1\u001b[0m \u001b[32m━━━━━━━━━━━━━━━━━━━━\u001b[0m\u001b[37m\u001b[0m \u001b[1m0s\u001b[0m 46ms/step\n",
            "\u001b[1m1/1\u001b[0m \u001b[32m━━━━━━━━━━━━━━━━━━━━\u001b[0m\u001b[37m\u001b[0m \u001b[1m0s\u001b[0m 61ms/step\n",
            "\u001b[1m1/1\u001b[0m \u001b[32m━━━━━━━━━━━━━━━━━━━━\u001b[0m\u001b[37m\u001b[0m \u001b[1m0s\u001b[0m 177ms/step\n",
            "\u001b[1m1/1\u001b[0m \u001b[32m━━━━━━━━━━━━━━━━━━━━\u001b[0m\u001b[37m\u001b[0m \u001b[1m0s\u001b[0m 100ms/step\n",
            "\u001b[1m1/1\u001b[0m \u001b[32m━━━━━━━━━━━━━━━━━━━━\u001b[0m\u001b[37m\u001b[0m \u001b[1m0s\u001b[0m 44ms/step\n",
            "\u001b[1m1/1\u001b[0m \u001b[32m━━━━━━━━━━━━━━━━━━━━\u001b[0m\u001b[37m\u001b[0m \u001b[1m0s\u001b[0m 52ms/step\n",
            "\u001b[1m1/1\u001b[0m \u001b[32m━━━━━━━━━━━━━━━━━━━━\u001b[0m\u001b[37m\u001b[0m \u001b[1m0s\u001b[0m 50ms/step\n",
            "\u001b[1m1/1\u001b[0m \u001b[32m━━━━━━━━━━━━━━━━━━━━\u001b[0m\u001b[37m\u001b[0m \u001b[1m0s\u001b[0m 44ms/step\n",
            "\u001b[1m1/1\u001b[0m \u001b[32m━━━━━━━━━━━━━━━━━━━━\u001b[0m\u001b[37m\u001b[0m \u001b[1m0s\u001b[0m 51ms/step\n",
            "\u001b[1m1/1\u001b[0m \u001b[32m━━━━━━━━━━━━━━━━━━━━\u001b[0m\u001b[37m\u001b[0m \u001b[1m0s\u001b[0m 49ms/step\n",
            "\u001b[1m1/1\u001b[0m \u001b[32m━━━━━━━━━━━━━━━━━━━━\u001b[0m\u001b[37m\u001b[0m \u001b[1m0s\u001b[0m 45ms/step\n",
            "\u001b[1m1/1\u001b[0m \u001b[32m━━━━━━━━━━━━━━━━━━━━\u001b[0m\u001b[37m\u001b[0m \u001b[1m0s\u001b[0m 51ms/step\n",
            "\u001b[1m1/1\u001b[0m \u001b[32m━━━━━━━━━━━━━━━━━━━━\u001b[0m\u001b[37m\u001b[0m \u001b[1m0s\u001b[0m 48ms/step\n",
            "\u001b[1m1/1\u001b[0m \u001b[32m━━━━━━━━━━━━━━━━━━━━\u001b[0m\u001b[37m\u001b[0m \u001b[1m0s\u001b[0m 47ms/step\n",
            "\u001b[1m1/1\u001b[0m \u001b[32m━━━━━━━━━━━━━━━━━━━━\u001b[0m\u001b[37m\u001b[0m \u001b[1m0s\u001b[0m 50ms/step\n",
            "\u001b[1m1/1\u001b[0m \u001b[32m━━━━━━━━━━━━━━━━━━━━\u001b[0m\u001b[37m\u001b[0m \u001b[1m0s\u001b[0m 49ms/step\n",
            "FEN reconstruida: 8/5PP1/3q4/p6b/1B4n1/1Rn2p2/8/4K3\n"
          ]
        }
      ]
    }
  ]
}